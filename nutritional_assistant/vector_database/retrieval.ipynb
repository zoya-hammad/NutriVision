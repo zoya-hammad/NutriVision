{
 "cells": [
  {
   "cell_type": "code",
   "execution_count": null,
   "metadata": {},
   "outputs": [],
   "source": [
    "import sys\n",
    "import os\n",
    "sys.path.append('..')\n",
    "from dotenv import load_dotenv\n",
    "import openai\n",
    "\n",
    "from agents.recipe_agent import RecipeRecommendationAgent\n",
    "from agents.gi_agent import GlycemicIndexAgent"
   ]
  },
  {
   "cell_type": "code",
   "execution_count": null,
   "metadata": {},
   "outputs": [],
   "source": [
    "# Load environment variables\n",
    "load_dotenv()\n",
    "openai.api_key = os.getenv('OPENAI_API_KEY')"
   ]
  },
  {
   "cell_type": "code",
   "execution_count": null,
   "metadata": {},
   "outputs": [],
   "source": [
    "# Initialize agents\n",
    "recipe_agent = RecipeRecommendationAgent()\n",
    "gi_agent = GlycemicIndexAgent()"
   ]
  },
  {
   "cell_type": "code",
   "execution_count": null,
   "metadata": {},
   "outputs": [],
   "source": [
    "def get_recipe_recommendation(user_query: str) -> dict:\n",
    "    \"\"\"\n",
    "    Get recipe recommendation with glycemic load analysis.\n",
    "    \n",
    "    Args:\n",
    "        user_query (str): User's recipe request\n",
    "        \n",
    "    Returns:\n",
    "        dict: Recipe recommendation with nutritional analysis\n",
    "    \"\"\"\n",
    "    # Step 1: Get recipe recommendations\n",
    "    recipe_result = recipe_agent.process(user_query)\n",
    "    \n",
    "    if \"error\" in recipe_result:\n",
    "        return recipe_result\n",
    "    \n",
    "    # Step 2: Analyze recipes for glycemic load\n",
    "    gi_result = gi_agent.process(recipe_result)\n",
    "    \n",
    "    return gi_result"
   ]
  },
  {
   "cell_type": "code",
   "execution_count": null,
   "metadata": {},
   "outputs": [],
   "source": [
    "# Example usage\n",
    "user_query = \"I need a healthy dinner recipe that's low in carbs and high in protein\"\n",
    "result = get_recipe_recommendation(user_query)\n",
    "\n",
    "if \"error\" in result:\n",
    "    print(f\"Error: {result['error']}\")\n",
    "else:\n",
    "    # Print the best recipe recommendation\n",
    "    print(\"Best Recipe Recommendation:\")\n",
    "    print(\"-\" * 50)\n",
    "    best_recipe = result['best_recipe']\n",
    "    print(f\"Title: {best_recipe['title']}\")\n",
    "    print(f\"\\nIngredients:\")\n",
    "    for ingredient in best_recipe['ingredients']:\n",
    "        print(f\"- {ingredient}\")\n",
    "    print(f\"\\nInstructions:\")\n",
    "    for i, instruction in enumerate(best_recipe['instructions'], 1):\n",
    "        print(f\"{i}. {instruction}\")\n",
    "    \n",
    "    print(f\"\\nNutritional Information:\")\n",
    "    nutrition = best_recipe['nutrition']\n",
    "    print(f\"Calories: {nutrition['total_calories']} kcal\")\n",
    "    print(f\"Protein: {nutrition['total_protein']}g\")\n",
    "    print(f\"Carbs: {nutrition['total_carbs']}g\")\n",
    "    print(f\"Fiber: {nutrition['total_fiber']}g\")\n",
    "    print(f\"Fat: {nutrition['total_fat']}g\")\n",
    "    print(f\"Glycemic Load: {nutrition['glycemic_load']}\")\n",
    "    \n",
    "    if nutrition['unmatched_ingredients']:\n",
    "        print(f\"\\nNote: Could not find nutritional information for: {', '.join(nutrition['unmatched_ingredients'])}\")"
   ]
  }
 ],
 "metadata": {
  "kernelspec": {
   "display_name": "Python 3",
   "language": "python",
   "name": "python3"
  },
  "language_info": {
   "codemirror_mode": {
    "name": "ipython",
    "version": 3
   },
   "file_extension": ".py",
   "mimetype": "text/x-python",
   "name": "python",
   "nbconvert_exporter": "python",
   "pygments_lexer": "ipython3",
   "version": "3.11.12"
  }
 },
 "nbformat": 4,
 "nbformat_minor": 4
}