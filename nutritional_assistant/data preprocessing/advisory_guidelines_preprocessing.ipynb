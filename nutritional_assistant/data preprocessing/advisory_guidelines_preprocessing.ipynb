{
 "cells": [
  {
   "cell_type": "markdown",
   "id": "94899cc2-a071-45f8-9012-26b28fcd606c",
   "metadata": {},
   "source": [
    "### Imports and Directory"
   ]
  },
  {
   "cell_type": "code",
   "execution_count": 3,
   "id": "453714ac-aab0-4060-9b46-f3f493a67d70",
   "metadata": {},
   "outputs": [],
   "source": [
    "import os\n",
    "from pypdf import PdfReader\n",
    "import re"
   ]
  },
  {
   "cell_type": "code",
   "execution_count": 2,
   "id": "2567020b-400e-40d8-9115-92d711c3be7a",
   "metadata": {},
   "outputs": [
    {
     "name": "stdout",
     "output_type": "stream",
     "text": [
      "Collecting pypdf\n",
      "  Downloading pypdf-5.4.0-py3-none-any.whl.metadata (7.3 kB)\n",
      "Downloading pypdf-5.4.0-py3-none-any.whl (302 kB)\n",
      "Installing collected packages: pypdf\n",
      "Successfully installed pypdf-5.4.0\n"
     ]
    }
   ],
   "source": [
    "!pip install pypdf"
   ]
  },
  {
   "cell_type": "code",
   "execution_count": 4,
   "id": "7990c439-be3c-4363-b3ed-e1121f37c2c3",
   "metadata": {},
   "outputs": [],
   "source": [
    "# Create output for chunk processing\n",
    "\n",
    "os.makedirs('processed_chunks', exist_ok=True)"
   ]
  },
  {
   "cell_type": "code",
   "execution_count": 5,
   "id": "949e556c-b522-46df-8bef-384ec909ef20",
   "metadata": {},
   "outputs": [],
   "source": [
    "pdf_path = \"Advisory-report-Dutch-dietary-guidelines-for-people-with-type-2-diabetes.pdf\""
   ]
  },
  {
   "cell_type": "markdown",
   "id": "c721ca44-3c1b-4da2-887a-4496638a638d",
   "metadata": {},
   "source": [
    "### Text Extraction"
   ]
  },
  {
   "cell_type": "code",
   "execution_count": 7,
   "id": "17e0c775-276b-4422-b8f7-12860adbfa57",
   "metadata": {},
   "outputs": [
    {
     "name": "stdout",
     "output_type": "stream",
     "text": [
      "Extracting text from Advisory-report-Dutch-dietary-guidelines-for-people-with-type-2-diabetes.pdf...\n",
      "Text extraction complete\n"
     ]
    }
   ],
   "source": [
    "print(f\"Extracting text from {pdf_path}...\")\n",
    "all_text = \"\"\n",
    "reader = PdfReader(pdf_path)\n",
    "    \n",
    "for page_num in range(len(reader.pages)):\n",
    "    if page_num < 2 or page_num >= 43:  # 0-indexed, so 0-1 and 43+ pages\n",
    "        continue       \n",
    "    page_text = reader.pages[page_num].extract_text()\n",
    "    all_text += page_text + \"\\n\\n\"\n",
    "\n",
    "print(\"Text extraction complete\")"
   ]
  },
  {
   "cell_type": "markdown",
   "id": "84bacad9-3a84-4a38-bfac-5390f6f16575",
   "metadata": {},
   "source": [
    "### Cleaning"
   ]
  },
  {
   "cell_type": "code",
   "execution_count": 8,
   "id": "dc56f435-a479-4dad-8cbb-161de6ea88c8",
   "metadata": {},
   "outputs": [],
   "source": [
    "def clean_basic_text(text):\n",
    "\n",
    "    # Remove headers like \"Health Council of the Netherlands | No. 2021/41e\"\n",
    "    text = re.sub(r'Health Council of the Netherlands \\| No\\. 2021\\/41e', '', text)\n",
    "    \n",
    "    # Remove page indicators like \"Dutch dietary guidelines for people with type 2 diabetes | page x of 53\"\n",
    "    text = re.sub(r'Dutch dietary guidelines for people with type 2 diabetes \\| page \\d+ of \\d+', '', text)\n",
    "   \n",
    "    return text.strip()"
   ]
  },
  {
   "cell_type": "code",
   "execution_count": 9,
   "id": "4e20ef79-61a5-4a5b-ba0d-e28e463d2a1f",
   "metadata": {},
   "outputs": [],
   "source": [
    "clean_text = clean_basic_text(all_text)"
   ]
  },
  {
   "cell_type": "code",
   "execution_count": 10,
   "id": "f4a20f8a-d007-42f0-ba56-3454cdadab76",
   "metadata": {},
   "outputs": [],
   "source": [
    "with open(\"processed_data/cleaned_dietary_guidelines.txt\", \"w\", encoding=\"utf-8\") as f:\n",
    "    f.write(clean_text)"
   ]
  },
  {
   "cell_type": "code",
   "execution_count": null,
   "id": "7043f614-720f-4c00-86ee-f97bbe53e21c",
   "metadata": {},
   "outputs": [],
   "source": []
  }
 ],
 "metadata": {
  "kernelspec": {
   "display_name": "Python 3 (ipykernel)",
   "language": "python",
   "name": "python3"
  },
  "language_info": {
   "codemirror_mode": {
    "name": "ipython",
    "version": 3
   },
   "file_extension": ".py",
   "mimetype": "text/x-python",
   "name": "python",
   "nbconvert_exporter": "python",
   "pygments_lexer": "ipython3",
   "version": "3.11.12"
  }
 },
 "nbformat": 4,
 "nbformat_minor": 5
}
