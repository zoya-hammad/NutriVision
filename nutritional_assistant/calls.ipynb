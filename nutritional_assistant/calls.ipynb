{
 "cells": [
  {
   "cell_type": "code",
   "execution_count": 11,
   "id": "e898de71-dd18-4360-8448-de507bafb56f",
   "metadata": {},
   "outputs": [],
   "source": [
    "import sys\n",
    "import os\n",
    "from dotenv import load_dotenv\n",
    "import openai"
   ]
  },
  {
   "cell_type": "code",
   "execution_count": 12,
   "id": "a55effda-f5f1-4a01-b7de-1ff39853a04e",
   "metadata": {},
   "outputs": [],
   "source": [
    "from agents.recipe_agent import RecipeRecommendationAgent\n",
    "from agents.gi_agent import GlycemicIndexAgent"
   ]
  },
  {
   "cell_type": "code",
   "execution_count": 13,
   "id": "b91f0064-4f6f-4d57-b363-36ca900454d6",
   "metadata": {},
   "outputs": [],
   "source": [
    "# Load environment variables\n",
    "load_dotenv()\n",
    "openai.api_key = os.getenv('OPENAI_API_KEY')"
   ]
  },
  {
   "cell_type": "code",
   "execution_count": 14,
   "id": "2c960a7d-6796-43c0-b114-dddc29daee40",
   "metadata": {},
   "outputs": [
    {
     "name": "stdout",
     "output_type": "stream",
     "text": [
      "Connecting to vector database...\n",
      "Connected to vector database successfully\n",
      "Successfully loaded dietary guidelines\n",
      "Successfully loaded food data with 5000 entries\n"
     ]
    }
   ],
   "source": [
    "# Initialize agents\n",
    "recipe_agent = RecipeRecommendationAgent()\n",
    "gi_agent = GlycemicIndexAgent()"
   ]
  },
  {
   "cell_type": "code",
   "execution_count": 15,
   "id": "f3ec4057-a7be-4d47-8c79-d82db0d1f71b",
   "metadata": {},
   "outputs": [],
   "source": [
    "def get_recipe_recommendation(user_query: str) -> dict:\n",
    "    \"\"\"\n",
    "    Get recipe recommendation with glycemic load analysis.\n",
    "    \n",
    "    Args:\n",
    "        user_query (str): User's recipe request\n",
    "        \n",
    "    Returns:\n",
    "        dict: Recipe recommendation with nutritional analysis\n",
    "    \"\"\"\n",
    "    # Step 1: Get recipe recommendations\n",
    "    recipe_result = recipe_agent.process(user_query)\n",
    "    \n",
    "    if \"error\" in recipe_result:\n",
    "        return recipe_result\n",
    "    \n",
    "    # Step 2: Analyze recipes for glycemic load\n",
    "    gi_result = gi_agent.process(recipe_result)\n",
    "\n",
    "    return gi_result"
   ]
  },
  {
   "cell_type": "code",
   "execution_count": 17,
   "id": "0a6b3c81-9cd7-457b-aed7-faf89c84c6fb",
   "metadata": {},
   "outputs": [
    {
     "name": "stdout",
     "output_type": "stream",
     "text": [
      "Processing query: I want dinner\n",
      "Starting recipe search for query: 'I want dinner'\n",
      "Found 5 results\n",
      "Successfully parsed recipe: turkey tagine with brown rice\n",
      "Successfully parsed recipe: greek style fish stew\n",
      "Successfully parsed recipe: buffalo chicken mac & cheese\n",
      "Successfully parsed recipe: lamb and bean stew\n",
      "Successfully parsed recipe: one-pot buffalo chicken mac & cheese with broccoli\n",
      "Recipe recommendations generated successfully\n",
      "\n",
      "\n",
      "\n",
      " Result : {'analyzed_recipes': [{'title': 'turkey tagine with brown rice', 'ingredients': ['1 tablespoon olive oil', '240g turkey cubes', '¼ cup black olives', '¼ cup green pepper diced', '¼ cup red pepper diced', '¼ cup yellow pepper diced', '¼ cup red onion diced', '1 carrot diced', '1 cup chickpeas', '1 teaspoon mild curry powder', '1 teaspoon ground coriander', '1 teaspoon black pepper', '½ teaspoon salt', '1½ cup chicken stock', '½ cup brown rice'], 'instructions': ['heat the oil in a large saucepan, add turkey chunks and sauté for 5-10mins. then add in your vegetables and chickpeas.', 'add your spices and continue to cook for 5 minutes.', 'pour in chicken stock and simmer for 10 minutes until turkey is tender and sauce thickens.', 'cook the brown rice according to the packaging instructions and set aside when rice is fully cooked. serve and garnish with parsley or coriander. serve with the turkey tagine.'], 'nutrition': {'total_calories': 0, 'total_protein': 0, 'total_carbs': 0, 'total_fat': 0, 'total_fiber': 0, 'average_gi': 0.0, 'glycemic_load': 0, 'matched_ingredients': [], 'unmatched_ingredients': ['1 tablespoon olive oil', '240g turkey cubes', '¼ cup black olives', '¼ cup green pepper diced', '¼ cup red pepper diced', '¼ cup yellow pepper diced', '¼ cup red onion diced', '1 carrot diced', '1 cup chickpeas', '1 teaspoon mild curry powder', '1 teaspoon ground coriander', '1 teaspoon black pepper', '½ teaspoon salt', '1½ cup chicken stock', '½ cup brown rice']}}, {'title': 'greek style fish stew', 'ingredients': ['2 tablespoons olive oil', 'plus extra to drizzle (optional)', '1 large onion', 'finely chopped', '1 carrot', 'peeled and finely chopped', '2 celery sticks', 'finely chopped', 'any leaves roughly chopped', '4 garlic cloves', 'finely sliced', '2 cups cherry tomatoes', '15g fresh flat-leaf parsley', 'stalks finely chopped', 'leaves roughly chopped', '500g potatoes', 'peeled and cut into 2cm chunks', '500g pack frozen hake fillets', '1 lemon', 'zested and cut into 6 wedges', 'whole wheat crusty bread', 'to serve (optional)'], 'instructions': ['heat the oil in a flameproof casserole dish or large, lidded saucepan over a medium heat and fry the onion, carrot, celery and garlic for 12-15 mins until softened. meanwhile, halve the tomatoes widthways and coarsely grate using a box grater set over a bowl (discard the skin). add to the pan with the parsley stalks, potatoes and 250ml water.', 'season well, partially cover the pan and bring to a brisk simmer. cook for 20 mins, stirring occasionally, or until thickened slightly and the potatoes are tender.', 'add the frozen fish, cover and return to a simmer. cook for 10-15 mins or until the fish flakes. stir in the lemon zest and the juice of 2 lemon wedges, gently breaking up the fish a little with the spoon. scatter with the celery and parsley leaves. drizzle with a little more oil and serve with crusty bread, if you like, and the remaining lemon wedges for squeezing over.'], 'nutrition': {'total_calories': 0, 'total_protein': 0, 'total_carbs': 0, 'total_fat': 0, 'total_fiber': 0, 'average_gi': 0.0, 'glycemic_load': 0, 'matched_ingredients': [], 'unmatched_ingredients': ['2 tablespoons olive oil', 'plus extra to drizzle (optional)', '1 large onion', 'finely chopped', '1 carrot', 'peeled and finely chopped', '2 celery sticks', 'finely chopped', 'any leaves roughly chopped', '4 garlic cloves', 'finely sliced', '2 cups cherry tomatoes', '15g fresh flat-leaf parsley', 'stalks finely chopped', 'leaves roughly chopped', '500g potatoes', 'peeled and cut into 2cm chunks', '500g pack frozen hake fillets', '1 lemon', 'zested and cut into 6 wedges', 'whole wheat crusty bread', 'to serve (optional)']}}, {'title': 'buffalo chicken mac & cheese', 'ingredients': ['3 cups boneless', 'skinless chicken breast', 'trimmed and cubed', '1 teaspoon dried parsley', '1/2 teaspoon garlic powder', '1/2 teaspoon onion powder', '1/4 teaspoon salt', '1/4 teaspoon ground pepper', '1 tablespoon extra-virgin olive oil', '1 3/4 cups low fat milk', 'divided', '1 1/2 cups chicken stock', '1 ½ cups whole -wheat penne pasta', '1 1/2 cups bite-size broccoli florets', '2 tablespoons cake flour', '1 1/4 cups shredded  mozzarella cheese', 'divided', '1/4 cup mild buffalo sauce', '1 tablespoon chopped fresh parsley for garnish (optional)'], 'instructions': ['toss chicken with dried parsley, garlic powder, onion powder, salt and pepper in a medium bowl until evenly coated.', 'heat oil in a large skillet over medium-high heat. add the chicken in a single layer; cook, stirring occasionally, until golden, about 5 minutes.', 'add 1 1/2 cups milk and chicken stock; bring to a simmer. add pasta and cook, stirring occasionally, until just tender adding broccoli during the last 3 minutes of cooking time.', 'meanwhile, whisk flour and the remaining 1/4 cup milk in a small bowl. when the pasta is tender, stir in the flour mixture. cook, stirring occasionally, until thickened. remove from heat.', 'add 1 cup cheese and buffalo sauce; stir until the cheese is melted. sprinkle with the remaining 1/4 cup cheese. garnish with parsley, if desired.'], 'nutrition': {'total_calories': 0, 'total_protein': 0, 'total_carbs': 0, 'total_fat': 0, 'total_fiber': 0, 'average_gi': 0.0, 'glycemic_load': 0, 'matched_ingredients': [], 'unmatched_ingredients': ['3 cups boneless', 'skinless chicken breast', 'trimmed and cubed', '1 teaspoon dried parsley', '1/2 teaspoon garlic powder', '1/2 teaspoon onion powder', '1/4 teaspoon salt', '1/4 teaspoon ground pepper', '1 tablespoon extra-virgin olive oil', '1 3/4 cups low fat milk', 'divided', '1 1/2 cups chicken stock', '1 ½ cups whole -wheat penne pasta', '1 1/2 cups bite-size broccoli florets', '2 tablespoons cake flour', '1 1/4 cups shredded  mozzarella cheese', 'divided', '1/4 cup mild buffalo sauce', '1 tablespoon chopped fresh parsley for garnish (optional)']}}, {'title': 'lamb and bean stew', 'ingredients': ['3 tablespoons sunflower oil', '1 onion (peeled and sliced)', '2 cloves garlic (peeled and crushed)', '1 tablespoon garam masala', '2 cups lamb neck (cubed)', '1 can diced tomatoes', '2 carrots', 'peeled and sliced', '2 medium baby marrows (sliced)', 'salt and cayenne pepper to taste', '1 can butter beans (drained and rinsed)'], 'instructions': ['in a large saucepan, heat the oil and fry onions for one minute.', 'add the garlic and garam masala, sauté for 1 minute further.', 'add in the lamb and brown well. pour over the tomatoes and simmer well.', 'add in the carrots and marrows. season well and reduce to a simmer for 1 hour.', 'add in the beans and simmer for 15 to 20 minutes further. remove and serve with brown rice.'], 'nutrition': {'total_calories': 0, 'total_protein': 0, 'total_carbs': 0, 'total_fat': 0, 'total_fiber': 0, 'average_gi': 0.0, 'glycemic_load': 0, 'matched_ingredients': [], 'unmatched_ingredients': ['3 tablespoons sunflower oil', '1 onion (peeled and sliced)', '2 cloves garlic (peeled and crushed)', '1 tablespoon garam masala', '2 cups lamb neck (cubed)', '1 can diced tomatoes', '2 carrots', 'peeled and sliced', '2 medium baby marrows (sliced)', 'salt and cayenne pepper to taste', '1 can butter beans (drained and rinsed)']}}, {'title': 'one-pot buffalo chicken mac & cheese with broccoli', 'ingredients': ['500g boneless', 'skinless chicken breast', 'trimmed and cubed', '1 teaspoon dried parsley', '1/2 teaspoon garlic powder', '1/2 teaspoon onion powder', '1/4 teaspoon salt', '1/4 teaspoon ground pepper', '1 tablespoon extra-virgin olive oil', '1 3/4 cups low-fat milk', 'divided', '1 1/2 cups reduced-sodium chicken stock', '1 ½ cups whole-wheat penne pasta', '1 1/2 cups bite-size broccoli florets', '2 tablespoons cake flour', '1 1/4 cups shredded reduced-fat sharp cheddar cheese', 'divided', '1/4 cup mild buffalo sauce', 'chopped fresh parsley for garnish (optional)'], 'instructions': ['toss chicken with dried parsley, garlic powder, onion powder, salt and pepper in a medium bowl until evenly coated.', 'heat oil in a large skillet over medium-high heat. add the chicken in a single layer; cook, stirring occasionally, until golden, about 5 minutes. add 1 1/2 cups milk and stock; bring to a simmer. add pasta and cook, stirring occasionally, until just tender (checking the timing on your pasta package), adding broccoli during the last 3 minutes of cooking time.', 'meanwhile, whisk flour and the remaining 1/4 cup milk in a small bowl. when the pasta is tender, stir in the flour mixture. cook, stirring occasionally, until thickened. remove from heat.', 'add 1 cup cheese and buffalo sauce; stir until the cheese is melted. sprinkle with the remaining 1/4 cup cheese. garnish with parsley, if desired.'], 'nutrition': {'total_calories': 0, 'total_protein': 0, 'total_carbs': 0, 'total_fat': 0, 'total_fiber': 0, 'average_gi': 0.0, 'glycemic_load': 0, 'matched_ingredients': [], 'unmatched_ingredients': ['500g boneless', 'skinless chicken breast', 'trimmed and cubed', '1 teaspoon dried parsley', '1/2 teaspoon garlic powder', '1/2 teaspoon onion powder', '1/4 teaspoon salt', '1/4 teaspoon ground pepper', '1 tablespoon extra-virgin olive oil', '1 3/4 cups low-fat milk', 'divided', '1 1/2 cups reduced-sodium chicken stock', '1 ½ cups whole-wheat penne pasta', '1 1/2 cups bite-size broccoli florets', '2 tablespoons cake flour', '1 1/4 cups shredded reduced-fat sharp cheddar cheese', 'divided', '1/4 cup mild buffalo sauce', 'chopped fresh parsley for garnish (optional)']}}], 'best_recipe': {'title': 'turkey tagine with brown rice', 'ingredients': ['1 tablespoon olive oil', '240g turkey cubes', '¼ cup black olives', '¼ cup green pepper diced', '¼ cup red pepper diced', '¼ cup yellow pepper diced', '¼ cup red onion diced', '1 carrot diced', '1 cup chickpeas', '1 teaspoon mild curry powder', '1 teaspoon ground coriander', '1 teaspoon black pepper', '½ teaspoon salt', '1½ cup chicken stock', '½ cup brown rice'], 'instructions': ['heat the oil in a large saucepan, add turkey chunks and sauté for 5-10mins. then add in your vegetables and chickpeas.', 'add your spices and continue to cook for 5 minutes.', 'pour in chicken stock and simmer for 10 minutes until turkey is tender and sauce thickens.', 'cook the brown rice according to the packaging instructions and set aside when rice is fully cooked. serve and garnish with parsley or coriander. serve with the turkey tagine.'], 'nutrition': {'total_calories': 0, 'total_protein': 0, 'total_carbs': 0, 'total_fat': 0, 'total_fiber': 0, 'average_gi': 0.0, 'glycemic_load': 0, 'matched_ingredients': [], 'unmatched_ingredients': ['1 tablespoon olive oil', '240g turkey cubes', '¼ cup black olives', '¼ cup green pepper diced', '¼ cup red pepper diced', '¼ cup yellow pepper diced', '¼ cup red onion diced', '1 carrot diced', '1 cup chickpeas', '1 teaspoon mild curry powder', '1 teaspoon ground coriander', '1 teaspoon black pepper', '½ teaspoon salt', '1½ cup chicken stock', '½ cup brown rice']}}, 'recommendation': \"Based on glycemic load analysis, 'turkey tagine with brown rice' is the best choice with a glycemic load of 0.\"} \n",
      "\n",
      "\n",
      "\n",
      "Best Recipe Recommendation:\n",
      "--------------------------------------------------\n",
      "Title: turkey tagine with brown rice\n",
      "\n",
      "Ingredients:\n",
      "- 1 tablespoon olive oil\n",
      "- 240g turkey cubes\n",
      "- ¼ cup black olives\n",
      "- ¼ cup green pepper diced\n",
      "- ¼ cup red pepper diced\n",
      "- ¼ cup yellow pepper diced\n",
      "- ¼ cup red onion diced\n",
      "- 1 carrot diced\n",
      "- 1 cup chickpeas\n",
      "- 1 teaspoon mild curry powder\n",
      "- 1 teaspoon ground coriander\n",
      "- 1 teaspoon black pepper\n",
      "- ½ teaspoon salt\n",
      "- 1½ cup chicken stock\n",
      "- ½ cup brown rice\n",
      "\n",
      "Instructions:\n",
      "1. heat the oil in a large saucepan, add turkey chunks and sauté for 5-10mins. then add in your vegetables and chickpeas.\n",
      "2. add your spices and continue to cook for 5 minutes.\n",
      "3. pour in chicken stock and simmer for 10 minutes until turkey is tender and sauce thickens.\n",
      "4. cook the brown rice according to the packaging instructions and set aside when rice is fully cooked. serve and garnish with parsley or coriander. serve with the turkey tagine.\n",
      "\n",
      "Nutritional Information:\n",
      "Calories: 0 kcal\n",
      "Protein: 0g\n",
      "Carbs: 0g\n",
      "Fiber: 0g\n",
      "Fat: 0g\n",
      "Glycemic Load: 0\n",
      "\n",
      "Note: Could not find nutritional information for: 1 tablespoon olive oil, 240g turkey cubes, ¼ cup black olives, ¼ cup green pepper diced, ¼ cup red pepper diced, ¼ cup yellow pepper diced, ¼ cup red onion diced, 1 carrot diced, 1 cup chickpeas, 1 teaspoon mild curry powder, 1 teaspoon ground coriander, 1 teaspoon black pepper, ½ teaspoon salt, 1½ cup chicken stock, ½ cup brown rice\n",
      "\n",
      "\n",
      "best recipe {'title': 'turkey tagine with brown rice', 'ingredients': ['1 tablespoon olive oil', '240g turkey cubes', '¼ cup black olives', '¼ cup green pepper diced', '¼ cup red pepper diced', '¼ cup yellow pepper diced', '¼ cup red onion diced', '1 carrot diced', '1 cup chickpeas', '1 teaspoon mild curry powder', '1 teaspoon ground coriander', '1 teaspoon black pepper', '½ teaspoon salt', '1½ cup chicken stock', '½ cup brown rice'], 'instructions': ['heat the oil in a large saucepan, add turkey chunks and sauté for 5-10mins. then add in your vegetables and chickpeas.', 'add your spices and continue to cook for 5 minutes.', 'pour in chicken stock and simmer for 10 minutes until turkey is tender and sauce thickens.', 'cook the brown rice according to the packaging instructions and set aside when rice is fully cooked. serve and garnish with parsley or coriander. serve with the turkey tagine.'], 'nutrition': {'total_calories': 0, 'total_protein': 0, 'total_carbs': 0, 'total_fat': 0, 'total_fiber': 0, 'average_gi': 0.0, 'glycemic_load': 0, 'matched_ingredients': [], 'unmatched_ingredients': ['1 tablespoon olive oil', '240g turkey cubes', '¼ cup black olives', '¼ cup green pepper diced', '¼ cup red pepper diced', '¼ cup yellow pepper diced', '¼ cup red onion diced', '1 carrot diced', '1 cup chickpeas', '1 teaspoon mild curry powder', '1 teaspoon ground coriander', '1 teaspoon black pepper', '½ teaspoon salt', '1½ cup chicken stock', '½ cup brown rice']}}\n"
     ]
    }
   ],
   "source": [
    "# Example usage\n",
    "user_query = \"I want dinner\"\n",
    "result = get_recipe_recommendation(user_query)\n",
    "\n",
    "print(f\"\\n\\n\\n Result : {result} \\n\\n\\n\") \n",
    "\n",
    "if \"error\" in result:\n",
    "    print(f\"Error: {result['error']}\")\n",
    "else:\n",
    "    # Print the best recipe recommendation\n",
    "    print(\"Best Recipe Recommendation:\")\n",
    "    print(\"-\" * 50)\n",
    "    best_recipe = result['best_recipe']\n",
    "    print(f\"Title: {best_recipe['title']}\")\n",
    "    print(f\"\\nIngredients:\")\n",
    "    for ingredient in best_recipe['ingredients']:\n",
    "        print(f\"- {ingredient}\")\n",
    "    print(f\"\\nInstructions:\")\n",
    "    for i, instruction in enumerate(best_recipe['instructions'], 1):\n",
    "        print(f\"{i}. {instruction}\")\n",
    "    \n",
    "    print(f\"\\nNutritional Information:\")\n",
    "    nutrition = best_recipe['nutrition']\n",
    "    print(f\"Calories: {nutrition['total_calories']} kcal\")\n",
    "    print(f\"Protein: {nutrition['total_protein']}g\")\n",
    "    print(f\"Carbs: {nutrition['total_carbs']}g\")\n",
    "    print(f\"Fiber: {nutrition['total_fiber']}g\")\n",
    "    print(f\"Fat: {nutrition['total_fat']}g\")\n",
    "    print(f\"Glycemic Load: {nutrition['glycemic_load']}\")\n",
    "    \n",
    "    if nutrition['unmatched_ingredients']:\n",
    "        print(f\"\\nNote: Could not find nutritional information for: {', '.join(nutrition['unmatched_ingredients'])}\")\n",
    "\n",
    "    print('\\n\\nbest recipe', best_recipe)"
   ]
  },
  {
   "cell_type": "code",
   "execution_count": null,
   "id": "6b6de7e7-ef35-4475-a5a5-c8ae4c5f9d77",
   "metadata": {},
   "outputs": [],
   "source": []
  },
  {
   "cell_type": "code",
   "execution_count": null,
   "id": "03b68d60-5a64-47ac-b4a0-efafde74d697",
   "metadata": {},
   "outputs": [],
   "source": []
  }
 ],
 "metadata": {
  "kernelspec": {
   "display_name": "Python 3 (ipykernel)",
   "language": "python",
   "name": "python3"
  },
  "language_info": {
   "codemirror_mode": {
    "name": "ipython",
    "version": 3
   },
   "file_extension": ".py",
   "mimetype": "text/x-python",
   "name": "python",
   "nbconvert_exporter": "python",
   "pygments_lexer": "ipython3",
   "version": "3.11.12"
  }
 },
 "nbformat": 4,
 "nbformat_minor": 5
}
