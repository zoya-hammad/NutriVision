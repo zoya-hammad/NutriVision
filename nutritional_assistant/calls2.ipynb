{
 "cells": [
  {
   "cell_type": "markdown",
   "metadata": {},
   "source": [
    "# Nutritional Assistant - Recipe Recommendation System\n",
    "\n",
    "This notebook implements a streamlined workflow for recipe recommendations with glycemic index analysis.\n",
    "\n",
    "## Workflow:\n",
    "1. Recipe Agent finds similar recipes based on user query\n",
    "2. GI Analysis Agent evaluates recipes for glycemic impact\n",
    "3. Returns the best recipe with lowest glycemic load"
   ]
  },
  {
   "cell_type": "code",
   "execution_count": 2,
   "metadata": {},
   "outputs": [],
   "source": [
    "# Import required libraries\n",
    "import os\n",
    "from dotenv import load_dotenv\n",
    "from agents.recipe_agent import RecipeRecommendationAgent\n",
    "from agents.gi_agent import GIAnalysisAgent\n",
    "from agents.gi_agent_roberta_finetuned_2 import GIAnalysisAgentRoBERTaFinetuned2"
   ]
  },
  {
   "cell_type": "code",
   "execution_count": 3,
   "metadata": {},
   "outputs": [
    {
     "name": "stderr",
     "output_type": "stream",
     "text": [
      "Use pytorch device_name: cuda:0\n",
      "Load pretrained SentenceTransformer: sentence-transformers/all-MiniLM-L6-v2\n",
      "Anonymized telemetry enabled. See                     https://docs.trychroma.com/telemetry for more information.\n"
     ]
    },
    {
     "name": "stdout",
     "output_type": "stream",
     "text": [
      "Connecting to vector database...\n",
      "Connected to vector database successfully\n",
      "Successfully loaded dietary guidelines\n",
      "Successfully loaded food data with 5000 entries\n",
      "Successfully loaded food data with 5000 entries\n"
     ]
    },
    {
     "name": "stderr",
     "output_type": "stream",
     "text": [
      "Note: Environment variable`HF_TOKEN` is set and is the current active token independently from the token you've just configured.\n",
      "Note: Environment variable`HF_TOKEN` is set and is the current active token independently from the token you've just configured.\n"
     ]
    }
   ],
   "source": [
    "# Load environment variables and initialize agents\n",
    "load_dotenv()\n",
    "\n",
    "# Initialize agents\n",
    "recipe_agent = RecipeRecommendationAgent()\n",
    "gi_agent = GIAnalysisAgentRoBERTaFinetuned2()"
   ]
  },
  {
   "cell_type": "markdown",
   "metadata": {},
   "source": [
    "## Usage\n"
   ]
  },
  {
   "cell_type": "code",
   "execution_count": 4,
   "metadata": {},
   "outputs": [
    {
     "name": "stdout",
     "output_type": "stream",
     "text": [
      "Processing query: I want a healthy dinner recipe featuring chicken and yoghurt\n"
     ]
    }
   ],
   "source": [
    "user_query = \"I want a healthy dinner recipe featuring chicken and yoghurt\"  \n",
    "print(f\"Processing query: {user_query}\")"
   ]
  },
  {
   "cell_type": "code",
   "execution_count": 5,
   "metadata": {},
   "outputs": [
    {
     "name": "stdout",
     "output_type": "stream",
     "text": [
      "\n",
      "Finding similar recipes...\n",
      "Processing query: I want a healthy dinner recipe featuring chicken and yoghurt\n",
      "Starting recipe search for query: 'I want a healthy dinner recipe featuring chicken and yoghurt'\n"
     ]
    },
    {
     "data": {
      "application/vnd.jupyter.widget-view+json": {
       "model_id": "dd363ec497aa42d794b50fd816b63d3e",
       "version_major": 2,
       "version_minor": 0
      },
      "text/plain": [
       "Batches:   0%|          | 0/1 [00:00<?, ?it/s]"
      ]
     },
     "metadata": {},
     "output_type": "display_data"
    },
    {
     "name": "stderr",
     "output_type": "stream",
     "text": [
      "HTTP Request: POST https://api.openai.com/v1/chat/completions \"HTTP/1.1 200 OK\"\n"
     ]
    },
    {
     "name": "stdout",
     "output_type": "stream",
     "text": [
      "Recipe recommendations generated successfully\n",
      "Found 5 recipes\n"
     ]
    }
   ],
   "source": [
    "# Step 1: Get recipes from Recipe Agent\n",
    "print(\"\\nFinding similar recipes...\")\n",
    "recipe_results = recipe_agent.process(user_query)\n",
    "\n",
    "if 'error' in recipe_results:\n",
    "    print(f\"\\nError: {recipe_results['error']}\")\n",
    "elif not recipe_results.get('recipes'):\n",
    "    print(\"\\nNo recipes found matching your query.\")\n",
    "else:\n",
    "    print(f\"Found {len(recipe_results['recipes'])} recipes\")"
   ]
  },
  {
   "cell_type": "code",
   "execution_count": 6,
   "metadata": {},
   "outputs": [
    {
     "name": "stdout",
     "output_type": "stream",
     "text": [
      "\n",
      "Analyzing recipes for glycemic impact...\n"
     ]
    },
    {
     "name": "stderr",
     "output_type": "stream",
     "text": [
      "HTTP Request: POST https://api.openai.com/v1/chat/completions \"HTTP/1.1 200 OK\"\n"
     ]
    },
    {
     "name": "stdout",
     "output_type": "stream",
     "text": [
      "\n",
      "Debug - Ingredient: low fat plain yoghurt\n",
      "Debug - GI Value: 18.0\n"
     ]
    },
    {
     "name": "stderr",
     "output_type": "stream",
     "text": [
      "HTTP Request: POST https://api.openai.com/v1/chat/completions \"HTTP/1.1 200 OK\"\n"
     ]
    },
    {
     "name": "stdout",
     "output_type": "stream",
     "text": [
      "Debug - Carb Content: 4.0\n",
      "Debug - Original Quantity: 1 cup\n",
      "Debug - Converted Quantity (g): 240.0\n",
      "Debug - Actual Carbs (g): 9.6\n",
      "Debug - Ingredient Load: 1.7279999999999998\n",
      "\n",
      "Debug - Ingredient: onion\n",
      "Debug - GI Value: 18.0\n"
     ]
    },
    {
     "name": "stderr",
     "output_type": "stream",
     "text": [
      "HTTP Request: POST https://api.openai.com/v1/chat/completions \"HTTP/1.1 200 OK\"\n"
     ]
    },
    {
     "name": "stdout",
     "output_type": "stream",
     "text": [
      "Debug - Carb Content: 9.0\n",
      "Error converting quantity for onion, defaulting to 1\n",
      "Debug - Original Quantity: ½ \n",
      "Debug - Converted Quantity (g): 1.0\n",
      "Debug - Actual Carbs (g): 0.09\n",
      "Debug - Ingredient Load: 0.0162\n",
      "\n",
      "Debug - Ingredient: curry powder\n",
      "Debug - GI Value: 18.0\n"
     ]
    },
    {
     "name": "stderr",
     "output_type": "stream",
     "text": [
      "HTTP Request: POST https://api.openai.com/v1/chat/completions \"HTTP/1.1 200 OK\"\n"
     ]
    },
    {
     "name": "stdout",
     "output_type": "stream",
     "text": [
      "Debug - Carb Content: 58.0\n",
      "Debug - Original Quantity: 3 tablespoons\n",
      "Debug - Converted Quantity (g): 45.0\n",
      "Debug - Actual Carbs (g): 26.1\n",
      "Debug - Ingredient Load: 4.698\n",
      "\n",
      "Debug - Ingredient: extra-virgin olive oil\n",
      "Debug - GI Value: 18.0\n"
     ]
    },
    {
     "name": "stderr",
     "output_type": "stream",
     "text": [
      "HTTP Request: POST https://api.openai.com/v1/chat/completions \"HTTP/1.1 200 OK\"\n"
     ]
    },
    {
     "name": "stdout",
     "output_type": "stream",
     "text": [
      "Debug - Carb Content: 0.0\n",
      "Debug - Original Quantity: 1 tablespoon\n",
      "Debug - Converted Quantity (g): 15.0\n",
      "Debug - Actual Carbs (g): 0.0\n",
      "Debug - Ingredient Load: 0.0\n",
      "\n",
      "Debug - Ingredient: salt\n",
      "Debug - GI Value: 18.0\n"
     ]
    },
    {
     "name": "stderr",
     "output_type": "stream",
     "text": [
      "HTTP Request: POST https://api.openai.com/v1/chat/completions \"HTTP/1.1 200 OK\"\n"
     ]
    },
    {
     "name": "stdout",
     "output_type": "stream",
     "text": [
      "Debug - Carb Content: 0.0\n",
      "Debug - Original Quantity: 1 teaspoon\n",
      "Debug - Converted Quantity (g): 5.0\n",
      "Debug - Actual Carbs (g): 0.0\n",
      "Debug - Ingredient Load: 0.0\n",
      "\n",
      "Debug - Ingredient: paprika\n",
      "Debug - GI Value: 18.0\n"
     ]
    },
    {
     "name": "stderr",
     "output_type": "stream",
     "text": [
      "HTTP Request: POST https://api.openai.com/v1/chat/completions \"HTTP/1.1 200 OK\"\n"
     ]
    },
    {
     "name": "stdout",
     "output_type": "stream",
     "text": [
      "Debug - Carb Content: 54.0\n",
      "Error converting quantity for paprika, defaulting to 1\n",
      "Debug - Original Quantity: ½ teaspoon\n",
      "Debug - Converted Quantity (g): 5.0\n",
      "Debug - Actual Carbs (g): 2.7\n",
      "Debug - Ingredient Load: 0.486\n",
      "\n",
      "Debug - Ingredient: chicken breasts\n",
      "Debug - GI Value: 14.0\n"
     ]
    },
    {
     "name": "stderr",
     "output_type": "stream",
     "text": [
      "HTTP Request: POST https://api.openai.com/v1/chat/completions \"HTTP/1.1 200 OK\"\n"
     ]
    },
    {
     "name": "stdout",
     "output_type": "stream",
     "text": [
      "Debug - Carb Content: 0.0\n",
      "Debug - Original Quantity: 500 g\n",
      "Debug - Converted Quantity (g): 500.0\n",
      "Debug - Actual Carbs (g): 0.0\n",
      "Debug - Ingredient Load: 0.0\n",
      "\n",
      "Debug - Ingredient: variety stir-fry vegetables\n",
      "Debug - GI Value: 18.0\n"
     ]
    },
    {
     "name": "stderr",
     "output_type": "stream",
     "text": [
      "HTTP Request: POST https://api.openai.com/v1/chat/completions \"HTTP/1.1 200 OK\"\n"
     ]
    },
    {
     "name": "stdout",
     "output_type": "stream",
     "text": [
      "Debug - Carb Content: 5.0\n",
      "Debug - Original Quantity: 4 cups\n",
      "Debug - Converted Quantity (g): 960.0\n",
      "Debug - Actual Carbs (g): 48.0\n",
      "Debug - Ingredient Load: 8.64\n",
      "\n",
      "Debug - Total Glycemic Load: 15.568200000000001\n",
      "\n",
      "Initial glycemic load for yoghurt-curry marinated chicken strips: 15.568200000000001\n",
      "Final glycemic load after all adjustments: 15.568200000000001\n"
     ]
    },
    {
     "name": "stderr",
     "output_type": "stream",
     "text": [
      "HTTP Request: POST https://api.openai.com/v1/chat/completions \"HTTP/1.1 200 OK\"\n"
     ]
    },
    {
     "name": "stdout",
     "output_type": "stream",
     "text": [
      "\n",
      "Debug - Ingredient: low fat cottage cheese\n",
      "Debug - GI Value: 18.0\n"
     ]
    },
    {
     "name": "stderr",
     "output_type": "stream",
     "text": [
      "HTTP Request: POST https://api.openai.com/v1/chat/completions \"HTTP/1.1 200 OK\"\n"
     ]
    },
    {
     "name": "stdout",
     "output_type": "stream",
     "text": [
      "Debug - Carb Content: 4.0\n",
      "Debug - Original Quantity: 1 cup\n",
      "Debug - Converted Quantity (g): 240.0\n",
      "Debug - Actual Carbs (g): 9.6\n",
      "Debug - Ingredient Load: 1.7279999999999998\n",
      "\n",
      "Debug - Ingredient: low fat plain yoghurt\n",
      "Debug - GI Value: 18.0\n"
     ]
    },
    {
     "name": "stderr",
     "output_type": "stream",
     "text": [
      "HTTP Request: POST https://api.openai.com/v1/chat/completions \"HTTP/1.1 200 OK\"\n"
     ]
    },
    {
     "name": "stdout",
     "output_type": "stream",
     "text": [
      "Debug - Carb Content: 4.0\n",
      "Debug - Original Quantity: 1 cup\n",
      "Debug - Converted Quantity (g): 240.0\n",
      "Debug - Actual Carbs (g): 9.6\n",
      "Debug - Ingredient Load: 1.7279999999999998\n",
      "\n",
      "Debug - Ingredient: frozen spinach\n",
      "Debug - GI Value: 18.0\n"
     ]
    },
    {
     "name": "stderr",
     "output_type": "stream",
     "text": [
      "HTTP Request: POST https://api.openai.com/v1/chat/completions \"HTTP/1.1 200 OK\"\n"
     ]
    },
    {
     "name": "stdout",
     "output_type": "stream",
     "text": [
      "Debug - Carb Content: 3.0\n",
      "Debug - Original Quantity: 1 cup\n",
      "Debug - Converted Quantity (g): 240.0\n",
      "Debug - Actual Carbs (g): 7.2\n",
      "Debug - Ingredient Load: 1.296\n",
      "\n",
      "Debug - Ingredient: carrot\n",
      "Debug - GI Value: 18.0\n"
     ]
    },
    {
     "name": "stderr",
     "output_type": "stream",
     "text": [
      "HTTP Request: POST https://api.openai.com/v1/chat/completions \"HTTP/1.1 200 OK\"\n"
     ]
    },
    {
     "name": "stdout",
     "output_type": "stream",
     "text": [
      "Debug - Carb Content: 9.0\n",
      "Error converting quantity for carrot, defaulting to 1\n",
      "Debug - Original Quantity: ½ \n",
      "Debug - Converted Quantity (g): 1.0\n",
      "Debug - Actual Carbs (g): 0.09\n",
      "Debug - Ingredient Load: 0.0162\n",
      "\n",
      "Debug - Ingredient: lemon juice\n",
      "Debug - GI Value: 18.0\n"
     ]
    },
    {
     "name": "stderr",
     "output_type": "stream",
     "text": [
      "HTTP Request: POST https://api.openai.com/v1/chat/completions \"HTTP/1.1 200 OK\"\n"
     ]
    },
    {
     "name": "stdout",
     "output_type": "stream",
     "text": [
      "Debug - Carb Content: 6.0\n",
      "Debug - Original Quantity: 1 teaspoon\n",
      "Debug - Converted Quantity (g): 5.0\n",
      "Debug - Actual Carbs (g): 0.3\n",
      "Debug - Ingredient Load: 0.05399999999999999\n",
      "\n",
      "Debug - Ingredient: salt\n",
      "Debug - GI Value: 18.0\n"
     ]
    },
    {
     "name": "stderr",
     "output_type": "stream",
     "text": [
      "HTTP Request: POST https://api.openai.com/v1/chat/completions \"HTTP/1.1 200 OK\"\n"
     ]
    },
    {
     "name": "stdout",
     "output_type": "stream",
     "text": [
      "Debug - Carb Content: 0.0\n",
      "Error converting quantity for salt, defaulting to 1\n",
      "Debug - Original Quantity:  \n",
      "Debug - Converted Quantity (g): 1.0\n",
      "Debug - Actual Carbs (g): 0.0\n",
      "Debug - Ingredient Load: 0.0\n",
      "\n",
      "Debug - Ingredient: pepper\n",
      "Debug - GI Value: 18.0\n"
     ]
    },
    {
     "name": "stderr",
     "output_type": "stream",
     "text": [
      "HTTP Request: POST https://api.openai.com/v1/chat/completions \"HTTP/1.1 200 OK\"\n"
     ]
    },
    {
     "name": "stdout",
     "output_type": "stream",
     "text": [
      "Debug - Carb Content: 6.0\n",
      "Error converting quantity for pepper, defaulting to 1\n",
      "Debug - Original Quantity:  \n",
      "Debug - Converted Quantity (g): 1.0\n",
      "Debug - Actual Carbs (g): 0.06\n",
      "Debug - Ingredient Load: 0.0108\n",
      "\n",
      "Debug - Total Glycemic Load: 4.833\n",
      "\n",
      "Initial glycemic load for spinach yoghurt dip: 4.833\n",
      "Added 40 for high GI ingredients with low initial load in: spinach yoghurt dip\n",
      "Glycemic load after high GI adjustment: 44.833\n",
      "Final glycemic load after all adjustments: 44.833\n"
     ]
    },
    {
     "name": "stderr",
     "output_type": "stream",
     "text": [
      "HTTP Request: POST https://api.openai.com/v1/chat/completions \"HTTP/1.1 200 OK\"\n"
     ]
    },
    {
     "name": "stdout",
     "output_type": "stream",
     "text": [
      "\n",
      "Debug - Ingredient: low fat plain yoghurt\n",
      "Debug - GI Value: 18.0\n"
     ]
    },
    {
     "name": "stderr",
     "output_type": "stream",
     "text": [
      "HTTP Request: POST https://api.openai.com/v1/chat/completions \"HTTP/1.1 200 OK\"\n"
     ]
    },
    {
     "name": "stdout",
     "output_type": "stream",
     "text": [
      "Debug - Carb Content: 4.0\n",
      "Debug - Original Quantity: 1 cup\n",
      "Debug - Converted Quantity (g): 240.0\n",
      "Debug - Actual Carbs (g): 9.6\n",
      "Debug - Ingredient Load: 1.7279999999999998\n",
      "\n",
      "Debug - Ingredient: garam masala\n",
      "Debug - GI Value: 18.0\n"
     ]
    },
    {
     "name": "stderr",
     "output_type": "stream",
     "text": [
      "HTTP Request: POST https://api.openai.com/v1/chat/completions \"HTTP/1.1 200 OK\"\n"
     ]
    },
    {
     "name": "stdout",
     "output_type": "stream",
     "text": [
      "Debug - Carb Content: 60.0\n",
      "Debug - Original Quantity: 2 teaspoons\n",
      "Debug - Converted Quantity (g): 10.0\n",
      "Debug - Actual Carbs (g): 6.0\n",
      "Debug - Ingredient Load: 1.08\n",
      "\n",
      "Debug - Ingredient: ground ginger\n",
      "Debug - GI Value: 18.0\n"
     ]
    },
    {
     "name": "stderr",
     "output_type": "stream",
     "text": [
      "HTTP Request: POST https://api.openai.com/v1/chat/completions \"HTTP/1.1 200 OK\"\n"
     ]
    },
    {
     "name": "stdout",
     "output_type": "stream",
     "text": [
      "Debug - Carb Content: 71.0\n",
      "Debug - Original Quantity: 1 teaspoon\n",
      "Debug - Converted Quantity (g): 5.0\n",
      "Debug - Actual Carbs (g): 3.55\n",
      "Debug - Ingredient Load: 0.639\n",
      "\n",
      "Debug - Ingredient: minced garlic\n",
      "Debug - GI Value: 18.0\n"
     ]
    },
    {
     "name": "stderr",
     "output_type": "stream",
     "text": [
      "HTTP Request: POST https://api.openai.com/v1/chat/completions \"HTTP/1.1 200 OK\"\n"
     ]
    },
    {
     "name": "stdout",
     "output_type": "stream",
     "text": [
      "Debug - Carb Content: 33.0\n",
      "Debug - Original Quantity: 1 teaspoon\n",
      "Debug - Converted Quantity (g): 5.0\n",
      "Debug - Actual Carbs (g): 1.65\n",
      "Debug - Ingredient Load: 0.297\n",
      "\n",
      "Debug - Ingredient: ground turmeric\n",
      "Debug - GI Value: 18.0\n"
     ]
    },
    {
     "name": "stderr",
     "output_type": "stream",
     "text": [
      "HTTP Request: POST https://api.openai.com/v1/chat/completions \"HTTP/1.1 200 OK\"\n"
     ]
    },
    {
     "name": "stdout",
     "output_type": "stream",
     "text": [
      "Debug - Carb Content: 65.0\n",
      "Debug - Original Quantity: 1 teaspoon\n",
      "Debug - Converted Quantity (g): 5.0\n",
      "Debug - Actual Carbs (g): 3.25\n",
      "Debug - Ingredient Load: 0.585\n",
      "\n",
      "Debug - Ingredient: salt\n",
      "Debug - GI Value: 18.0\n"
     ]
    },
    {
     "name": "stderr",
     "output_type": "stream",
     "text": [
      "HTTP Request: POST https://api.openai.com/v1/chat/completions \"HTTP/1.1 200 OK\"\n"
     ]
    },
    {
     "name": "stdout",
     "output_type": "stream",
     "text": [
      "Debug - Carb Content: 0.0\n",
      "Debug - Original Quantity: 1 teaspoon\n",
      "Debug - Converted Quantity (g): 5.0\n",
      "Debug - Actual Carbs (g): 0.0\n",
      "Debug - Ingredient Load: 0.0\n",
      "\n",
      "Debug - Ingredient: jalapeño pepper\n",
      "Debug - GI Value: 18.0\n"
     ]
    },
    {
     "name": "stderr",
     "output_type": "stream",
     "text": [
      "HTTP Request: POST https://api.openai.com/v1/chat/completions \"HTTP/1.1 200 OK\"\n"
     ]
    },
    {
     "name": "stdout",
     "output_type": "stream",
     "text": [
      "Debug - Carb Content: 6.5\n",
      "Debug - Original Quantity: 1 \n",
      "Debug - Converted Quantity (g): 1.0\n",
      "Debug - Actual Carbs (g): 0.065\n",
      "Debug - Ingredient Load: 0.011699999999999999\n",
      "\n",
      "Debug - Ingredient: boneless, skinless chicken breasts\n",
      "Debug - GI Value: 18.0\n"
     ]
    },
    {
     "name": "stderr",
     "output_type": "stream",
     "text": [
      "HTTP Request: POST https://api.openai.com/v1/chat/completions \"HTTP/1.1 200 OK\"\n"
     ]
    },
    {
     "name": "stdout",
     "output_type": "stream",
     "text": [
      "Debug - Carb Content: 0.0\n",
      "Debug - Original Quantity: 1 kg\n",
      "Debug - Converted Quantity (g): 1000.0\n",
      "Debug - Actual Carbs (g): 0.0\n",
      "Debug - Ingredient Load: 0.0\n",
      "\n",
      "Debug - Ingredient: canola oil\n",
      "Debug - GI Value: 18.0\n"
     ]
    },
    {
     "name": "stderr",
     "output_type": "stream",
     "text": [
      "HTTP Request: POST https://api.openai.com/v1/chat/completions \"HTTP/1.1 200 OK\"\n"
     ]
    },
    {
     "name": "stdout",
     "output_type": "stream",
     "text": [
      "Debug - Carb Content: 0.0\n",
      "Debug - Original Quantity: 1 tablespoon\n",
      "Debug - Converted Quantity (g): 15.0\n",
      "Debug - Actual Carbs (g): 0.0\n",
      "Debug - Ingredient Load: 0.0\n",
      "\n",
      "Debug - Ingredient: shredded iceberg lettuce\n",
      "Debug - GI Value: 18.0\n"
     ]
    },
    {
     "name": "stderr",
     "output_type": "stream",
     "text": [
      "HTTP Request: POST https://api.openai.com/v1/chat/completions \"HTTP/1.1 200 OK\"\n"
     ]
    },
    {
     "name": "stdout",
     "output_type": "stream",
     "text": [
      "Debug - Carb Content: 2.0\n",
      "Debug - Original Quantity: 3 cups\n",
      "Debug - Converted Quantity (g): 720.0\n",
      "Debug - Actual Carbs (g): 14.4\n",
      "Debug - Ingredient Load: 2.592\n",
      "\n",
      "Debug - Ingredient: shredded red cabbage\n",
      "Debug - GI Value: 18.0\n"
     ]
    },
    {
     "name": "stderr",
     "output_type": "stream",
     "text": [
      "HTTP Request: POST https://api.openai.com/v1/chat/completions \"HTTP/1.1 200 OK\"\n"
     ]
    },
    {
     "name": "stdout",
     "output_type": "stream",
     "text": [
      "Debug - Carb Content: 6.0\n",
      "Debug - Original Quantity: 3 cups\n",
      "Debug - Converted Quantity (g): 720.0\n",
      "Debug - Actual Carbs (g): 43.2\n",
      "Debug - Ingredient Load: 7.776\n",
      "\n",
      "Debug - Ingredient: diced plum tomatoes\n",
      "Debug - GI Value: 18.0\n"
     ]
    },
    {
     "name": "stderr",
     "output_type": "stream",
     "text": [
      "HTTP Request: POST https://api.openai.com/v1/chat/completions \"HTTP/1.1 200 OK\"\n"
     ]
    },
    {
     "name": "stdout",
     "output_type": "stream",
     "text": [
      "Debug - Carb Content: 4.0\n",
      "Debug - Original Quantity: 3 cups\n",
      "Debug - Converted Quantity (g): 720.0\n",
      "Debug - Actual Carbs (g): 28.8\n",
      "Debug - Ingredient Load: 5.184\n",
      "\n",
      "Debug - Ingredient: sliced cucumber\n",
      "Debug - GI Value: 18.0\n"
     ]
    },
    {
     "name": "stderr",
     "output_type": "stream",
     "text": [
      "HTTP Request: POST https://api.openai.com/v1/chat/completions \"HTTP/1.1 200 OK\"\n"
     ]
    },
    {
     "name": "stdout",
     "output_type": "stream",
     "text": [
      "Debug - Carb Content: 4.0\n",
      "Debug - Original Quantity: 2 cups\n",
      "Debug - Converted Quantity (g): 480.0\n",
      "Debug - Actual Carbs (g): 19.2\n",
      "Debug - Ingredient Load: 3.4559999999999995\n",
      "\n",
      "Debug - Ingredient: diced parsnip\n",
      "Debug - GI Value: 18.0\n"
     ]
    },
    {
     "name": "stderr",
     "output_type": "stream",
     "text": [
      "HTTP Request: POST https://api.openai.com/v1/chat/completions \"HTTP/1.1 200 OK\"\n"
     ]
    },
    {
     "name": "stdout",
     "output_type": "stream",
     "text": [
      "Debug - Carb Content: 17.0\n",
      "Debug - Original Quantity: 1.5 cups\n",
      "Debug - Converted Quantity (g): 360.0\n",
      "Debug - Actual Carbs (g): 61.2\n",
      "Debug - Ingredient Load: 11.016000000000002\n",
      "\n",
      "Debug - Ingredient: sliced radishes\n",
      "Debug - GI Value: 18.0\n"
     ]
    },
    {
     "name": "stderr",
     "output_type": "stream",
     "text": [
      "HTTP Request: POST https://api.openai.com/v1/chat/completions \"HTTP/1.1 200 OK\"\n"
     ]
    },
    {
     "name": "stdout",
     "output_type": "stream",
     "text": [
      "Debug - Carb Content: 3.4\n",
      "Debug - Original Quantity: 1 cup\n",
      "Debug - Converted Quantity (g): 240.0\n",
      "Debug - Actual Carbs (g): 8.16\n",
      "Debug - Ingredient Load: 1.4687999999999999\n",
      "\n",
      "Debug - Ingredient: chopped spring onions\n",
      "Debug - GI Value: 14.0\n"
     ]
    },
    {
     "name": "stderr",
     "output_type": "stream",
     "text": [
      "HTTP Request: POST https://api.openai.com/v1/chat/completions \"HTTP/1.1 200 OK\"\n"
     ]
    },
    {
     "name": "stdout",
     "output_type": "stream",
     "text": [
      "Debug - Carb Content: 7.0\n",
      "Debug - Original Quantity: 2 tablespoons\n",
      "Debug - Converted Quantity (g): 30.0\n",
      "Debug - Actual Carbs (g): 2.1\n",
      "Debug - Ingredient Load: 0.29400000000000004\n",
      "\n",
      "Debug - Ingredient: coriander\n",
      "Debug - GI Value: 14.0\n"
     ]
    },
    {
     "name": "stderr",
     "output_type": "stream",
     "text": [
      "HTTP Request: POST https://api.openai.com/v1/chat/completions \"HTTP/1.1 200 OK\"\n"
     ]
    },
    {
     "name": "stdout",
     "output_type": "stream",
     "text": [
      "Debug - Carb Content: 4.1\n",
      "Debug - Original Quantity: 1 cup\n",
      "Debug - Converted Quantity (g): 240.0\n",
      "Debug - Actual Carbs (g): 9.839999999999998\n",
      "Debug - Ingredient Load: 1.3775999999999997\n",
      "\n",
      "Debug - Ingredient: juice of small lemons\n",
      "Debug - GI Value: 18.0\n"
     ]
    },
    {
     "name": "stderr",
     "output_type": "stream",
     "text": [
      "HTTP Request: POST https://api.openai.com/v1/chat/completions \"HTTP/1.1 200 OK\"\n"
     ]
    },
    {
     "name": "stdout",
     "output_type": "stream",
     "text": [
      "Debug - Carb Content: 6.0\n",
      "Debug - Original Quantity: 2 \n",
      "Debug - Converted Quantity (g): 2.0\n",
      "Debug - Actual Carbs (g): 0.12\n",
      "Debug - Ingredient Load: 0.0216\n",
      "\n",
      "Debug - Total Glycemic Load: 37.5267\n",
      "\n",
      "Initial glycemic load for tandoori chicken salad: 37.5267\n",
      "Final glycemic load after all adjustments: 37.5267\n"
     ]
    },
    {
     "name": "stderr",
     "output_type": "stream",
     "text": [
      "HTTP Request: POST https://api.openai.com/v1/chat/completions \"HTTP/1.1 200 OK\"\n"
     ]
    },
    {
     "name": "stdout",
     "output_type": "stream",
     "text": [
      "\n",
      "Debug - Ingredient: plain low-fat yoghurt\n",
      "Debug - GI Value: 18.0\n"
     ]
    },
    {
     "name": "stderr",
     "output_type": "stream",
     "text": [
      "HTTP Request: POST https://api.openai.com/v1/chat/completions \"HTTP/1.1 200 OK\"\n"
     ]
    },
    {
     "name": "stdout",
     "output_type": "stream",
     "text": [
      "Debug - Carb Content: 4.0\n",
      "Debug - Original Quantity: 400 g\n",
      "Debug - Converted Quantity (g): 400.0\n",
      "Debug - Actual Carbs (g): 16.0\n",
      "Debug - Ingredient Load: 2.88\n",
      "\n",
      "Debug - Ingredient: medium eggs\n",
      "Debug - GI Value: 18.0\n"
     ]
    },
    {
     "name": "stderr",
     "output_type": "stream",
     "text": [
      "HTTP Request: POST https://api.openai.com/v1/chat/completions \"HTTP/1.1 200 OK\"\n"
     ]
    },
    {
     "name": "stdout",
     "output_type": "stream",
     "text": [
      "Debug - Carb Content: 1.0\n",
      "Debug - Original Quantity: 4 \n",
      "Debug - Converted Quantity (g): 4.0\n",
      "Debug - Actual Carbs (g): 0.04\n",
      "Debug - Ingredient Load: 0.0072\n",
      "\n",
      "Debug - Ingredient: brown sugar\n",
      "Debug - GI Value: 18.0\n"
     ]
    },
    {
     "name": "stderr",
     "output_type": "stream",
     "text": [
      "HTTP Request: POST https://api.openai.com/v1/chat/completions \"HTTP/1.1 200 OK\"\n"
     ]
    },
    {
     "name": "stdout",
     "output_type": "stream",
     "text": [
      "Debug - Carb Content: 100.0\n",
      "Debug - Original Quantity: 3 teaspoons\n",
      "Debug - Converted Quantity (g): 15.0\n",
      "Debug - Actual Carbs (g): 15.0\n",
      "Debug - Ingredient Load: 2.7\n",
      "\n",
      "Debug - Ingredient: corn starch\n",
      "Debug - GI Value: 18.0\n"
     ]
    },
    {
     "name": "stderr",
     "output_type": "stream",
     "text": [
      "HTTP Request: POST https://api.openai.com/v1/chat/completions \"HTTP/1.1 200 OK\"\n"
     ]
    },
    {
     "name": "stdout",
     "output_type": "stream",
     "text": [
      "Debug - Carb Content: 88.0\n",
      "Debug - Original Quantity: 3 tablespoons\n",
      "Debug - Converted Quantity (g): 45.0\n",
      "Debug - Actual Carbs (g): 39.6\n",
      "Debug - Ingredient Load: 7.128000000000001\n",
      "\n",
      "Debug - Ingredient: vanilla extract\n",
      "Debug - GI Value: 18.0\n"
     ]
    },
    {
     "name": "stderr",
     "output_type": "stream",
     "text": [
      "HTTP Request: POST https://api.openai.com/v1/chat/completions \"HTTP/1.1 200 OK\"\n"
     ]
    },
    {
     "name": "stdout",
     "output_type": "stream",
     "text": [
      "Debug - Carb Content: 0.0\n",
      "Debug - Original Quantity: 1 teaspoon\n",
      "Debug - Converted Quantity (g): 5.0\n",
      "Debug - Actual Carbs (g): 0.0\n",
      "Debug - Ingredient Load: 0.0\n",
      "\n",
      "Debug - Ingredient: baking powder\n",
      "Debug - GI Value: 18.0\n"
     ]
    },
    {
     "name": "stderr",
     "output_type": "stream",
     "text": [
      "HTTP Request: POST https://api.openai.com/v1/chat/completions \"HTTP/1.1 200 OK\"\n"
     ]
    },
    {
     "name": "stdout",
     "output_type": "stream",
     "text": [
      "Debug - Carb Content: 0.0\n",
      "Debug - Original Quantity: 1 teaspoon\n",
      "Debug - Converted Quantity (g): 5.0\n",
      "Debug - Actual Carbs (g): 0.0\n",
      "Debug - Ingredient Load: 0.0\n",
      "\n",
      "Debug - Ingredient: salt\n",
      "Debug - GI Value: 18.0\n"
     ]
    },
    {
     "name": "stderr",
     "output_type": "stream",
     "text": [
      "HTTP Request: POST https://api.openai.com/v1/chat/completions \"HTTP/1.1 200 OK\"\n"
     ]
    },
    {
     "name": "stdout",
     "output_type": "stream",
     "text": [
      "Debug - Carb Content: 0.0\n",
      "Debug - Original Quantity: 1/2 teaspoon\n",
      "Debug - Converted Quantity (g): 2.5\n",
      "Debug - Actual Carbs (g): 0.0\n",
      "Debug - Ingredient Load: 0.0\n",
      "\n",
      "Debug - Total Glycemic Load: 12.715200000000001\n",
      "\n",
      "Initial glycemic load for yoghurt cake: 12.715200000000001\n",
      "Added 20 for high GI ingredients in: yoghurt cake\n",
      "Glycemic load after high GI adjustment: 32.7152\n",
      "Final glycemic load after all adjustments: 32.7152\n"
     ]
    },
    {
     "name": "stderr",
     "output_type": "stream",
     "text": [
      "HTTP Request: POST https://api.openai.com/v1/chat/completions \"HTTP/1.1 200 OK\"\n"
     ]
    },
    {
     "name": "stdout",
     "output_type": "stream",
     "text": [
      "\n",
      "Debug - Ingredient: olive oil\n",
      "Debug - GI Value: 18.0\n"
     ]
    },
    {
     "name": "stderr",
     "output_type": "stream",
     "text": [
      "HTTP Request: POST https://api.openai.com/v1/chat/completions \"HTTP/1.1 200 OK\"\n"
     ]
    },
    {
     "name": "stdout",
     "output_type": "stream",
     "text": [
      "Debug - Carb Content: 0.0\n",
      "Debug - Original Quantity: 1 tablespoon\n",
      "Debug - Converted Quantity (g): 15.0\n",
      "Debug - Actual Carbs (g): 0.0\n",
      "Debug - Ingredient Load: 0.0\n",
      "\n",
      "Debug - Ingredient: chicken thighs\n",
      "Debug - GI Value: 18.0\n"
     ]
    },
    {
     "name": "stderr",
     "output_type": "stream",
     "text": [
      "HTTP Request: POST https://api.openai.com/v1/chat/completions \"HTTP/1.1 200 OK\"\n"
     ]
    },
    {
     "name": "stdout",
     "output_type": "stream",
     "text": [
      "Debug - Carb Content: 0.0\n",
      "Debug - Original Quantity: 6 pieces\n",
      "Debug - Converted Quantity (g): 6.0\n",
      "Debug - Actual Carbs (g): 0.0\n",
      "Debug - Ingredient Load: 0.0\n",
      "\n",
      "Debug - Ingredient: onion\n",
      "Debug - GI Value: 18.0\n"
     ]
    },
    {
     "name": "stderr",
     "output_type": "stream",
     "text": [
      "HTTP Request: POST https://api.openai.com/v1/chat/completions \"HTTP/1.1 200 OK\"\n"
     ]
    },
    {
     "name": "stdout",
     "output_type": "stream",
     "text": [
      "Debug - Carb Content: 9.0\n",
      "Debug - Original Quantity: 1 piece\n",
      "Debug - Converted Quantity (g): 1.0\n",
      "Debug - Actual Carbs (g): 0.09\n",
      "Debug - Ingredient Load: 0.0162\n",
      "\n",
      "Debug - Ingredient: garlic\n",
      "Debug - GI Value: 18.0\n"
     ]
    },
    {
     "name": "stderr",
     "output_type": "stream",
     "text": [
      "HTTP Request: POST https://api.openai.com/v1/chat/completions \"HTTP/1.1 200 OK\"\n"
     ]
    },
    {
     "name": "stdout",
     "output_type": "stream",
     "text": [
      "Debug - Carb Content: 33.0\n",
      "Debug - Original Quantity: 3 cloves\n",
      "Debug - Converted Quantity (g): 3.0\n",
      "Debug - Actual Carbs (g): 0.99\n",
      "Debug - Ingredient Load: 0.1782\n",
      "\n",
      "Debug - Ingredient: tomato paste\n",
      "Debug - GI Value: 18.0\n"
     ]
    },
    {
     "name": "stderr",
     "output_type": "stream",
     "text": [
      "HTTP Request: POST https://api.openai.com/v1/chat/completions \"HTTP/1.1 200 OK\"\n"
     ]
    },
    {
     "name": "stdout",
     "output_type": "stream",
     "text": [
      "Debug - Carb Content: 24.0\n",
      "Debug - Original Quantity: 2 tablespoons\n",
      "Debug - Converted Quantity (g): 30.0\n",
      "Debug - Actual Carbs (g): 7.2\n",
      "Debug - Ingredient Load: 1.296\n",
      "\n",
      "Debug - Ingredient: chickpeas\n",
      "Debug - GI Value: 18.0\n"
     ]
    },
    {
     "name": "stderr",
     "output_type": "stream",
     "text": [
      "HTTP Request: POST https://api.openai.com/v1/chat/completions \"HTTP/1.1 200 OK\"\n"
     ]
    },
    {
     "name": "stdout",
     "output_type": "stream",
     "text": [
      "Debug - Carb Content: 27.0\n",
      "Debug - Original Quantity: 1 can\n",
      "Debug - Converted Quantity (g): 1.0\n",
      "Debug - Actual Carbs (g): 0.27\n",
      "Debug - Ingredient Load: 0.048600000000000004\n",
      "\n",
      "Debug - Ingredient: harissa paste\n",
      "Debug - GI Value: 18.0\n"
     ]
    },
    {
     "name": "stderr",
     "output_type": "stream",
     "text": [
      "HTTP Request: POST https://api.openai.com/v1/chat/completions \"HTTP/1.1 200 OK\"\n"
     ]
    },
    {
     "name": "stdout",
     "output_type": "stream",
     "text": [
      "Debug - Carb Content: 10.0\n",
      "Debug - Original Quantity: 1/4 cup\n",
      "Debug - Converted Quantity (g): 60.0\n",
      "Debug - Actual Carbs (g): 6.0\n",
      "Debug - Ingredient Load: 1.08\n",
      "\n",
      "Debug - Ingredient: chicken stock\n",
      "Debug - GI Value: 18.0\n"
     ]
    },
    {
     "name": "stderr",
     "output_type": "stream",
     "text": [
      "HTTP Request: POST https://api.openai.com/v1/chat/completions \"HTTP/1.1 200 OK\"\n"
     ]
    },
    {
     "name": "stdout",
     "output_type": "stream",
     "text": [
      "Debug - Carb Content: 0.0\n",
      "Debug - Original Quantity: 2/3 cup\n",
      "Debug - Converted Quantity (g): 160.0\n",
      "Debug - Actual Carbs (g): 0.0\n",
      "Debug - Ingredient Load: 0.0\n",
      "\n",
      "Debug - Ingredient: coriander\n",
      "Debug - GI Value: 14.0\n"
     ]
    },
    {
     "name": "stderr",
     "output_type": "stream",
     "text": [
      "HTTP Request: POST https://api.openai.com/v1/chat/completions \"HTTP/1.1 200 OK\"\n"
     ]
    },
    {
     "name": "stdout",
     "output_type": "stream",
     "text": [
      "Debug - Carb Content: 4.1\n",
      "Debug - Original Quantity: 1/4 cup\n",
      "Debug - Converted Quantity (g): 60.0\n",
      "Debug - Actual Carbs (g): 2.4599999999999995\n",
      "Debug - Ingredient Load: 0.34439999999999993\n",
      "\n",
      "Debug - Ingredient: salt\n",
      "Debug - GI Value: 18.0\n"
     ]
    },
    {
     "name": "stderr",
     "output_type": "stream",
     "text": [
      "HTTP Request: POST https://api.openai.com/v1/chat/completions \"HTTP/1.1 200 OK\"\n"
     ]
    },
    {
     "name": "stdout",
     "output_type": "stream",
     "text": [
      "Debug - Carb Content: 0.0\n",
      "Error converting quantity for salt, defaulting to 1\n",
      "Debug - Original Quantity: to taste \n",
      "Debug - Converted Quantity (g): 1.0\n",
      "Debug - Actual Carbs (g): 0.0\n",
      "Debug - Ingredient Load: 0.0\n",
      "\n",
      "Debug - Ingredient: pepper\n",
      "Debug - GI Value: 18.0\n"
     ]
    },
    {
     "name": "stderr",
     "output_type": "stream",
     "text": [
      "HTTP Request: POST https://api.openai.com/v1/chat/completions \"HTTP/1.1 200 OK\"\n"
     ]
    },
    {
     "name": "stdout",
     "output_type": "stream",
     "text": [
      "Debug - Carb Content: 6.0\n",
      "Error converting quantity for pepper, defaulting to 1\n",
      "Debug - Original Quantity: to taste \n",
      "Debug - Converted Quantity (g): 1.0\n",
      "Debug - Actual Carbs (g): 0.06\n",
      "Debug - Ingredient Load: 0.0108\n",
      "\n",
      "Debug - Ingredient: lemon\n",
      "Debug - GI Value: 18.0\n"
     ]
    },
    {
     "name": "stderr",
     "output_type": "stream",
     "text": [
      "HTTP Request: POST https://api.openai.com/v1/chat/completions \"HTTP/1.1 200 OK\"\n"
     ]
    },
    {
     "name": "stdout",
     "output_type": "stream",
     "text": [
      "Debug - Carb Content: 6.1\n",
      "Debug - Original Quantity: 1 piece\n",
      "Debug - Converted Quantity (g): 1.0\n",
      "Debug - Actual Carbs (g): 0.061\n",
      "Debug - Ingredient Load: 0.010979999999999998\n",
      "\n",
      "Debug - Ingredient: plain greek yoghurt\n",
      "Debug - GI Value: 18.0\n"
     ]
    },
    {
     "name": "stderr",
     "output_type": "stream",
     "text": [
      "HTTP Request: POST https://api.openai.com/v1/chat/completions \"HTTP/1.1 200 OK\"\n"
     ]
    },
    {
     "name": "stdout",
     "output_type": "stream",
     "text": [
      "Debug - Carb Content: 4.0\n",
      "Debug - Original Quantity: 3/4 cup\n",
      "Debug - Converted Quantity (g): 180.0\n",
      "Debug - Actual Carbs (g): 7.2\n",
      "Debug - Ingredient Load: 1.296\n",
      "\n",
      "Debug - Ingredient: harissa paste\n",
      "Debug - GI Value: 18.0\n"
     ]
    },
    {
     "name": "stderr",
     "output_type": "stream",
     "text": [
      "HTTP Request: POST https://api.openai.com/v1/chat/completions \"HTTP/1.1 200 OK\"\n"
     ]
    },
    {
     "name": "stdout",
     "output_type": "stream",
     "text": [
      "Debug - Carb Content: 20.0\n",
      "Error converting quantity for harissa paste, defaulting to 1\n",
      "Debug - Original Quantity: 1-2 tablespoons\n",
      "Debug - Converted Quantity (g): 15.0\n",
      "Debug - Actual Carbs (g): 3.0\n",
      "Debug - Ingredient Load: 0.54\n",
      "\n",
      "Debug - Ingredient: lemon juice\n",
      "Debug - GI Value: 18.0\n"
     ]
    },
    {
     "name": "stderr",
     "output_type": "stream",
     "text": [
      "HTTP Request: POST https://api.openai.com/v1/chat/completions \"HTTP/1.1 200 OK\"\n"
     ]
    },
    {
     "name": "stdout",
     "output_type": "stream",
     "text": [
      "Debug - Carb Content: 6.0\n",
      "Debug - Original Quantity: 2 tablespoons\n",
      "Debug - Converted Quantity (g): 30.0\n",
      "Debug - Actual Carbs (g): 1.8\n",
      "Debug - Ingredient Load: 0.324\n",
      "\n",
      "Debug - Total Glycemic Load: 5.14518\n",
      "\n",
      "Initial glycemic load for harissa chicken with chickpeas: 5.14518\n",
      "Final glycemic load after all adjustments: 5.14518\n",
      "\n",
      "=== Best Recipe Recommendation ===\n",
      "\n",
      "Title: harissa chicken with chickpeas\n",
      "Glycemic Load: 5.15\n",
      "\n",
      "Ingredients:\n",
      "- 1 tablespoon olive oil\n",
      "- 6 pieces chicken thighs\n",
      "- 1 piece onion\n",
      "- 3 cloves garlic\n",
      "- 2 tablespoons tomato paste\n",
      "- 1 can chickpeas\n",
      "- 1/4 cup harissa paste\n",
      "- 2/3 cup chicken stock\n",
      "- 1/4 cup coriander\n",
      "- to taste  salt\n",
      "- to taste  pepper\n",
      "- 1 piece lemon\n",
      "- 3/4 cup plain greek yoghurt\n",
      "- 1-2 tablespoons harissa paste\n",
      "- 2 tablespoons lemon juice\n",
      "\n",
      "Instructions:\n",
      "1. chicken: preheat oven to 200c. heat oil in a large oven-safe skillet over medium-high heat. season chicken with salt and pepper. cook chicken for 4-5 minutes per side, until browned. (the chicken does not need to be fully cooked through.) set aside.\n",
      "2. reduce heat to medium and add onion and garlic to the skillet. cook for 2-3 minutes, until softened. add tomato paste and allow to brown for a minute or two. add chickpeas, harissa and chicken broth.', \"return chicken to the skillet and scatter lemon slices around. place in oven and roast for 20-25 minutes, until chicken is cooked through. top with cilantro and serve with harissa yoghurt sauce on the side. if you'd like your chicken more browned on top, pop it under a broiler set on high for a minute or two.\", 'harissa yoghurt sauce:  · in a small bowl, combine yoghurt, harissa and lemon juice. season to taste with salt and pepper.\n",
      "\n",
      "Nutritional Information:\n",
      "Here's a healthy dinner recipe featuring chicken and yogurt, along with detailed nutritional information.\n",
      "\n",
      "### Recipe: Yogurt Marinated Chicken with Quinoa and Vegetables\n",
      "\n",
      "#### Ingredients:\n",
      "- **For the Chicken Marinade:**\n",
      "  - 1 cup low-fat plain yogurt\n",
      "  - 2 tablespoons lemon juice\n",
      "  - 2 teaspoons garlic powder\n",
      "  - 1 teaspoon cumin\n",
      "  - 1 teaspoon paprika\n",
      "  - 1 teaspoon salt\n",
      "  - 1 teaspoon black pepper\n",
      "  - 500g boneless, skinless chicken breasts, cut into strips\n",
      "\n",
      "- **For the Quinoa and Vegetables:**\n",
      "  - 1 cup quinoa, rinsed\n",
      "  - 2 cups low-sodium vegetable broth or water\n",
      "  - 1 tablespoon olive oil\n",
      "  - 1 cup bell peppers, diced (any color)\n",
      "  - 1 cup zucchini, diced\n",
      "  - 1 cup broccoli florets\n",
      "  - 1 teaspoon dried oregano\n",
      "  - Fresh parsley for garnish (optional)\n",
      "\n",
      "#### Instructions:\n",
      "1. **Marinate the Chicken:**\n",
      "   - In a bowl, whisk together the yogurt, lemon juice, garlic powder, cumin, paprika, salt, and black pepper.\n",
      "   - Add the chicken strips to the marinade, ensuring they are well-coated. Cover and refrigerate for at least 1 hour (or up to overnight for more flavor).\n",
      "\n",
      "2. **Cook the Quinoa:**\n",
      "   - In a medium saucepan, combine quinoa and vegetable broth (or water). Bring to a boil, then reduce heat to low, cover, and simmer for 15 minutes or until the quinoa is fluffy and liquid is absorbed. Remove from heat and let it sit covered for 5 minutes.\n",
      "\n",
      "3. **Sauté the Vegetables:**\n",
      "   - In a large skillet, heat olive oil over medium heat. Add the bell peppers, zucchini, and broccoli. Sauté for about 5-7 minutes, or until the vegetables are tender but still crisp. Stir in the dried oregano and season with salt and pepper to taste.\n",
      "\n",
      "4. **Cook the Chicken:**\n",
      "   - In another non-stick skillet, heat a little olive oil over medium-high heat. Remove the chicken from the marinade and cook for about 6-8 minutes, turning occasionally, until the chicken is cooked through and no longer pink in the center.\n",
      "\n",
      "5. **Serve:**\n",
      "   - Fluff the quinoa with a fork and divide it among plates. Top with sautéed vegetables and grilled chicken. Garnish with fresh parsley if desired.\n",
      "\n",
      "#### Nutritional Information (per serving, serves 4):\n",
      "- **Calories:** 350\n",
      "- **Protein:** 35g\n",
      "- **Carbohydrates:** 35g\n",
      "- **Fat:** 10g\n",
      "- **Fiber:** 5g\n",
      "- **Sugar:** 5g\n",
      "\n",
      "#### Special Dietary Considerations:\n",
      "- **Low in saturated fat:** The use of low-fat yogurt and skinless chicken helps keep saturated fat low.\n",
      "- **High in protein:** This meal is protein-rich, which is beneficial for muscle maintenance and satiety.\n",
      "- **Gluten-free:** This recipe is naturally gluten-free as it uses quinoa instead of traditional grains.\n",
      "\n",
      "#### Glycemic Index Information:\n",
      "- **Quinoa:** Low to moderate glycemic index (GI of 53), making it a good choice for blood sugar control.\n",
      "- **Yogurt:** Low GI, especially when unsweetened.\n",
      "\n",
      "This recipe aligns with the dietary guidelines for Type 2 Diabetes by focusing on whole, minimally processed foods, incorporating lean protein, healthy fats, and fiber-rich vegetables. Enjoy your healthy dinner!\n"
     ]
    }
   ],
   "source": [
    "# Step 2: Analyze recipes with GI Agent\n",
    "if 'recipes' in recipe_results:\n",
    "    print(\"\\nAnalyzing recipes for glycemic impact...\")\n",
    "    best_recipe = gi_agent.process(recipe_results['recipes'])\n",
    "    \n",
    "    if 'error' in best_recipe:\n",
    "        print(f\"\\nError in GI analysis: {best_recipe['error']}\")\n",
    "    else:\n",
    "        print(\"\\n=== Best Recipe Recommendation ===\")\n",
    "        print(f\"\\nTitle: {best_recipe['title']}\")\n",
    "        print(f\"Glycemic Load: {best_recipe['glycemic_load']:.2f}\")\n",
    "        \n",
    "        print(\"\\nIngredients:\")\n",
    "        for ingredient in best_recipe['ingredients']:\n",
    "            print(f\"- {ingredient['quantity']} {ingredient['unit']} {ingredient['ingredient']}\")\n",
    "            \n",
    "        print(\"\\nInstructions:\")\n",
    "        for i, step in enumerate(best_recipe['instructions'], 1):\n",
    "            print(f\"{i}. {step}\")\n",
    "            \n",
    "        # Display nutritional information if available\n",
    "        if 'nutritional_info' in recipe_results:\n",
    "            print(\"\\nNutritional Information:\")\n",
    "            print(recipe_results['nutritional_info'])"
   ]
  },
  {
   "cell_type": "markdown",
   "metadata": {},
   "source": [
    "## Interactive Usage\n"
   ]
  },
  {
   "cell_type": "code",
   "execution_count": 7,
   "metadata": {},
   "outputs": [],
   "source": [
    "def get_recipe_recommendation():\n",
    "    \"\"\"Interactive function to get recipe recommendations\"\"\"\n",
    "    user_query = input(\"\\nEnter your recipe request: \")\n",
    "    print(\"\\nProcessing your request...\")\n",
    "    \n",
    "    try:\n",
    "        # Get recipes\n",
    "        recipe_results = recipe_agent.process(user_query)\n",
    "        \n",
    "        if 'error' in recipe_results:\n",
    "            print(f\"\\nError: {recipe_results['error']}\")\n",
    "            return\n",
    "            \n",
    "        if not recipe_results.get('recipes'):\n",
    "            print(\"\\nNo recipes found matching your query.\")\n",
    "            return\n",
    "            \n",
    "        # Analyze recipes\n",
    "        best_recipe = gi_agent.process(recipe_results['recipes'])\n",
    "        \n",
    "        if 'error' in best_recipe:\n",
    "            print(f\"\\nError in GI analysis: {best_recipe['error']}\")\n",
    "            return\n",
    "            \n",
    "        # Display results\n",
    "        print(\"\\n=== Best Recipe Recommendation ===\")\n",
    "        print(f\"\\nTitle: {best_recipe['title']}\")\n",
    "        print(f\"Glycemic Load: {best_recipe['glycemic_load']:.2f}\")\n",
    "        \n",
    "        print(\"\\nIngredients:\")\n",
    "        for ingredient in best_recipe['ingredients']:\n",
    "            print(f\"- {ingredient['quantity']} {ingredient['unit']} {ingredient['ingredient']}\")\n",
    "            \n",
    "        print(\"\\nInstructions:\")\n",
    "        for i, step in enumerate(best_recipe['instructions'], 1):\n",
    "            print(f\"{i}. {step}\")\n",
    "            \n",
    "        if 'nutritional_info' in recipe_results:\n",
    "            print(\"\\nNutritional Information:\")\n",
    "            print(recipe_results['nutritional_info'])\n",
    "            \n",
    "    except Exception as e:\n",
    "        print(f\"\\nAn error occurred: {str(e)}\")"
   ]
  },
  {
   "cell_type": "code",
   "execution_count": 8,
   "metadata": {},
   "outputs": [
    {
     "name": "stdout",
     "output_type": "stream",
     "text": [
      "\n",
      "Processing your request...\n",
      "Processing query: spinach\n",
      "Starting recipe search for query: 'spinach'\n"
     ]
    },
    {
     "data": {
      "application/vnd.jupyter.widget-view+json": {
       "model_id": "7e0b7694947848df87d1ddc9d61aaaa5",
       "version_major": 2,
       "version_minor": 0
      },
      "text/plain": [
       "Batches:   0%|          | 0/1 [00:00<?, ?it/s]"
      ]
     },
     "metadata": {},
     "output_type": "display_data"
    },
    {
     "name": "stderr",
     "output_type": "stream",
     "text": [
      "HTTP Request: POST https://api.openai.com/v1/chat/completions \"HTTP/1.1 200 OK\"\n"
     ]
    },
    {
     "name": "stdout",
     "output_type": "stream",
     "text": [
      "Recipe recommendations generated successfully\n"
     ]
    },
    {
     "name": "stderr",
     "output_type": "stream",
     "text": [
      "HTTP Request: POST https://api.openai.com/v1/chat/completions \"HTTP/1.1 200 OK\"\n"
     ]
    },
    {
     "name": "stdout",
     "output_type": "stream",
     "text": [
      "\n",
      "Debug - Ingredient: sunflower oil\n",
      "Debug - GI Value: 14.0\n"
     ]
    },
    {
     "name": "stderr",
     "output_type": "stream",
     "text": [
      "HTTP Request: POST https://api.openai.com/v1/chat/completions \"HTTP/1.1 200 OK\"\n"
     ]
    },
    {
     "name": "stdout",
     "output_type": "stream",
     "text": [
      "Debug - Carb Content: 0.0\n",
      "Debug - Original Quantity: 2 tablespoons\n",
      "Debug - Converted Quantity (g): 30.0\n",
      "Debug - Actual Carbs (g): 0.0\n",
      "Debug - Ingredient Load: 0.0\n",
      "\n",
      "Debug - Ingredient: onion\n",
      "Debug - GI Value: 18.0\n"
     ]
    },
    {
     "name": "stderr",
     "output_type": "stream",
     "text": [
      "HTTP Request: POST https://api.openai.com/v1/chat/completions \"HTTP/1.1 200 OK\"\n"
     ]
    },
    {
     "name": "stdout",
     "output_type": "stream",
     "text": [
      "Debug - Carb Content: 9.0\n",
      "Debug - Original Quantity: 1 piece\n",
      "Debug - Converted Quantity (g): 1.0\n",
      "Debug - Actual Carbs (g): 0.09\n",
      "Debug - Ingredient Load: 0.0162\n",
      "\n",
      "Debug - Ingredient: garlic\n",
      "Debug - GI Value: 18.0\n"
     ]
    },
    {
     "name": "stderr",
     "output_type": "stream",
     "text": [
      "HTTP Request: POST https://api.openai.com/v1/chat/completions \"HTTP/1.1 200 OK\"\n"
     ]
    },
    {
     "name": "stdout",
     "output_type": "stream",
     "text": [
      "Debug - Carb Content: 33.0\n",
      "Debug - Original Quantity: 1 clove\n",
      "Debug - Converted Quantity (g): 1.0\n",
      "Debug - Actual Carbs (g): 0.33\n",
      "Debug - Ingredient Load: 0.0594\n",
      "\n",
      "Debug - Ingredient: spinach\n",
      "Debug - GI Value: 18.0\n"
     ]
    },
    {
     "name": "stderr",
     "output_type": "stream",
     "text": [
      "HTTP Request: POST https://api.openai.com/v1/chat/completions \"HTTP/1.1 200 OK\"\n"
     ]
    },
    {
     "name": "stdout",
     "output_type": "stream",
     "text": [
      "Debug - Carb Content: 1.0\n",
      "Debug - Original Quantity: 2 cups\n",
      "Debug - Converted Quantity (g): 480.0\n",
      "Debug - Actual Carbs (g): 4.8\n",
      "Debug - Ingredient Load: 0.8639999999999999\n",
      "\n",
      "Debug - Ingredient: low fat yoghurt\n",
      "Debug - GI Value: 18.0\n"
     ]
    },
    {
     "name": "stderr",
     "output_type": "stream",
     "text": [
      "HTTP Request: POST https://api.openai.com/v1/chat/completions \"HTTP/1.1 200 OK\"\n"
     ]
    },
    {
     "name": "stdout",
     "output_type": "stream",
     "text": [
      "Debug - Carb Content: 4.0\n",
      "Error converting quantity for low fat yoghurt, defaulting to 1\n",
      "Debug - Original Quantity: ¼ cup\n",
      "Debug - Converted Quantity (g): 240.0\n",
      "Debug - Actual Carbs (g): 9.6\n",
      "Debug - Ingredient Load: 1.7279999999999998\n",
      "\n",
      "Debug - Ingredient: parmesan cheese\n",
      "Debug - GI Value: 18.0\n"
     ]
    },
    {
     "name": "stderr",
     "output_type": "stream",
     "text": [
      "HTTP Request: POST https://api.openai.com/v1/chat/completions \"HTTP/1.1 200 OK\"\n"
     ]
    },
    {
     "name": "stdout",
     "output_type": "stream",
     "text": [
      "Debug - Carb Content: 0.4\n",
      "Error converting quantity for parmesan cheese, defaulting to 1\n",
      "Debug - Original Quantity: ½ cup\n",
      "Debug - Converted Quantity (g): 240.0\n",
      "Debug - Actual Carbs (g): 0.96\n",
      "Debug - Ingredient Load: 0.1728\n",
      "\n",
      "Debug - Ingredient: salt\n",
      "Debug - GI Value: 18.0\n"
     ]
    },
    {
     "name": "stderr",
     "output_type": "stream",
     "text": [
      "HTTP Request: POST https://api.openai.com/v1/chat/completions \"HTTP/1.1 200 OK\"\n"
     ]
    },
    {
     "name": "stdout",
     "output_type": "stream",
     "text": [
      "Debug - Carb Content: 0.0\n",
      "Error converting quantity for salt, defaulting to 1\n",
      "Debug - Original Quantity: to taste \n",
      "Debug - Converted Quantity (g): 1.0\n",
      "Debug - Actual Carbs (g): 0.0\n",
      "Debug - Ingredient Load: 0.0\n",
      "\n",
      "Debug - Ingredient: pepper\n",
      "Debug - GI Value: 18.0\n"
     ]
    },
    {
     "name": "stderr",
     "output_type": "stream",
     "text": [
      "HTTP Request: POST https://api.openai.com/v1/chat/completions \"HTTP/1.1 200 OK\"\n"
     ]
    },
    {
     "name": "stdout",
     "output_type": "stream",
     "text": [
      "Debug - Carb Content: 6.0\n",
      "Error converting quantity for pepper, defaulting to 1\n",
      "Debug - Original Quantity: to taste \n",
      "Debug - Converted Quantity (g): 1.0\n",
      "Debug - Actual Carbs (g): 0.06\n",
      "Debug - Ingredient Load: 0.0108\n",
      "\n",
      "Debug - Total Glycemic Load: 2.8512\n",
      "\n",
      "Initial glycemic load for spinach and cheese: 2.8512\n",
      "Final glycemic load after all adjustments: 2.8512\n"
     ]
    },
    {
     "name": "stderr",
     "output_type": "stream",
     "text": [
      "HTTP Request: POST https://api.openai.com/v1/chat/completions \"HTTP/1.1 200 OK\"\n"
     ]
    },
    {
     "name": "stdout",
     "output_type": "stream",
     "text": [
      "\n",
      "Debug - Ingredient: oil\n",
      "Debug - GI Value: 14.0\n"
     ]
    },
    {
     "name": "stderr",
     "output_type": "stream",
     "text": [
      "HTTP Request: POST https://api.openai.com/v1/chat/completions \"HTTP/1.1 200 OK\"\n"
     ]
    },
    {
     "name": "stdout",
     "output_type": "stream",
     "text": [
      "Debug - Carb Content: 0.0\n",
      "Debug - Original Quantity: 1 tablespoon\n",
      "Debug - Converted Quantity (g): 15.0\n",
      "Debug - Actual Carbs (g): 0.0\n",
      "Debug - Ingredient Load: 0.0\n",
      "\n",
      "Debug - Ingredient: onion\n",
      "Debug - GI Value: 18.0\n"
     ]
    },
    {
     "name": "stderr",
     "output_type": "stream",
     "text": [
      "HTTP Request: POST https://api.openai.com/v1/chat/completions \"HTTP/1.1 200 OK\"\n"
     ]
    },
    {
     "name": "stdout",
     "output_type": "stream",
     "text": [
      "Debug - Carb Content: 9.0\n",
      "Debug - Original Quantity: 1/2 \n",
      "Debug - Converted Quantity (g): 0.5\n",
      "Debug - Actual Carbs (g): 0.045\n",
      "Debug - Ingredient Load: 0.0081\n",
      "\n",
      "Debug - Ingredient: garlic\n",
      "Debug - GI Value: 18.0\n"
     ]
    },
    {
     "name": "stderr",
     "output_type": "stream",
     "text": [
      "HTTP Request: POST https://api.openai.com/v1/chat/completions \"HTTP/1.1 200 OK\"\n"
     ]
    },
    {
     "name": "stdout",
     "output_type": "stream",
     "text": [
      "Debug - Carb Content: 33.0\n",
      "Debug - Original Quantity: 2 cloves\n",
      "Debug - Converted Quantity (g): 2.0\n",
      "Debug - Actual Carbs (g): 0.66\n",
      "Debug - Ingredient Load: 0.1188\n",
      "\n",
      "Debug - Ingredient: smoked paprika\n",
      "Debug - GI Value: 18.0\n"
     ]
    },
    {
     "name": "stderr",
     "output_type": "stream",
     "text": [
      "HTTP Request: POST https://api.openai.com/v1/chat/completions \"HTTP/1.1 200 OK\"\n"
     ]
    },
    {
     "name": "stdout",
     "output_type": "stream",
     "text": [
      "Debug - Carb Content: 54.0\n",
      "Debug - Original Quantity: 1 tablespoon\n",
      "Debug - Converted Quantity (g): 15.0\n",
      "Debug - Actual Carbs (g): 8.1\n",
      "Debug - Ingredient Load: 1.4579999999999997\n",
      "\n",
      "Debug - Ingredient: baby spinach\n",
      "Debug - GI Value: 18.0\n"
     ]
    },
    {
     "name": "stderr",
     "output_type": "stream",
     "text": [
      "HTTP Request: POST https://api.openai.com/v1/chat/completions \"HTTP/1.1 200 OK\"\n"
     ]
    },
    {
     "name": "stdout",
     "output_type": "stream",
     "text": [
      "Debug - Carb Content: 1.1\n",
      "Debug - Original Quantity: 200 g\n",
      "Debug - Converted Quantity (g): 200.0\n",
      "Debug - Actual Carbs (g): 2.2\n",
      "Debug - Ingredient Load: 0.396\n",
      "\n",
      "Debug - Ingredient: chickpeas\n",
      "Debug - GI Value: 18.0\n"
     ]
    },
    {
     "name": "stderr",
     "output_type": "stream",
     "text": [
      "HTTP Request: POST https://api.openai.com/v1/chat/completions \"HTTP/1.1 200 OK\"\n"
     ]
    },
    {
     "name": "stdout",
     "output_type": "stream",
     "text": [
      "Debug - Carb Content: 27.0\n",
      "Debug - Original Quantity: 1 can\n",
      "Debug - Converted Quantity (g): 1.0\n",
      "Debug - Actual Carbs (g): 0.27\n",
      "Debug - Ingredient Load: 0.048600000000000004\n",
      "\n",
      "Debug - Ingredient: salt\n",
      "Debug - GI Value: 18.0\n"
     ]
    },
    {
     "name": "stderr",
     "output_type": "stream",
     "text": [
      "HTTP Request: POST https://api.openai.com/v1/chat/completions \"HTTP/1.1 200 OK\"\n"
     ]
    },
    {
     "name": "stdout",
     "output_type": "stream",
     "text": [
      "Debug - Carb Content: 0.0\n",
      "Error converting quantity for salt, defaulting to 1\n",
      "Debug - Original Quantity:  to taste\n",
      "Debug - Converted Quantity (g): 1.0\n",
      "Debug - Actual Carbs (g): 0.0\n",
      "Debug - Ingredient Load: 0.0\n",
      "\n",
      "Debug - Total Glycemic Load: 2.0294999999999996\n",
      "\n",
      "Initial glycemic load for spinach and chickpea curry: 2.0294999999999996\n",
      "Final glycemic load after all adjustments: 2.0294999999999996\n"
     ]
    },
    {
     "name": "stderr",
     "output_type": "stream",
     "text": [
      "HTTP Request: POST https://api.openai.com/v1/chat/completions \"HTTP/1.1 200 OK\"\n"
     ]
    },
    {
     "name": "stdout",
     "output_type": "stream",
     "text": [
      "\n",
      "Debug - Ingredient: sole fillets\n",
      "Debug - GI Value: 18.0\n"
     ]
    },
    {
     "name": "stderr",
     "output_type": "stream",
     "text": [
      "HTTP Request: POST https://api.openai.com/v1/chat/completions \"HTTP/1.1 200 OK\"\n"
     ]
    },
    {
     "name": "stdout",
     "output_type": "stream",
     "text": [
      "Debug - Carb Content: 0.0\n",
      "Debug - Original Quantity: 4 fillets\n",
      "Debug - Converted Quantity (g): 4.0\n",
      "Debug - Actual Carbs (g): 0.0\n",
      "Debug - Ingredient Load: 0.0\n",
      "\n",
      "Debug - Ingredient: lemon\n",
      "Debug - GI Value: 18.0\n"
     ]
    },
    {
     "name": "stderr",
     "output_type": "stream",
     "text": [
      "HTTP Request: POST https://api.openai.com/v1/chat/completions \"HTTP/1.1 200 OK\"\n"
     ]
    },
    {
     "name": "stdout",
     "output_type": "stream",
     "text": [
      "Debug - Carb Content: 6.1\n",
      "Debug - Original Quantity: 1 \n",
      "Debug - Converted Quantity (g): 1.0\n",
      "Debug - Actual Carbs (g): 0.061\n",
      "Debug - Ingredient Load: 0.010979999999999998\n",
      "\n",
      "Debug - Ingredient: salt\n",
      "Debug - GI Value: 18.0\n"
     ]
    },
    {
     "name": "stderr",
     "output_type": "stream",
     "text": [
      "HTTP Request: POST https://api.openai.com/v1/chat/completions \"HTTP/1.1 200 OK\"\n"
     ]
    },
    {
     "name": "stdout",
     "output_type": "stream",
     "text": [
      "Debug - Carb Content: 0.0\n",
      "Error converting quantity for salt, defaulting to 1\n",
      "Debug - Original Quantity: to taste \n",
      "Debug - Converted Quantity (g): 1.0\n",
      "Debug - Actual Carbs (g): 0.0\n",
      "Debug - Ingredient Load: 0.0\n",
      "\n",
      "Debug - Ingredient: black pepper\n",
      "Debug - GI Value: 18.0\n"
     ]
    },
    {
     "name": "stderr",
     "output_type": "stream",
     "text": [
      "HTTP Request: POST https://api.openai.com/v1/chat/completions \"HTTP/1.1 200 OK\"\n"
     ]
    },
    {
     "name": "stdout",
     "output_type": "stream",
     "text": [
      "Debug - Carb Content: 64.0\n",
      "Error converting quantity for black pepper, defaulting to 1\n",
      "Debug - Original Quantity: to taste \n",
      "Debug - Converted Quantity (g): 1.0\n",
      "Debug - Actual Carbs (g): 0.64\n",
      "Debug - Ingredient Load: 0.1152\n",
      "\n",
      "Debug - Ingredient: canola oil\n",
      "Debug - GI Value: 18.0\n"
     ]
    },
    {
     "name": "stderr",
     "output_type": "stream",
     "text": [
      "HTTP Request: POST https://api.openai.com/v1/chat/completions \"HTTP/1.1 200 OK\"\n"
     ]
    },
    {
     "name": "stdout",
     "output_type": "stream",
     "text": [
      "Debug - Carb Content: 0.0\n",
      "Debug - Original Quantity: 1 tablespoon\n",
      "Debug - Converted Quantity (g): 15.0\n",
      "Debug - Actual Carbs (g): 0.0\n",
      "Debug - Ingredient Load: 0.0\n",
      "\n",
      "Debug - Ingredient: onion\n",
      "Debug - GI Value: 18.0\n"
     ]
    },
    {
     "name": "stderr",
     "output_type": "stream",
     "text": [
      "HTTP Request: POST https://api.openai.com/v1/chat/completions \"HTTP/1.1 200 OK\"\n"
     ]
    },
    {
     "name": "stdout",
     "output_type": "stream",
     "text": [
      "Debug - Carb Content: 9.0\n",
      "Error converting quantity for onion, defaulting to 1\n",
      "Debug - Original Quantity: ½ \n",
      "Debug - Converted Quantity (g): 1.0\n",
      "Debug - Actual Carbs (g): 0.09\n",
      "Debug - Ingredient Load: 0.0162\n",
      "\n",
      "Debug - Ingredient: garlic paste\n",
      "Debug - GI Value: 18.0\n"
     ]
    },
    {
     "name": "stderr",
     "output_type": "stream",
     "text": [
      "HTTP Request: POST https://api.openai.com/v1/chat/completions \"HTTP/1.1 200 OK\"\n"
     ]
    },
    {
     "name": "stdout",
     "output_type": "stream",
     "text": [
      "Debug - Carb Content: 20.0\n",
      "Error converting quantity for garlic paste, defaulting to 1\n",
      "Debug - Original Quantity: 1 ½ teaspoons\n",
      "Debug - Converted Quantity (g): 5.0\n",
      "Debug - Actual Carbs (g): 1.0\n",
      "Debug - Ingredient Load: 0.18\n",
      "\n",
      "Debug - Ingredient: chili flakes\n",
      "Debug - GI Value: 18.0\n"
     ]
    },
    {
     "name": "stderr",
     "output_type": "stream",
     "text": [
      "HTTP Request: POST https://api.openai.com/v1/chat/completions \"HTTP/1.1 200 OK\"\n"
     ]
    },
    {
     "name": "stdout",
     "output_type": "stream",
     "text": [
      "Debug - Carb Content: 58.0\n",
      "Error converting quantity for chili flakes, defaulting to 1\n",
      "Debug - Original Quantity: ½ teaspoon\n",
      "Debug - Converted Quantity (g): 5.0\n",
      "Debug - Actual Carbs (g): 2.9\n",
      "Debug - Ingredient Load: 0.5219999999999999\n",
      "\n",
      "Debug - Ingredient: mushrooms\n",
      "Debug - GI Value: 18.0\n"
     ]
    },
    {
     "name": "stderr",
     "output_type": "stream",
     "text": [
      "HTTP Request: POST https://api.openai.com/v1/chat/completions \"HTTP/1.1 200 OK\"\n"
     ]
    },
    {
     "name": "stdout",
     "output_type": "stream",
     "text": [
      "Debug - Carb Content: 3.3\n",
      "Debug - Original Quantity: 2 cups\n",
      "Debug - Converted Quantity (g): 480.0\n",
      "Debug - Actual Carbs (g): 15.84\n",
      "Debug - Ingredient Load: 2.8512\n",
      "\n",
      "Debug - Ingredient: spinach\n",
      "Debug - GI Value: 18.0\n"
     ]
    },
    {
     "name": "stderr",
     "output_type": "stream",
     "text": [
      "HTTP Request: POST https://api.openai.com/v1/chat/completions \"HTTP/1.1 200 OK\"\n"
     ]
    },
    {
     "name": "stdout",
     "output_type": "stream",
     "text": [
      "Debug - Carb Content: 1.0\n",
      "Error converting quantity for spinach, defaulting to 1\n",
      "Debug - Original Quantity: 2 ½ cups\n",
      "Debug - Converted Quantity (g): 240.0\n",
      "Debug - Actual Carbs (g): 2.4\n",
      "Debug - Ingredient Load: 0.43199999999999994\n",
      "\n",
      "Debug - Total Glycemic Load: 4.12758\n",
      "\n",
      "Initial glycemic load for sole fillets with spinach and mushrooms: 4.12758\n",
      "Final glycemic load after all adjustments: 4.12758\n"
     ]
    },
    {
     "name": "stderr",
     "output_type": "stream",
     "text": [
      "HTTP Request: POST https://api.openai.com/v1/chat/completions \"HTTP/1.1 200 OK\"\n"
     ]
    },
    {
     "name": "stdout",
     "output_type": "stream",
     "text": [
      "\n",
      "Debug - Ingredient: fresh dill\n",
      "Debug - GI Value: 18.0\n"
     ]
    },
    {
     "name": "stderr",
     "output_type": "stream",
     "text": [
      "HTTP Request: POST https://api.openai.com/v1/chat/completions \"HTTP/1.1 200 OK\"\n"
     ]
    },
    {
     "name": "stdout",
     "output_type": "stream",
     "text": [
      "Debug - Carb Content: 6.0\n",
      "Debug - Original Quantity: 2 tablespoon\n",
      "Debug - Converted Quantity (g): 30.0\n",
      "Debug - Actual Carbs (g): 1.8\n",
      "Debug - Ingredient Load: 0.324\n",
      "\n",
      "Debug - Ingredient: extra virgin olive oil\n",
      "Debug - GI Value: 18.0\n"
     ]
    },
    {
     "name": "stderr",
     "output_type": "stream",
     "text": [
      "HTTP Request: POST https://api.openai.com/v1/chat/completions \"HTTP/1.1 200 OK\"\n"
     ]
    },
    {
     "name": "stdout",
     "output_type": "stream",
     "text": [
      "Debug - Carb Content: 0.0\n",
      "Error converting quantity for extra virgin olive oil, defaulting to 1\n",
      "Debug - Original Quantity: ¼ cup\n",
      "Debug - Converted Quantity (g): 240.0\n",
      "Debug - Actual Carbs (g): 0.0\n",
      "Debug - Ingredient Load: 0.0\n",
      "\n",
      "Debug - Ingredient: lemon\n",
      "Debug - GI Value: 18.0\n"
     ]
    },
    {
     "name": "stderr",
     "output_type": "stream",
     "text": [
      "HTTP Request: POST https://api.openai.com/v1/chat/completions \"HTTP/1.1 200 OK\"\n"
     ]
    },
    {
     "name": "stdout",
     "output_type": "stream",
     "text": [
      "Debug - Carb Content: 6.1\n",
      "Debug - Original Quantity: 1 \n",
      "Debug - Converted Quantity (g): 1.0\n",
      "Debug - Actual Carbs (g): 0.061\n",
      "Debug - Ingredient Load: 0.010979999999999998\n",
      "\n",
      "Debug - Ingredient: sea salt\n",
      "Debug - GI Value: 18.0\n"
     ]
    },
    {
     "name": "stderr",
     "output_type": "stream",
     "text": [
      "HTTP Request: POST https://api.openai.com/v1/chat/completions \"HTTP/1.1 200 OK\"\n"
     ]
    },
    {
     "name": "stdout",
     "output_type": "stream",
     "text": [
      "Debug - Carb Content: 0.0\n",
      "Error converting quantity for sea salt, defaulting to 1\n",
      "Debug - Original Quantity: ¼ teaspoon\n",
      "Debug - Converted Quantity (g): 5.0\n",
      "Debug - Actual Carbs (g): 0.0\n",
      "Debug - Ingredient Load: 0.0\n",
      "\n",
      "Debug - Ingredient: black pepper\n",
      "Debug - GI Value: 18.0\n"
     ]
    },
    {
     "name": "stderr",
     "output_type": "stream",
     "text": [
      "HTTP Request: POST https://api.openai.com/v1/chat/completions \"HTTP/1.1 200 OK\"\n"
     ]
    },
    {
     "name": "stdout",
     "output_type": "stream",
     "text": [
      "Debug - Carb Content: 64.0\n",
      "Error converting quantity for black pepper, defaulting to 1\n",
      "Debug - Original Quantity: ¼ teaspoon\n",
      "Debug - Converted Quantity (g): 5.0\n",
      "Debug - Actual Carbs (g): 3.2\n",
      "Debug - Ingredient Load: 0.5760000000000001\n",
      "\n",
      "Debug - Ingredient: chickpeas\n",
      "Debug - GI Value: 18.0\n"
     ]
    },
    {
     "name": "stderr",
     "output_type": "stream",
     "text": [
      "HTTP Request: POST https://api.openai.com/v1/chat/completions \"HTTP/1.1 200 OK\"\n"
     ]
    },
    {
     "name": "stdout",
     "output_type": "stream",
     "text": [
      "Debug - Carb Content: 27.0\n",
      "Debug - Original Quantity: 1 can\n",
      "Debug - Converted Quantity (g): 1.0\n",
      "Debug - Actual Carbs (g): 0.27\n",
      "Debug - Ingredient Load: 0.048600000000000004\n",
      "\n",
      "Debug - Ingredient: cucumber\n",
      "Debug - GI Value: 18.0\n"
     ]
    },
    {
     "name": "stderr",
     "output_type": "stream",
     "text": [
      "HTTP Request: POST https://api.openai.com/v1/chat/completions \"HTTP/1.1 200 OK\"\n"
     ]
    },
    {
     "name": "stdout",
     "output_type": "stream",
     "text": [
      "Debug - Carb Content: 4.0\n",
      "Error converting quantity for cucumber, defaulting to 1\n",
      "Debug - Original Quantity: ½ (150g)\n",
      "Debug - Converted Quantity (g): 1.0\n",
      "Debug - Actual Carbs (g): 0.04\n",
      "Debug - Ingredient Load: 0.0072\n",
      "\n",
      "Debug - Ingredient: tomato\n",
      "Debug - GI Value: 18.0\n"
     ]
    },
    {
     "name": "stderr",
     "output_type": "stream",
     "text": [
      "HTTP Request: POST https://api.openai.com/v1/chat/completions \"HTTP/1.1 200 OK\"\n"
     ]
    },
    {
     "name": "stdout",
     "output_type": "stream",
     "text": [
      "Debug - Carb Content: 3.9\n",
      "Debug - Original Quantity: 1 medium\n",
      "Debug - Converted Quantity (g): 1.0\n",
      "Debug - Actual Carbs (g): 0.039\n",
      "Debug - Ingredient Load: 0.007019999999999999\n",
      "\n",
      "Debug - Ingredient: yellow bell pepper\n",
      "Debug - GI Value: 14.0\n"
     ]
    },
    {
     "name": "stderr",
     "output_type": "stream",
     "text": [
      "HTTP Request: POST https://api.openai.com/v1/chat/completions \"HTTP/1.1 200 OK\"\n"
     ]
    },
    {
     "name": "stdout",
     "output_type": "stream",
     "text": [
      "Debug - Carb Content: 6.0\n",
      "Debug - Original Quantity: 1 \n",
      "Debug - Converted Quantity (g): 1.0\n",
      "Debug - Actual Carbs (g): 0.06\n",
      "Debug - Ingredient Load: 0.0084\n",
      "\n",
      "Debug - Ingredient: baby spinach leaves\n",
      "Debug - GI Value: 18.0\n"
     ]
    },
    {
     "name": "stderr",
     "output_type": "stream",
     "text": [
      "HTTP Request: POST https://api.openai.com/v1/chat/completions \"HTTP/1.1 200 OK\"\n"
     ]
    },
    {
     "name": "stdout",
     "output_type": "stream",
     "text": [
      "Debug - Carb Content: 1.1\n",
      "Debug - Original Quantity: 4 cups\n",
      "Debug - Converted Quantity (g): 960.0\n",
      "Debug - Actual Carbs (g): 10.56\n",
      "Debug - Ingredient Load: 1.9008\n",
      "\n",
      "Debug - Ingredient: low-fat feta cheese\n",
      "Debug - GI Value: 18.0\n"
     ]
    },
    {
     "name": "stderr",
     "output_type": "stream",
     "text": [
      "HTTP Request: POST https://api.openai.com/v1/chat/completions \"HTTP/1.1 200 OK\"\n"
     ]
    },
    {
     "name": "stdout",
     "output_type": "stream",
     "text": [
      "Debug - Carb Content: 4.0\n",
      "Debug - Original Quantity: 200 g\n",
      "Debug - Converted Quantity (g): 200.0\n",
      "Debug - Actual Carbs (g): 8.0\n",
      "Debug - Ingredient Load: 1.44\n",
      "\n",
      "Debug - Total Glycemic Load: 4.323\n",
      "\n",
      "Initial glycemic load for greek baby spinach and chickpea salad: 4.323\n",
      "Final glycemic load after all adjustments: 4.323\n"
     ]
    },
    {
     "name": "stderr",
     "output_type": "stream",
     "text": [
      "HTTP Request: POST https://api.openai.com/v1/chat/completions \"HTTP/1.1 200 OK\"\n"
     ]
    },
    {
     "name": "stdout",
     "output_type": "stream",
     "text": [
      "\n",
      "Debug - Ingredient: olive oil\n",
      "Debug - GI Value: 18.0\n"
     ]
    },
    {
     "name": "stderr",
     "output_type": "stream",
     "text": [
      "HTTP Request: POST https://api.openai.com/v1/chat/completions \"HTTP/1.1 200 OK\"\n"
     ]
    },
    {
     "name": "stdout",
     "output_type": "stream",
     "text": [
      "Debug - Carb Content: 0.0\n",
      "Debug - Original Quantity: 3 tablespoons\n",
      "Debug - Converted Quantity (g): 45.0\n",
      "Debug - Actual Carbs (g): 0.0\n",
      "Debug - Ingredient Load: 0.0\n",
      "\n",
      "Debug - Ingredient: garlic\n",
      "Debug - GI Value: 18.0\n"
     ]
    },
    {
     "name": "stderr",
     "output_type": "stream",
     "text": [
      "HTTP Request: POST https://api.openai.com/v1/chat/completions \"HTTP/1.1 200 OK\"\n"
     ]
    },
    {
     "name": "stdout",
     "output_type": "stream",
     "text": [
      "Debug - Carb Content: 33.0\n",
      "Debug - Original Quantity: 2 cloves\n",
      "Debug - Converted Quantity (g): 2.0\n",
      "Debug - Actual Carbs (g): 0.66\n",
      "Debug - Ingredient Load: 0.1188\n",
      "\n",
      "Debug - Ingredient: spring onions\n",
      "Debug - GI Value: 14.0\n"
     ]
    },
    {
     "name": "stderr",
     "output_type": "stream",
     "text": [
      "HTTP Request: POST https://api.openai.com/v1/chat/completions \"HTTP/1.1 200 OK\"\n"
     ]
    },
    {
     "name": "stdout",
     "output_type": "stream",
     "text": [
      "Debug - Carb Content: 7.0\n",
      "Debug - Original Quantity: 2 \n",
      "Debug - Converted Quantity (g): 2.0\n",
      "Debug - Actual Carbs (g): 0.14\n",
      "Debug - Ingredient Load: 0.019600000000000003\n",
      "\n",
      "Debug - Ingredient: salt\n",
      "Debug - GI Value: 18.0\n"
     ]
    },
    {
     "name": "stderr",
     "output_type": "stream",
     "text": [
      "HTTP Request: POST https://api.openai.com/v1/chat/completions \"HTTP/1.1 200 OK\"\n"
     ]
    },
    {
     "name": "stdout",
     "output_type": "stream",
     "text": [
      "Debug - Carb Content: 0.0\n",
      "Error converting quantity for salt, defaulting to 1\n",
      "Debug - Original Quantity: ½ teaspoon\n",
      "Debug - Converted Quantity (g): 5.0\n",
      "Debug - Actual Carbs (g): 0.0\n",
      "Debug - Ingredient Load: 0.0\n",
      "\n",
      "Debug - Ingredient: tomato purée\n",
      "Debug - GI Value: 18.0\n"
     ]
    },
    {
     "name": "stderr",
     "output_type": "stream",
     "text": [
      "HTTP Request: POST https://api.openai.com/v1/chat/completions \"HTTP/1.1 200 OK\"\n"
     ]
    },
    {
     "name": "stdout",
     "output_type": "stream",
     "text": [
      "Debug - Carb Content: 4.0\n",
      "Debug - Original Quantity: 1 tablespoon\n",
      "Debug - Converted Quantity (g): 15.0\n",
      "Debug - Actual Carbs (g): 0.6\n",
      "Debug - Ingredient Load: 0.10799999999999998\n",
      "\n",
      "Debug - Ingredient: tomatoes\n",
      "Debug - GI Value: 18.0\n"
     ]
    },
    {
     "name": "stderr",
     "output_type": "stream",
     "text": [
      "HTTP Request: POST https://api.openai.com/v1/chat/completions \"HTTP/1.1 200 OK\"\n"
     ]
    },
    {
     "name": "stdout",
     "output_type": "stream",
     "text": [
      "Debug - Carb Content: 3.9\n",
      "Debug - Original Quantity: 4 \n",
      "Debug - Converted Quantity (g): 4.0\n",
      "Debug - Actual Carbs (g): 0.156\n",
      "Debug - Ingredient Load: 0.028079999999999997\n",
      "\n",
      "Debug - Ingredient: cumin seeds\n",
      "Debug - GI Value: 18.0\n"
     ]
    },
    {
     "name": "stderr",
     "output_type": "stream",
     "text": [
      "HTTP Request: POST https://api.openai.com/v1/chat/completions \"HTTP/1.1 200 OK\"\n"
     ]
    },
    {
     "name": "stdout",
     "output_type": "stream",
     "text": [
      "Debug - Carb Content: 44.0\n",
      "Debug - Original Quantity: 2 teaspoon\n",
      "Debug - Converted Quantity (g): 10.0\n",
      "Debug - Actual Carbs (g): 4.4\n",
      "Debug - Ingredient Load: 0.792\n",
      "\n",
      "Debug - Ingredient: smoked paprika\n",
      "Debug - GI Value: 18.0\n"
     ]
    },
    {
     "name": "stderr",
     "output_type": "stream",
     "text": [
      "HTTP Request: POST https://api.openai.com/v1/chat/completions \"HTTP/1.1 200 OK\"\n"
     ]
    },
    {
     "name": "stdout",
     "output_type": "stream",
     "text": [
      "Debug - Carb Content: 54.0\n",
      "Debug - Original Quantity: 1 teaspoon\n",
      "Debug - Converted Quantity (g): 5.0\n",
      "Debug - Actual Carbs (g): 2.7\n",
      "Debug - Ingredient Load: 0.486\n",
      "\n",
      "Debug - Ingredient: baby spinach leaves\n",
      "Debug - GI Value: 18.0\n"
     ]
    },
    {
     "name": "stderr",
     "output_type": "stream",
     "text": [
      "HTTP Request: POST https://api.openai.com/v1/chat/completions \"HTTP/1.1 200 OK\"\n"
     ]
    },
    {
     "name": "stdout",
     "output_type": "stream",
     "text": [
      "Debug - Carb Content: 1.1\n",
      "Debug - Original Quantity: 200 g\n",
      "Debug - Converted Quantity (g): 200.0\n",
      "Debug - Actual Carbs (g): 2.2\n",
      "Debug - Ingredient Load: 0.396\n",
      "\n",
      "Debug - Ingredient: medium eggs\n",
      "Debug - GI Value: 18.0\n"
     ]
    },
    {
     "name": "stderr",
     "output_type": "stream",
     "text": [
      "HTTP Request: POST https://api.openai.com/v1/chat/completions \"HTTP/1.1 200 OK\"\n"
     ]
    },
    {
     "name": "stdout",
     "output_type": "stream",
     "text": [
      "Debug - Carb Content: 0.0\n",
      "Debug - Original Quantity: 4 \n",
      "Debug - Converted Quantity (g): 4.0\n",
      "Debug - Actual Carbs (g): 0.0\n",
      "Debug - Ingredient Load: 0.0\n",
      "\n",
      "Debug - Ingredient: chilli flakes\n",
      "Debug - GI Value: 18.0\n"
     ]
    },
    {
     "name": "stderr",
     "output_type": "stream",
     "text": [
      "HTTP Request: POST https://api.openai.com/v1/chat/completions \"HTTP/1.1 200 OK\"\n"
     ]
    },
    {
     "name": "stdout",
     "output_type": "stream",
     "text": [
      "Debug - Carb Content: 58.0\n",
      "Debug - Original Quantity: 1 teaspoon\n",
      "Debug - Converted Quantity (g): 5.0\n",
      "Debug - Actual Carbs (g): 2.9\n",
      "Debug - Ingredient Load: 0.5219999999999999\n",
      "\n",
      "Debug - Total Glycemic Load: 2.47048\n",
      "\n",
      "Initial glycemic load for smoky spinach shaksusha: 2.47048\n",
      "Final glycemic load after all adjustments: 2.47048\n",
      "\n",
      "=== Best Recipe Recommendation ===\n",
      "\n",
      "Title: spinach and chickpea curry\n",
      "Glycemic Load: 2.03\n",
      "\n",
      "Ingredients:\n",
      "- 1 tablespoon oil\n",
      "- 1/2  onion\n",
      "- 2 cloves garlic\n",
      "- 1 tablespoon smoked paprika\n",
      "- 200 g baby spinach\n",
      "- 1 can chickpeas\n",
      "-  to taste salt\n",
      "\n",
      "Instructions:\n",
      "1. heat oil in a pan, saute onions until translucent\n",
      "2. add garlic and paprika and stir to combine\n",
      "3. cook for 1 minute more, stirring occasionally\n",
      "4. add spinach and cook until wilted\n",
      "5. add chickpeas and season\n",
      "6. allow to cook on low heat for a further 5 minutes\n",
      "\n",
      "Nutritional Information:\n",
      "Here’s a detailed nutritional breakdown for the recipes you provided that include spinach:\n",
      "\n",
      "### Recipe 1: Spinach and Cheese\n",
      "**Ingredients:**\n",
      "- 2 tablespoons sunflower oil\n",
      "- 1 onion (peeled and chopped)\n",
      "- 1 clove garlic, peeled and crushed\n",
      "- 2 cups spinach (rinsed and chopped)\n",
      "- ¼ cup low-fat yogurt\n",
      "- ½ cup parmesan cheese\n",
      "- Salt and pepper to taste\n",
      "\n",
      "**Nutritional Information (per serving, serves 4):**\n",
      "- Calories: 190\n",
      "- Protein: 9g\n",
      "- Carbohydrates: 9g\n",
      "- Fat: 14g\n",
      "- Fiber: 2g\n",
      "\n",
      "**Special Dietary Considerations:**\n",
      "- Contains dairy (low-fat yogurt and parmesan cheese).\n",
      "- Can be made gluten-free by ensuring no gluten-containing additives in yogurt.\n",
      "\n",
      "### Recipe 2: Spinach and Chickpea Curry\n",
      "**Ingredients:**\n",
      "- 1 tablespoon oil\n",
      "- ½ onion (diced)\n",
      "- 2 cloves garlic (minced)\n",
      "- 1 tablespoon smoked paprika\n",
      "- 200g baby spinach (finely chopped) (about 5 cups)\n",
      "- 1 can chickpeas (rinsed and drained)\n",
      "- Salt, to taste\n",
      "\n",
      "**Nutritional Information (per serving, serves 4):**\n",
      "- Calories: 150\n",
      "- Protein: 7g\n",
      "- Carbohydrates: 24g\n",
      "- Fat: 4g\n",
      "- Fiber: 6g\n",
      "\n",
      "**Special Dietary Considerations:**\n",
      "- Vegan-friendly.\n",
      "- High in fiber and plant-based protein.\n",
      "\n",
      "### Recipe 3: Sole Fillets with Spinach and Mushrooms\n",
      "**Ingredients:**\n",
      "- 4 x 110g sole fillets, skinned\n",
      "- 1 x lemon, zest and juice\n",
      "- Salt to taste\n",
      "- Black pepper to taste\n",
      "- 1 tablespoon canola oil\n",
      "- ½ onion finely diced\n",
      "- 1 ½ teaspoons garlic paste\n",
      "- ½ teaspoon chili flakes\n",
      "- 2 cups mushrooms, sliced\n",
      "- 2 ½ cups spinach deveined and sliced\n",
      "\n",
      "**Nutritional Information (per serving, serves 4):**\n",
      "- Calories: 220\n",
      "- Protein: 30g\n",
      "- Carbohydrates: 6g\n",
      "- Fat: 9g\n",
      "- Fiber: 2g\n",
      "\n",
      "**Special Dietary Considerations:**\n",
      "- Contains fish (sole).\n",
      "- Low in carbohydrates.\n",
      "\n",
      "### Recipe 4: Greek Baby Spinach and Chickpea Salad\n",
      "**Ingredients:**\n",
      "- 2 tablespoons fresh dill, chopped\n",
      "- ¼ cup extra virgin olive oil\n",
      "- 1 lemon, juiced\n",
      "- ¼ teaspoon sea salt\n",
      "- ¼ teaspoon black pepper\n",
      "- 1 can chickpeas, drained and rinsed\n",
      "- ½ (150g) cucumber, diced\n",
      "- 1 medium tomato, diced\n",
      "- 1 yellow bell pepper, chopped\n",
      "- 4 cups baby spinach leaves, stems removed\n",
      "- 200g low-fat feta cheese, crumbled\n",
      "\n",
      "**Nutritional Information (per serving, serves 4):**\n",
      "- Calories: 280\n",
      "- Protein: 12g\n",
      "- Carbohydrates: 24g\n",
      "- Fat: 16g\n",
      "- Fiber: 7g\n",
      "\n",
      "**Special Dietary Considerations:**\n",
      "- Contains dairy (feta cheese).\n",
      "- Can be made gluten-free.\n",
      "\n",
      "### Recipe 5: Smoky Spinach Shakshuka\n",
      "**Ingredients:**\n",
      "- 3 tablespoons olive oil\n",
      "- 2 cloves of garlic, crushed\n",
      "- 2 spring onions, finely chopped\n",
      "- ½ teaspoon salt\n",
      "- 1 tablespoon tomato purée\n",
      "- 4 tomatoes, chopped\n",
      "- 2 teaspoons cumin seeds\n",
      "- 1 teaspoon smoked paprika\n",
      "- 200g baby spinach leaves\n",
      "- 4 medium eggs\n",
      "- 1 teaspoon chili flakes\n",
      "\n",
      "**Nutritional Information (per serving, serves 4):**\n",
      "- Calories: 300\n",
      "- Protein: 14g\n",
      "- Carbohydrates: 12g\n",
      "- Fat: 20g\n",
      "- Fiber: 4g\n",
      "\n",
      "**Special Dietary Considerations:**\n",
      "- Contains eggs.\n",
      "- Can be made vegetarian.\n",
      "\n",
      "### Glycemic Index Information:\n",
      "- Spinach has a low glycemic index (GI) of around 15.\n",
      "- Chickpeas have a low GI of approximately 28-32.\n",
      "- Sole fish has a negligible GI as it contains no carbohydrates.\n",
      "- Feta cheese has a low GI, but the exact value can vary.\n",
      "\n",
      "These recipes are nutritious, promote the intake of vegetables, legumes, and whole foods, and align with dietary recommendations for managing type 2 diabetes.\n"
     ]
    }
   ],
   "source": [
    "# Try the interactive function\n",
    "get_recipe_recommendation()"
   ]
  }
 ],
 "metadata": {
  "kernelspec": {
   "display_name": "llms",
   "language": "python",
   "name": "python3"
  },
  "language_info": {
   "codemirror_mode": {
    "name": "ipython",
    "version": 3
   },
   "file_extension": ".py",
   "mimetype": "text/x-python",
   "name": "python",
   "nbconvert_exporter": "python",
   "pygments_lexer": "ipython3",
   "version": "3.11.12"
  }
 },
 "nbformat": 4,
 "nbformat_minor": 4
}
