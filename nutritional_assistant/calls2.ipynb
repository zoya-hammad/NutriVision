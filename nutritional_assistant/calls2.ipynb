{
 "cells": [
  {
   "cell_type": "markdown",
   "metadata": {},
   "source": [
    "# Nutritional Assistant - Recipe Recommendation System\n",
    "\n",
    "This notebook implements a streamlined workflow for recipe recommendations with glycemic index analysis.\n",
    "\n",
    "## Workflow:\n",
    "1. Recipe Agent finds similar recipes based on user query\n",
    "2. GI Analysis Agent evaluates recipes for glycemic impact\n",
    "3. Returns the best recipe with lowest glycemic load"
   ]
  },
  {
   "cell_type": "code",
   "execution_count": 6,
   "metadata": {},
   "outputs": [],
   "source": [
    "# Import required libraries\n",
    "import os\n",
    "from dotenv import load_dotenv\n",
    "from agents.recipe_agent import RecipeRecommendationAgent\n",
    "from agents.gi_agent import GIAnalysisAgent"
   ]
  },
  {
   "cell_type": "code",
   "execution_count": 7,
   "metadata": {},
   "outputs": [
    {
     "name": "stdout",
     "output_type": "stream",
     "text": [
      "Connecting to vector database...\n",
      "Connected to vector database successfully\n",
      "Successfully loaded dietary guidelines\n",
      "Successfully loaded food data with 5000 entries\n",
      "Successfully loaded food data with 5000 entries\n"
     ]
    }
   ],
   "source": [
    "# Load environment variables and initialize agents\n",
    "load_dotenv()\n",
    "\n",
    "# Initialize agents\n",
    "recipe_agent = RecipeRecommendationAgent()\n",
    "gi_agent = GIAnalysisAgent()"
   ]
  },
  {
   "cell_type": "markdown",
   "metadata": {},
   "source": [
    "## Usage\n"
   ]
  },
  {
   "cell_type": "code",
   "execution_count": null,
   "metadata": {},
   "outputs": [
    {
     "name": "stdout",
     "output_type": "stream",
     "text": [
      "Processing query: I want a healthy dinner recipe featuring chicken and yoghurt\n"
     ]
    }
   ],
   "source": [
    "user_query = \"I want a healthy dinner recipe featuring chicken and yoghurt\"  \n",
    "print(f\"Processing query: {user_query}\")"
   ]
  },
  {
   "cell_type": "code",
   "execution_count": 9,
   "metadata": {},
   "outputs": [
    {
     "name": "stdout",
     "output_type": "stream",
     "text": [
      "\n",
      "Finding similar recipes...\n",
      "Processing query: I want a healthy dinner recipe featuring chicken and yoghurt\n",
      "Starting recipe search for query: 'I want a healthy dinner recipe featuring chicken and yoghurt'\n",
      "Recipe recommendations generated successfully\n",
      "Found 5 recipes\n"
     ]
    }
   ],
   "source": [
    "# Step 1: Get recipes from Recipe Agent\n",
    "print(\"\\nFinding similar recipes...\")\n",
    "recipe_results = recipe_agent.process(user_query)\n",
    "\n",
    "if 'error' in recipe_results:\n",
    "    print(f\"\\nError: {recipe_results['error']}\")\n",
    "elif not recipe_results.get('recipes'):\n",
    "    print(\"\\nNo recipes found matching your query.\")\n",
    "else:\n",
    "    print(f\"Found {len(recipe_results['recipes'])} recipes\")"
   ]
  },
  {
   "cell_type": "code",
   "execution_count": 10,
   "metadata": {},
   "outputs": [
    {
     "name": "stdout",
     "output_type": "stream",
     "text": [
      "\n",
      "Analyzing recipes for glycemic impact...\n",
      "Error extracting ingredients: Expecting value: line 1 column 1 (char 0)\n",
      "Error extracting ingredients: Expecting value: line 1 column 1 (char 0)\n",
      "Error extracting ingredients: Expecting value: line 1 column 1 (char 0)\n",
      "\n",
      "=== Best Recipe Recommendation ===\n",
      "\n",
      "Title: yoghurt-curry marinated chicken strips\n",
      "Glycemic Load: 64.00\n",
      "\n",
      "Ingredients:\n",
      "- 1 cup low fat plain yoghurt\n",
      "- ½  onion\n",
      "- 3 tablespoons curry powder\n",
      "- 1 tablespoon extra-virgin olive oil\n",
      "- 1 teaspoon salt\n",
      "- ½ teaspoon paprika\n",
      "- 500 g chicken breasts\n",
      "- 4 cups variety stir-fry vegetables\n",
      "\n",
      "Instructions:\n",
      "1. whisk yoghurt, onion, curry powder, oil, salt and paprika in a shallow pan. add chicken   and turn until well-coated.\n",
      "2. cover and refrigerate for at least 4 – 8 hours.\n",
      "3. preheat a non-stick pan on medium-high heat. remove chicken from marinade and add the chicken with the marinade to pan.\n",
      "4. cook turning a few times until browned a (about 15 – 20 minutes). add vegetables and stir-fry till heated and cooked through. serve warm.\n",
      "\n",
      "Nutritional Information:\n",
      "Here’s a healthy dinner recipe featuring chicken and yogurt, aligned with the dietary guidelines for Type 2 Diabetes.\n",
      "\n",
      "### Recipe Title: Yogurt-Marinated Grilled Chicken with Quinoa Salad\n",
      "\n",
      "#### Ingredients:\n",
      "**For the Chicken:**\n",
      "- 1 cup low-fat plain yogurt\n",
      "- 2 tablespoons lemon juice\n",
      "- 2 cloves garlic, minced\n",
      "- 1 teaspoon ground cumin\n",
      "- 1 teaspoon paprika\n",
      "- 1 teaspoon salt\n",
      "- 500g boneless, skinless chicken breasts (about 4 pieces)\n",
      "\n",
      "**For the Quinoa Salad:**\n",
      "- 1 cup quinoa (uncooked)\n",
      "- 2 cups water or low-sodium vegetable broth\n",
      "- 1 cup cherry tomatoes, halved\n",
      "- 1 cucumber, diced\n",
      "- 1 bell pepper (any color), diced\n",
      "- 1 cup fresh spinach, chopped\n",
      "- 1/4 cup red onion, finely chopped\n",
      "- 2 tablespoons olive oil\n",
      "- 1 tablespoon lemon juice\n",
      "- Salt and pepper to taste\n",
      "- Fresh herbs (parsley or cilantro), chopped (optional)\n",
      "\n",
      "#### Instructions:\n",
      "1. **Marinate the Chicken:**\n",
      "   - In a bowl, combine yogurt, lemon juice, minced garlic, cumin, paprika, and salt. Mix well.\n",
      "   - Add chicken breasts to the marinade, ensuring they are well-coated. Cover and refrigerate for at least 1 hour (or up to overnight for more flavor).\n",
      "\n",
      "2. **Cook the Quinoa:**\n",
      "   - Rinse quinoa under cold water. In a medium saucepan, combine quinoa and water (or vegetable broth). Bring to a boil.\n",
      "   - Reduce heat to low, cover, and simmer for about 15 minutes or until quinoa is fluffy and water is absorbed. Remove from heat and let it sit covered for 5 minutes. Fluff with a fork.\n",
      "\n",
      "3. **Prepare the Salad:**\n",
      "   - In a large bowl, combine cooked quinoa, cherry tomatoes, cucumber, bell pepper, spinach, and red onion.\n",
      "   - In a small bowl, whisk together olive oil, lemon juice, salt, and pepper. Pour over the salad and toss gently to combine. Add fresh herbs if desired.\n",
      "\n",
      "4. **Grill the Chicken:**\n",
      "   - Preheat a grill or grill pan over medium-high heat. Remove chicken from marinade and discard excess marinade.\n",
      "   - Grill chicken for about 6-7 minutes on each side or until fully cooked (internal temperature should reach 165°F or 75°C). Remove from grill and let rest for a few minutes.\n",
      "\n",
      "5. **Serve:**\n",
      "   - Slice the grilled chicken and serve it over a bed of quinoa salad. Enjoy warm.\n",
      "\n",
      "#### Nutritional Information (per serving, serves 4):\n",
      "- **Calories:** 360\n",
      "- **Protein:** 34g\n",
      "- **Carbohydrates:** 30g\n",
      "- **Fat:** 12g\n",
      "- **Fiber:** 5g\n",
      "\n",
      "#### Special Dietary Considerations:\n",
      "- **Low in added sugars:** This recipe uses yogurt as a marinade, which provides flavor without added sugars.\n",
      "- **High in protein:** The chicken and quinoa provide a good source of protein, which is beneficial for muscle maintenance and satiety.\n",
      "- **Rich in vegetables:** The salad includes a variety of colorful vegetables, which are high in vitamins, minerals, and antioxidants.\n",
      "\n",
      "#### Glycemic Index Information:\n",
      "- **Quinoa:** Low to medium glycemic index (53), making it a good carbohydrate choice for blood sugar management.\n",
      "- **Chicken:** Has a negligible glycemic index, making it a suitable protein source for those managing blood sugar levels.\n",
      "\n",
      "This recipe is not only delicious but also aligns with the dietary guidelines for Type 2 Diabetes, promoting whole foods and balanced nutrition. Enjoy your healthy dinner!\n"
     ]
    }
   ],
   "source": [
    "# Step 2: Analyze recipes with GI Agent\n",
    "if 'recipes' in recipe_results:\n",
    "    print(\"\\nAnalyzing recipes for glycemic impact...\")\n",
    "    best_recipe = gi_agent.process(recipe_results['recipes'])\n",
    "    \n",
    "    if 'error' in best_recipe:\n",
    "        print(f\"\\nError in GI analysis: {best_recipe['error']}\")\n",
    "    else:\n",
    "        print(\"\\n=== Best Recipe Recommendation ===\")\n",
    "        print(f\"\\nTitle: {best_recipe['title']}\")\n",
    "        print(f\"Glycemic Load: {best_recipe['glycemic_load']:.2f}\")\n",
    "        \n",
    "        print(\"\\nIngredients:\")\n",
    "        for ingredient in best_recipe['ingredients']:\n",
    "            print(f\"- {ingredient['quantity']} {ingredient['unit']} {ingredient['ingredient']}\")\n",
    "            \n",
    "        print(\"\\nInstructions:\")\n",
    "        for i, step in enumerate(best_recipe['instructions'], 1):\n",
    "            print(f\"{i}. {step}\")\n",
    "            \n",
    "        # Display nutritional information if available\n",
    "        if 'nutritional_info' in recipe_results:\n",
    "            print(\"\\nNutritional Information:\")\n",
    "            print(recipe_results['nutritional_info'])"
   ]
  },
  {
   "cell_type": "markdown",
   "metadata": {},
   "source": [
    "## Interactive Usage\n"
   ]
  },
  {
   "cell_type": "code",
   "execution_count": null,
   "metadata": {},
   "outputs": [],
   "source": [
    "def get_recipe_recommendation():\n",
    "    \"\"\"Interactive function to get recipe recommendations\"\"\"\n",
    "    user_query = input(\"\\nEnter your recipe request: \")\n",
    "    print(\"\\nProcessing your request...\")\n",
    "    \n",
    "    try:\n",
    "        # Get recipes\n",
    "        recipe_results = recipe_agent.process(user_query)\n",
    "        \n",
    "        if 'error' in recipe_results:\n",
    "            print(f\"\\nError: {recipe_results['error']}\")\n",
    "            return\n",
    "            \n",
    "        if not recipe_results.get('recipes'):\n",
    "            print(\"\\nNo recipes found matching your query.\")\n",
    "            return\n",
    "            \n",
    "        # Analyze recipes\n",
    "        best_recipe = gi_agent.process(recipe_results['recipes'])\n",
    "        \n",
    "        if 'error' in best_recipe:\n",
    "            print(f\"\\nError in GI analysis: {best_recipe['error']}\")\n",
    "            return\n",
    "            \n",
    "        # Display results\n",
    "        print(\"\\n=== Best Recipe Recommendation ===\")\n",
    "        print(f\"\\nTitle: {best_recipe['title']}\")\n",
    "        print(f\"Glycemic Load: {best_recipe['glycemic_load']:.2f}\")\n",
    "        \n",
    "        print(\"\\nIngredients:\")\n",
    "        for ingredient in best_recipe['ingredients']:\n",
    "            print(f\"- {ingredient['quantity']} {ingredient['unit']} {ingredient['ingredient']}\")\n",
    "            \n",
    "        print(\"\\nInstructions:\")\n",
    "        for i, step in enumerate(best_recipe['instructions'], 1):\n",
    "            print(f\"{i}. {step}\")\n",
    "            \n",
    "        if 'nutritional_info' in recipe_results:\n",
    "            print(\"\\nNutritional Information:\")\n",
    "            print(recipe_results['nutritional_info'])\n",
    "            \n",
    "    except Exception as e:\n",
    "        print(f\"\\nAn error occurred: {str(e)}\")"
   ]
  },
  {
   "cell_type": "code",
   "execution_count": null,
   "metadata": {},
   "outputs": [],
   "source": [
    "# Try the interactive function\n",
    "get_recipe_recommendation()"
   ]
  }
 ],
 "metadata": {
  "kernelspec": {
   "display_name": "Python 3 (ipykernel)",
   "language": "python",
   "name": "python3"
  },
  "language_info": {
   "codemirror_mode": {
    "name": "ipython",
    "version": 3
   },
   "file_extension": ".py",
   "mimetype": "text/x-python",
   "name": "python",
   "nbconvert_exporter": "python",
   "pygments_lexer": "ipython3",
   "version": "3.11.12"
  }
 },
 "nbformat": 4,
 "nbformat_minor": 4
}
