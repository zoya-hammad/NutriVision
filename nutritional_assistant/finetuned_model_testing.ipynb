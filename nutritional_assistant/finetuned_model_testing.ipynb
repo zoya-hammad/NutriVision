{
 "cells": [
  {
   "cell_type": "markdown",
   "metadata": {},
   "source": [
    "# Finetuned Model Testing\n",
    "\n",
    "This notebook tests our finetuned model from Hugging Face across different recipe categories:\n",
    "1. Simple recipes\n",
    "2. High GI recipes\n",
    "3. Low GI recipes"
   ]
  },
  {
   "cell_type": "code",
   "execution_count": 10,
   "metadata": {},
   "outputs": [],
   "source": [
    "import pandas as pd\n",
    "import numpy as np\n",
    "import matplotlib.pyplot as plt\n",
    "import seaborn as sns\n",
    "from agents.gi_agent_roberta_finetuned import GIAnalysisAgentRoBERTaFinetuned\n",
    "from agents.gi_agent_roberta_finetuned_2 import GIAnalysisAgentRoBERTaFinetuned2\n",
    "from agents.gi_grader_agent import GIGraderAgent\n",
    "from test_data.simple.simple_recipes import SIMPLE_RECIPES\n",
    "from test_data.high_gi.high_gi_recipes import HIGH_GI_RECIPES\n",
    "from test_data.low_gi.low_gi_recipes import LOW_GI_RECIPES\n",
    "import json\n",
    "from typing import List, Dict, Any\n",
    "from datetime import datetime\n",
    "import os"
   ]
  },
  {
   "cell_type": "markdown",
   "metadata": {},
   "source": [
    "## Setup Results Directory"
   ]
  },
  {
   "cell_type": "code",
   "execution_count": 11,
   "metadata": {},
   "outputs": [
    {
     "name": "stdout",
     "output_type": "stream",
     "text": [
      "Results will be saved in: test_results/finetuned/20250601_080735\n"
     ]
    }
   ],
   "source": [
    "# Create timestamp for this test run\n",
    "timestamp = datetime.now().strftime('%Y%m%d_%H%M%S')\n",
    "results_dir = f'test_results/finetuned/{timestamp}'\n",
    "plots_dir = f'{results_dir}/plots'\n",
    "data_dir = f'{results_dir}/data'\n",
    "\n",
    "# Create directories if they don't exist\n",
    "os.makedirs(plots_dir, exist_ok=True)\n",
    "os.makedirs(data_dir, exist_ok=True)\n",
    "\n",
    "print(f\"Results will be saved in: {results_dir}\")"
   ]
  },
  {
   "cell_type": "markdown",
   "metadata": {},
   "source": [
    "## Initialize Agents"
   ]
  },
  {
   "cell_type": "code",
   "execution_count": 12,
   "metadata": {},
   "outputs": [
    {
     "name": "stdout",
     "output_type": "stream",
     "text": [
      "Successfully loaded food data with 5000 entries\n"
     ]
    },
    {
     "name": "stderr",
     "output_type": "stream",
     "text": [
      "Note: Environment variable`HF_TOKEN` is set and is the current active token independently from the token you've just configured.\n",
      "Note: Environment variable`HF_TOKEN` is set and is the current active token independently from the token you've just configured.\n"
     ]
    }
   ],
   "source": [
    "# Initialize agents\n",
    "gi_agent = GIAnalysisAgentRoBERTaFinetuned2()\n",
    "grader_agent = GIGraderAgent()"
   ]
  },
  {
   "cell_type": "markdown",
   "metadata": {},
   "source": [
    "## Test Function"
   ]
  },
  {
   "cell_type": "code",
   "execution_count": 13,
   "metadata": {},
   "outputs": [],
   "source": [
    "def test_category(recipes: List[Dict[str, Any]], category_name: str) -> pd.DataFrame:\n",
    "    \"\"\"Test a category of recipes and return results\"\"\"\n",
    "    results = []\n",
    "    \n",
    "    for recipe in recipes:\n",
    "        # Get our prediction\n",
    "        our_result = gi_agent.process([recipe])\n",
    "        if 'error' in our_result:\n",
    "            print(f\"Error processing {recipe['title']}: {our_result['error']}\")\n",
    "            continue\n",
    "            \n",
    "        our_prediction = our_result['glycemic_load']\n",
    "        \n",
    "        # Get expert grading\n",
    "        grade_result = grader_agent.grade_prediction(recipe, our_prediction)\n",
    "        \n",
    "        # Store results\n",
    "        results.append({\n",
    "            'recipe': recipe['title'],\n",
    "            'category': category_name,\n",
    "            'our_prediction': our_prediction,\n",
    "            'expert_assessment': grade_result['assessed_gi'],\n",
    "            'prediction_difference': grade_result['prediction_difference']\n",
    "        })\n",
    "    \n",
    "    return pd.DataFrame(results)"
   ]
  },
  {
   "cell_type": "markdown",
   "metadata": {},
   "source": [
    "## Run Tests and Calculate Metrics"
   ]
  },
  {
   "cell_type": "code",
   "execution_count": 14,
   "metadata": {},
   "outputs": [
    {
     "name": "stderr",
     "output_type": "stream",
     "text": [
      "HTTP Request: POST https://api.openai.com/v1/chat/completions \"HTTP/1.1 200 OK\"\n"
     ]
    },
    {
     "name": "stdout",
     "output_type": "stream",
     "text": [
      "\n",
      "Debug - Ingredient: brown rice\n",
      "Debug - GI Value: 18.0\n"
     ]
    },
    {
     "name": "stderr",
     "output_type": "stream",
     "text": [
      "HTTP Request: POST https://api.openai.com/v1/chat/completions \"HTTP/1.1 200 OK\"\n"
     ]
    },
    {
     "name": "stdout",
     "output_type": "stream",
     "text": [
      "Debug - Carb Content: 77.0\n",
      "Debug - Original Quantity: 1 cup\n",
      "Debug - Converted Quantity (g): 240.0\n",
      "Debug - Actual Carbs (g): 184.8\n",
      "Debug - Ingredient Load: 33.264\n",
      "\n",
      "Debug - Ingredient: steamed vegetables\n",
      "Debug - GI Value: 18.0\n"
     ]
    },
    {
     "name": "stderr",
     "output_type": "stream",
     "text": [
      "HTTP Request: POST https://api.openai.com/v1/chat/completions \"HTTP/1.1 200 OK\"\n"
     ]
    },
    {
     "name": "stdout",
     "output_type": "stream",
     "text": [
      "Debug - Carb Content: 4.0\n",
      "Debug - Original Quantity: 1 cup\n",
      "Debug - Converted Quantity (g): 240.0\n",
      "Debug - Actual Carbs (g): 9.6\n",
      "Debug - Ingredient Load: 1.7279999999999998\n",
      "\n",
      "Debug - Ingredient: olive oil\n",
      "Debug - GI Value: 18.0\n"
     ]
    },
    {
     "name": "stderr",
     "output_type": "stream",
     "text": [
      "HTTP Request: POST https://api.openai.com/v1/chat/completions \"HTTP/1.1 200 OK\"\n"
     ]
    },
    {
     "name": "stdout",
     "output_type": "stream",
     "text": [
      "Debug - Carb Content: 0.0\n",
      "Debug - Original Quantity: 1 tbsp\n",
      "Debug - Converted Quantity (g): 15.0\n",
      "Debug - Actual Carbs (g): 0.0\n",
      "Debug - Ingredient Load: 0.0\n",
      "\n",
      "Debug - Ingredient: soy sauce\n",
      "Debug - GI Value: 18.0\n"
     ]
    },
    {
     "name": "stderr",
     "output_type": "stream",
     "text": [
      "HTTP Request: POST https://api.openai.com/v1/chat/completions \"HTTP/1.1 200 OK\"\n"
     ]
    },
    {
     "name": "stdout",
     "output_type": "stream",
     "text": [
      "Debug - Carb Content: 4.7\n",
      "Debug - Original Quantity: 1 tsp\n",
      "Debug - Converted Quantity (g): 5.0\n",
      "Debug - Actual Carbs (g): 0.235\n",
      "Debug - Ingredient Load: 0.0423\n",
      "\n",
      "Debug - Total Glycemic Load: 35.0343\n"
     ]
    },
    {
     "name": "stderr",
     "output_type": "stream",
     "text": [
      "HTTP Request: POST https://api.anthropic.com/v1/messages \"HTTP/1.1 200 OK\"\n",
      "HTTP Request: POST https://api.anthropic.com/v1/messages \"HTTP/1.1 200 OK\"\n"
     ]
    },
    {
     "data": {
      "text/html": [
       "<div>\n",
       "<style scoped>\n",
       "    .dataframe tbody tr th:only-of-type {\n",
       "        vertical-align: middle;\n",
       "    }\n",
       "\n",
       "    .dataframe tbody tr th {\n",
       "        vertical-align: top;\n",
       "    }\n",
       "\n",
       "    .dataframe thead th {\n",
       "        text-align: right;\n",
       "    }\n",
       "</style>\n",
       "<table border=\"1\" class=\"dataframe\">\n",
       "  <thead>\n",
       "    <tr style=\"text-align: right;\">\n",
       "      <th></th>\n",
       "      <th>recipe</th>\n",
       "      <th>category</th>\n",
       "      <th>our_prediction</th>\n",
       "      <th>expert_assessment</th>\n",
       "      <th>prediction_difference</th>\n",
       "    </tr>\n",
       "  </thead>\n",
       "  <tbody>\n",
       "    <tr>\n",
       "      <th>0</th>\n",
       "      <td>Basic Brown Rice Bowl</td>\n",
       "      <td>Simple</td>\n",
       "      <td>35.0343</td>\n",
       "      <td>50.0</td>\n",
       "      <td>14.9657</td>\n",
       "    </tr>\n",
       "  </tbody>\n",
       "</table>\n",
       "</div>"
      ],
      "text/plain": [
       "                  recipe category  our_prediction  expert_assessment  \\\n",
       "0  Basic Brown Rice Bowl   Simple         35.0343               50.0   \n",
       "\n",
       "   prediction_difference  \n",
       "0                14.9657  "
      ]
     },
     "execution_count": 14,
     "metadata": {},
     "output_type": "execute_result"
    }
   ],
   "source": [
    "simple_results = test_category(SIMPLE_RECIPES[:1], \"Simple\")\n",
    "simple_results"
   ]
  },
  {
   "cell_type": "code",
   "execution_count": 15,
   "metadata": {},
   "outputs": [
    {
     "name": "stderr",
     "output_type": "stream",
     "text": [
      "HTTP Request: POST https://api.openai.com/v1/chat/completions \"HTTP/1.1 200 OK\"\n"
     ]
    },
    {
     "name": "stdout",
     "output_type": "stream",
     "text": [
      "\n",
      "Debug - Ingredient: brown rice\n",
      "Debug - GI Value: 18.0\n"
     ]
    },
    {
     "name": "stderr",
     "output_type": "stream",
     "text": [
      "HTTP Request: POST https://api.openai.com/v1/chat/completions \"HTTP/1.1 200 OK\"\n"
     ]
    },
    {
     "name": "stdout",
     "output_type": "stream",
     "text": [
      "Debug - Carb Content: 77.0\n",
      "Debug - Original Quantity: 1 cup\n",
      "Debug - Converted Quantity (g): 240.0\n",
      "Debug - Actual Carbs (g): 184.8\n",
      "Debug - Ingredient Load: 33.264\n",
      "\n",
      "Debug - Ingredient: steamed vegetables\n",
      "Debug - GI Value: 18.0\n"
     ]
    },
    {
     "name": "stderr",
     "output_type": "stream",
     "text": [
      "HTTP Request: POST https://api.openai.com/v1/chat/completions \"HTTP/1.1 200 OK\"\n"
     ]
    },
    {
     "name": "stdout",
     "output_type": "stream",
     "text": [
      "Debug - Carb Content: 4.0\n",
      "Debug - Original Quantity: 1 cup\n",
      "Debug - Converted Quantity (g): 240.0\n",
      "Debug - Actual Carbs (g): 9.6\n",
      "Debug - Ingredient Load: 1.7279999999999998\n",
      "\n",
      "Debug - Ingredient: olive oil\n",
      "Debug - GI Value: 18.0\n"
     ]
    },
    {
     "name": "stderr",
     "output_type": "stream",
     "text": [
      "HTTP Request: POST https://api.openai.com/v1/chat/completions \"HTTP/1.1 200 OK\"\n"
     ]
    },
    {
     "name": "stdout",
     "output_type": "stream",
     "text": [
      "Debug - Carb Content: 0.0\n",
      "Debug - Original Quantity: 1 tbsp\n",
      "Debug - Converted Quantity (g): 15.0\n",
      "Debug - Actual Carbs (g): 0.0\n",
      "Debug - Ingredient Load: 0.0\n",
      "\n",
      "Debug - Ingredient: soy sauce\n",
      "Debug - GI Value: 18.0\n"
     ]
    },
    {
     "name": "stderr",
     "output_type": "stream",
     "text": [
      "HTTP Request: POST https://api.openai.com/v1/chat/completions \"HTTP/1.1 200 OK\"\n"
     ]
    },
    {
     "name": "stdout",
     "output_type": "stream",
     "text": [
      "Debug - Carb Content: 4.7\n",
      "Debug - Original Quantity: 1 tsp\n",
      "Debug - Converted Quantity (g): 5.0\n",
      "Debug - Actual Carbs (g): 0.235\n",
      "Debug - Ingredient Load: 0.0423\n",
      "\n",
      "Debug - Total Glycemic Load: 35.0343\n"
     ]
    },
    {
     "name": "stderr",
     "output_type": "stream",
     "text": [
      "HTTP Request: POST https://api.anthropic.com/v1/messages \"HTTP/1.1 200 OK\"\n",
      "HTTP Request: POST https://api.anthropic.com/v1/messages \"HTTP/1.1 200 OK\"\n",
      "HTTP Request: POST https://api.openai.com/v1/chat/completions \"HTTP/1.1 200 OK\"\n"
     ]
    },
    {
     "name": "stdout",
     "output_type": "stream",
     "text": [
      "\n",
      "Debug - Ingredient: red lentils\n",
      "Debug - GI Value: 18.0\n"
     ]
    },
    {
     "name": "stderr",
     "output_type": "stream",
     "text": [
      "HTTP Request: POST https://api.openai.com/v1/chat/completions \"HTTP/1.1 200 OK\"\n"
     ]
    },
    {
     "name": "stdout",
     "output_type": "stream",
     "text": [
      "Debug - Carb Content: 60.0\n",
      "Debug - Original Quantity: 1 cup\n",
      "Debug - Converted Quantity (g): 240.0\n",
      "Debug - Actual Carbs (g): 144.0\n",
      "Debug - Ingredient Load: 25.92\n",
      "\n",
      "Debug - Ingredient: onion\n",
      "Debug - GI Value: 18.0\n"
     ]
    },
    {
     "name": "stderr",
     "output_type": "stream",
     "text": [
      "HTTP Request: POST https://api.openai.com/v1/chat/completions \"HTTP/1.1 200 OK\"\n"
     ]
    },
    {
     "name": "stdout",
     "output_type": "stream",
     "text": [
      "Debug - Carb Content: 9.0\n",
      "Debug - Original Quantity: 1 \n",
      "Debug - Converted Quantity (g): 1.0\n",
      "Debug - Actual Carbs (g): 0.09\n",
      "Debug - Ingredient Load: 0.0162\n",
      "\n",
      "Debug - Ingredient: carrots\n",
      "Debug - GI Value: 18.0\n"
     ]
    },
    {
     "name": "stderr",
     "output_type": "stream",
     "text": [
      "HTTP Request: POST https://api.openai.com/v1/chat/completions \"HTTP/1.1 200 OK\"\n"
     ]
    },
    {
     "name": "stdout",
     "output_type": "stream",
     "text": [
      "Debug - Carb Content: 9.0\n",
      "Debug - Original Quantity: 2 \n",
      "Debug - Converted Quantity (g): 2.0\n",
      "Debug - Actual Carbs (g): 0.18\n",
      "Debug - Ingredient Load: 0.0324\n",
      "\n",
      "Debug - Ingredient: vegetable broth\n",
      "Debug - GI Value: 18.0\n"
     ]
    },
    {
     "name": "stderr",
     "output_type": "stream",
     "text": [
      "HTTP Request: POST https://api.openai.com/v1/chat/completions \"HTTP/1.1 200 OK\"\n"
     ]
    },
    {
     "name": "stdout",
     "output_type": "stream",
     "text": [
      "Debug - Carb Content: 1.0\n",
      "Debug - Original Quantity: 4 cups\n",
      "Debug - Converted Quantity (g): 960.0\n",
      "Debug - Actual Carbs (g): 9.6\n",
      "Debug - Ingredient Load: 1.7279999999999998\n",
      "\n",
      "Debug - Ingredient: cumin\n",
      "Debug - GI Value: 18.0\n"
     ]
    },
    {
     "name": "stderr",
     "output_type": "stream",
     "text": [
      "HTTP Request: POST https://api.openai.com/v1/chat/completions \"HTTP/1.1 200 OK\"\n"
     ]
    },
    {
     "name": "stdout",
     "output_type": "stream",
     "text": [
      "Debug - Carb Content: 44.0\n",
      "Debug - Original Quantity: 1 tsp\n",
      "Debug - Converted Quantity (g): 5.0\n",
      "Debug - Actual Carbs (g): 2.2\n",
      "Debug - Ingredient Load: 0.396\n",
      "\n",
      "Debug - Total Glycemic Load: 28.092600000000004\n"
     ]
    },
    {
     "name": "stderr",
     "output_type": "stream",
     "text": [
      "HTTP Request: POST https://api.anthropic.com/v1/messages \"HTTP/1.1 200 OK\"\n",
      "HTTP Request: POST https://api.anthropic.com/v1/messages \"HTTP/1.1 200 OK\"\n",
      "HTTP Request: POST https://api.openai.com/v1/chat/completions \"HTTP/1.1 200 OK\"\n"
     ]
    },
    {
     "name": "stdout",
     "output_type": "stream",
     "text": [
      "\n",
      "Debug - Ingredient: quinoa\n",
      "Debug - GI Value: 18.0\n"
     ]
    },
    {
     "name": "stderr",
     "output_type": "stream",
     "text": [
      "HTTP Request: POST https://api.openai.com/v1/chat/completions \"HTTP/1.1 200 OK\"\n"
     ]
    },
    {
     "name": "stdout",
     "output_type": "stream",
     "text": [
      "Debug - Carb Content: 21.0\n",
      "Debug - Original Quantity: 1 cup\n",
      "Debug - Converted Quantity (g): 240.0\n",
      "Debug - Actual Carbs (g): 50.4\n",
      "Debug - Ingredient Load: 9.072\n",
      "\n",
      "Debug - Ingredient: cucumber\n",
      "Debug - GI Value: 18.0\n"
     ]
    },
    {
     "name": "stderr",
     "output_type": "stream",
     "text": [
      "HTTP Request: POST https://api.openai.com/v1/chat/completions \"HTTP/1.1 200 OK\"\n"
     ]
    },
    {
     "name": "stdout",
     "output_type": "stream",
     "text": [
      "Debug - Carb Content: 3.6\n",
      "Debug - Original Quantity: 1 \n",
      "Debug - Converted Quantity (g): 1.0\n",
      "Debug - Actual Carbs (g): 0.036000000000000004\n",
      "Debug - Ingredient Load: 0.006480000000000001\n",
      "\n",
      "Debug - Ingredient: tomatoes\n",
      "Debug - GI Value: 18.0\n"
     ]
    },
    {
     "name": "stderr",
     "output_type": "stream",
     "text": [
      "HTTP Request: POST https://api.openai.com/v1/chat/completions \"HTTP/1.1 200 OK\"\n"
     ]
    },
    {
     "name": "stdout",
     "output_type": "stream",
     "text": [
      "Debug - Carb Content: 3.9\n",
      "Debug - Original Quantity: 2 \n",
      "Debug - Converted Quantity (g): 2.0\n",
      "Debug - Actual Carbs (g): 0.078\n",
      "Debug - Ingredient Load: 0.014039999999999999\n",
      "\n",
      "Debug - Ingredient: olive oil\n",
      "Debug - GI Value: 18.0\n"
     ]
    },
    {
     "name": "stderr",
     "output_type": "stream",
     "text": [
      "HTTP Request: POST https://api.openai.com/v1/chat/completions \"HTTP/1.1 200 OK\"\n"
     ]
    },
    {
     "name": "stdout",
     "output_type": "stream",
     "text": [
      "Debug - Carb Content: 0.0\n",
      "Debug - Original Quantity: 2 tbsp\n",
      "Debug - Converted Quantity (g): 30.0\n",
      "Debug - Actual Carbs (g): 0.0\n",
      "Debug - Ingredient Load: 0.0\n",
      "\n",
      "Debug - Ingredient: lemon\n",
      "Debug - GI Value: 18.0\n"
     ]
    },
    {
     "name": "stderr",
     "output_type": "stream",
     "text": [
      "HTTP Request: POST https://api.openai.com/v1/chat/completions \"HTTP/1.1 200 OK\"\n"
     ]
    },
    {
     "name": "stdout",
     "output_type": "stream",
     "text": [
      "Debug - Carb Content: 9.0\n",
      "Debug - Original Quantity: 1 \n",
      "Debug - Converted Quantity (g): 1.0\n",
      "Debug - Actual Carbs (g): 0.09\n",
      "Debug - Ingredient Load: 0.0162\n",
      "\n",
      "Debug - Total Glycemic Load: 9.108719999999998\n"
     ]
    },
    {
     "name": "stderr",
     "output_type": "stream",
     "text": [
      "HTTP Request: POST https://api.anthropic.com/v1/messages \"HTTP/1.1 200 OK\"\n",
      "HTTP Request: POST https://api.anthropic.com/v1/messages \"HTTP/1.1 200 OK\"\n",
      "HTTP Request: POST https://api.openai.com/v1/chat/completions \"HTTP/1.1 200 OK\"\n"
     ]
    },
    {
     "name": "stdout",
     "output_type": "stream",
     "text": [
      "\n",
      "Debug - Ingredient: firm tofu\n",
      "Debug - GI Value: 18.0\n"
     ]
    },
    {
     "name": "stderr",
     "output_type": "stream",
     "text": [
      "HTTP Request: POST https://api.openai.com/v1/chat/completions \"HTTP/1.1 200 OK\"\n"
     ]
    },
    {
     "name": "stdout",
     "output_type": "stream",
     "text": [
      "Debug - Carb Content: 1.9\n",
      "Debug - Original Quantity: 200 g\n",
      "Debug - Converted Quantity (g): 200.0\n",
      "Debug - Actual Carbs (g): 3.8\n",
      "Debug - Ingredient Load: 0.6839999999999999\n",
      "\n",
      "Debug - Ingredient: mixed vegetables\n",
      "Debug - GI Value: 18.0\n"
     ]
    },
    {
     "name": "stderr",
     "output_type": "stream",
     "text": [
      "HTTP Request: POST https://api.openai.com/v1/chat/completions \"HTTP/1.1 200 OK\"\n"
     ]
    },
    {
     "name": "stdout",
     "output_type": "stream",
     "text": [
      "Debug - Carb Content: 5.0\n",
      "Debug - Original Quantity: 2 cups\n",
      "Debug - Converted Quantity (g): 480.0\n",
      "Debug - Actual Carbs (g): 24.0\n",
      "Debug - Ingredient Load: 4.32\n",
      "\n",
      "Debug - Ingredient: soy sauce\n",
      "Debug - GI Value: 18.0\n"
     ]
    },
    {
     "name": "stderr",
     "output_type": "stream",
     "text": [
      "HTTP Request: POST https://api.openai.com/v1/chat/completions \"HTTP/1.1 200 OK\"\n"
     ]
    },
    {
     "name": "stdout",
     "output_type": "stream",
     "text": [
      "Debug - Carb Content: 4.0\n",
      "Debug - Original Quantity: 2 tbsp\n",
      "Debug - Converted Quantity (g): 30.0\n",
      "Debug - Actual Carbs (g): 1.2\n",
      "Debug - Ingredient Load: 0.21599999999999997\n",
      "\n",
      "Debug - Ingredient: brown rice\n",
      "Debug - GI Value: 18.0\n"
     ]
    },
    {
     "name": "stderr",
     "output_type": "stream",
     "text": [
      "HTTP Request: POST https://api.openai.com/v1/chat/completions \"HTTP/1.1 200 OK\"\n"
     ]
    },
    {
     "name": "stdout",
     "output_type": "stream",
     "text": [
      "Debug - Carb Content: 77.0\n",
      "Debug - Original Quantity: 1 cup\n",
      "Debug - Converted Quantity (g): 240.0\n",
      "Debug - Actual Carbs (g): 184.8\n",
      "Debug - Ingredient Load: 33.264\n",
      "\n",
      "Debug - Total Glycemic Load: 38.484\n"
     ]
    },
    {
     "name": "stderr",
     "output_type": "stream",
     "text": [
      "HTTP Request: POST https://api.anthropic.com/v1/messages \"HTTP/1.1 200 OK\"\n",
      "HTTP Request: POST https://api.anthropic.com/v1/messages \"HTTP/1.1 200 OK\"\n",
      "HTTP Request: POST https://api.openai.com/v1/chat/completions \"HTTP/1.1 200 OK\"\n"
     ]
    },
    {
     "name": "stdout",
     "output_type": "stream",
     "text": [
      "\n",
      "Debug - Ingredient: black beans\n",
      "Debug - GI Value: 18.0\n"
     ]
    },
    {
     "name": "stderr",
     "output_type": "stream",
     "text": [
      "HTTP Request: POST https://api.openai.com/v1/chat/completions \"HTTP/1.1 200 OK\"\n"
     ]
    },
    {
     "name": "stdout",
     "output_type": "stream",
     "text": [
      "Debug - Carb Content: 27.0\n",
      "Debug - Original Quantity: 1 cup\n",
      "Debug - Converted Quantity (g): 240.0\n",
      "Debug - Actual Carbs (g): 64.8\n",
      "Debug - Ingredient Load: 11.663999999999998\n",
      "\n",
      "Debug - Ingredient: brown rice\n",
      "Debug - GI Value: 18.0\n"
     ]
    },
    {
     "name": "stderr",
     "output_type": "stream",
     "text": [
      "HTTP Request: POST https://api.openai.com/v1/chat/completions \"HTTP/1.1 200 OK\"\n"
     ]
    },
    {
     "name": "stdout",
     "output_type": "stream",
     "text": [
      "Debug - Carb Content: 77.0\n",
      "Debug - Original Quantity: 1 cup\n",
      "Debug - Converted Quantity (g): 240.0\n",
      "Debug - Actual Carbs (g): 184.8\n",
      "Debug - Ingredient Load: 33.264\n",
      "\n",
      "Debug - Ingredient: avocado\n",
      "Debug - GI Value: 18.0\n"
     ]
    },
    {
     "name": "stderr",
     "output_type": "stream",
     "text": [
      "HTTP Request: POST https://api.openai.com/v1/chat/completions \"HTTP/1.1 200 OK\"\n"
     ]
    },
    {
     "name": "stdout",
     "output_type": "stream",
     "text": [
      "Debug - Carb Content: 9.0\n",
      "Debug - Original Quantity: 1 \n",
      "Debug - Converted Quantity (g): 1.0\n",
      "Debug - Actual Carbs (g): 0.09\n",
      "Debug - Ingredient Load: 0.0162\n",
      "\n",
      "Debug - Ingredient: lime juice\n",
      "Debug - GI Value: 18.0\n"
     ]
    },
    {
     "name": "stderr",
     "output_type": "stream",
     "text": [
      "HTTP Request: POST https://api.openai.com/v1/chat/completions \"HTTP/1.1 200 OK\"\n"
     ]
    },
    {
     "name": "stdout",
     "output_type": "stream",
     "text": [
      "Debug - Carb Content: 6.0\n",
      "Debug - Original Quantity: 2 tbsp\n",
      "Debug - Converted Quantity (g): 30.0\n",
      "Debug - Actual Carbs (g): 1.8\n",
      "Debug - Ingredient Load: 0.324\n",
      "\n",
      "Debug - Total Glycemic Load: 45.26819999999999\n"
     ]
    },
    {
     "name": "stderr",
     "output_type": "stream",
     "text": [
      "HTTP Request: POST https://api.anthropic.com/v1/messages \"HTTP/1.1 200 OK\"\n",
      "HTTP Request: POST https://api.anthropic.com/v1/messages \"HTTP/1.1 200 OK\"\n",
      "HTTP Request: POST https://api.openai.com/v1/chat/completions \"HTTP/1.1 200 OK\"\n"
     ]
    },
    {
     "name": "stdout",
     "output_type": "stream",
     "text": [
      "\n",
      "Debug - Ingredient: white rice\n",
      "Debug - GI Value: 18.0\n"
     ]
    },
    {
     "name": "stderr",
     "output_type": "stream",
     "text": [
      "HTTP Request: POST https://api.openai.com/v1/chat/completions \"HTTP/1.1 200 OK\"\n"
     ]
    },
    {
     "name": "stdout",
     "output_type": "stream",
     "text": [
      "Debug - Carb Content: 80.0\n",
      "Debug - Original Quantity: 2 cups\n",
      "Debug - Converted Quantity (g): 480.0\n",
      "Debug - Actual Carbs (g): 384.0\n",
      "Debug - Ingredient Load: 69.12\n",
      "\n",
      "Debug - Ingredient: sweet potato\n",
      "Debug - GI Value: 18.0\n"
     ]
    },
    {
     "name": "stderr",
     "output_type": "stream",
     "text": [
      "HTTP Request: POST https://api.openai.com/v1/chat/completions \"HTTP/1.1 200 OK\"\n"
     ]
    },
    {
     "name": "stdout",
     "output_type": "stream",
     "text": [
      "Debug - Carb Content: 20.1\n",
      "Debug - Original Quantity: 1 large\n",
      "Debug - Converted Quantity (g): 1.0\n",
      "Debug - Actual Carbs (g): 0.201\n",
      "Debug - Ingredient Load: 0.036180000000000004\n",
      "\n",
      "Debug - Ingredient: honey\n",
      "Debug - GI Value: 18.0\n"
     ]
    },
    {
     "name": "stderr",
     "output_type": "stream",
     "text": [
      "HTTP Request: POST https://api.openai.com/v1/chat/completions \"HTTP/1.1 200 OK\"\n"
     ]
    },
    {
     "name": "stdout",
     "output_type": "stream",
     "text": [
      "Debug - Carb Content: 82.0\n",
      "Debug - Original Quantity: 2 tbsp\n",
      "Debug - Converted Quantity (g): 30.0\n",
      "Debug - Actual Carbs (g): 24.6\n",
      "Debug - Ingredient Load: 4.428\n",
      "\n",
      "Debug - Ingredient: butter\n",
      "Debug - GI Value: 18.0\n"
     ]
    },
    {
     "name": "stderr",
     "output_type": "stream",
     "text": [
      "HTTP Request: POST https://api.openai.com/v1/chat/completions \"HTTP/1.1 200 OK\"\n"
     ]
    },
    {
     "name": "stdout",
     "output_type": "stream",
     "text": [
      "Debug - Carb Content: 0.0\n",
      "Debug - Original Quantity: 1 tbsp\n",
      "Debug - Converted Quantity (g): 15.0\n",
      "Debug - Actual Carbs (g): 0.0\n",
      "Debug - Ingredient Load: 0.0\n",
      "\n",
      "Debug - Total Glycemic Load: 73.58418\n"
     ]
    },
    {
     "name": "stderr",
     "output_type": "stream",
     "text": [
      "HTTP Request: POST https://api.anthropic.com/v1/messages \"HTTP/1.1 200 OK\"\n",
      "HTTP Request: POST https://api.anthropic.com/v1/messages \"HTTP/1.1 200 OK\"\n",
      "HTTP Request: POST https://api.openai.com/v1/chat/completions \"HTTP/1.1 200 OK\"\n"
     ]
    },
    {
     "name": "stdout",
     "output_type": "stream",
     "text": [
      "\n",
      "Debug - Ingredient: white pasta\n",
      "Debug - GI Value: 18.0\n"
     ]
    },
    {
     "name": "stderr",
     "output_type": "stream",
     "text": [
      "HTTP Request: POST https://api.openai.com/v1/chat/completions \"HTTP/1.1 200 OK\"\n"
     ]
    },
    {
     "name": "stdout",
     "output_type": "stream",
     "text": [
      "Debug - Carb Content: 75.0\n",
      "Debug - Original Quantity: 200 g\n",
      "Debug - Converted Quantity (g): 200.0\n",
      "Debug - Actual Carbs (g): 150.0\n",
      "Debug - Ingredient Load: 27.0\n",
      "\n",
      "Debug - Ingredient: white flour\n",
      "Debug - GI Value: 18.0\n"
     ]
    },
    {
     "name": "stderr",
     "output_type": "stream",
     "text": [
      "HTTP Request: POST https://api.openai.com/v1/chat/completions \"HTTP/1.1 200 OK\"\n"
     ]
    },
    {
     "name": "stdout",
     "output_type": "stream",
     "text": [
      "Debug - Carb Content: 76.0\n",
      "Debug - Original Quantity: 1 cup\n",
      "Debug - Converted Quantity (g): 240.0\n",
      "Debug - Actual Carbs (g): 182.4\n",
      "Debug - Ingredient Load: 32.832\n",
      "\n",
      "Debug - Ingredient: milk\n",
      "Debug - GI Value: 18.0\n"
     ]
    },
    {
     "name": "stderr",
     "output_type": "stream",
     "text": [
      "HTTP Request: POST https://api.openai.com/v1/chat/completions \"HTTP/1.1 200 OK\"\n"
     ]
    },
    {
     "name": "stdout",
     "output_type": "stream",
     "text": [
      "Debug - Carb Content: 5.0\n",
      "Debug - Original Quantity: 2 cups\n",
      "Debug - Converted Quantity (g): 480.0\n",
      "Debug - Actual Carbs (g): 24.0\n",
      "Debug - Ingredient Load: 4.32\n",
      "\n",
      "Debug - Ingredient: butter\n",
      "Debug - GI Value: 18.0\n"
     ]
    },
    {
     "name": "stderr",
     "output_type": "stream",
     "text": [
      "HTTP Request: POST https://api.openai.com/v1/chat/completions \"HTTP/1.1 200 OK\"\n"
     ]
    },
    {
     "name": "stdout",
     "output_type": "stream",
     "text": [
      "Debug - Carb Content: 0.0\n",
      "Debug - Original Quantity: 2 tbsp\n",
      "Debug - Converted Quantity (g): 30.0\n",
      "Debug - Actual Carbs (g): 0.0\n",
      "Debug - Ingredient Load: 0.0\n",
      "\n",
      "Debug - Ingredient: parmesan cheese\n",
      "Debug - GI Value: 18.0\n"
     ]
    },
    {
     "name": "stderr",
     "output_type": "stream",
     "text": [
      "HTTP Request: POST https://api.openai.com/v1/chat/completions \"HTTP/1.1 200 OK\"\n"
     ]
    },
    {
     "name": "stdout",
     "output_type": "stream",
     "text": [
      "Debug - Carb Content: 0.0\n",
      "Error calculating load for parmesan cheese: could not convert string to float: '1/4'\n",
      "\n",
      "Debug - Total Glycemic Load: 64.152\n"
     ]
    },
    {
     "name": "stderr",
     "output_type": "stream",
     "text": [
      "HTTP Request: POST https://api.anthropic.com/v1/messages \"HTTP/1.1 200 OK\"\n",
      "HTTP Request: POST https://api.anthropic.com/v1/messages \"HTTP/1.1 200 OK\"\n",
      "HTTP Request: POST https://api.openai.com/v1/chat/completions \"HTTP/1.1 200 OK\"\n"
     ]
    },
    {
     "name": "stdout",
     "output_type": "stream",
     "text": [
      "\n",
      "Debug - Ingredient: potatoes\n",
      "Debug - GI Value: 18.0\n"
     ]
    },
    {
     "name": "stderr",
     "output_type": "stream",
     "text": [
      "HTTP Request: POST https://api.openai.com/v1/chat/completions \"HTTP/1.1 200 OK\"\n"
     ]
    },
    {
     "name": "stdout",
     "output_type": "stream",
     "text": [
      "Debug - Carb Content: 17.0\n",
      "Debug - Original Quantity: 4 large\n",
      "Debug - Converted Quantity (g): 4.0\n",
      "Debug - Actual Carbs (g): 0.68\n",
      "Debug - Ingredient Load: 0.12240000000000001\n",
      "\n",
      "Debug - Ingredient: butter\n",
      "Debug - GI Value: 18.0\n"
     ]
    },
    {
     "name": "stderr",
     "output_type": "stream",
     "text": [
      "HTTP Request: POST https://api.openai.com/v1/chat/completions \"HTTP/1.1 200 OK\"\n"
     ]
    },
    {
     "name": "stdout",
     "output_type": "stream",
     "text": [
      "Debug - Carb Content: 0.0\n",
      "Error calculating load for butter: could not convert string to float: '1/4'\n",
      "\n",
      "Debug - Ingredient: milk\n",
      "Debug - GI Value: 18.0\n"
     ]
    },
    {
     "name": "stderr",
     "output_type": "stream",
     "text": [
      "HTTP Request: POST https://api.openai.com/v1/chat/completions \"HTTP/1.1 200 OK\"\n"
     ]
    },
    {
     "name": "stdout",
     "output_type": "stream",
     "text": [
      "Debug - Carb Content: 5.0\n",
      "Error calculating load for milk: could not convert string to float: '1/2'\n",
      "\n",
      "Debug - Ingredient: white flour\n",
      "Debug - GI Value: 18.0\n"
     ]
    },
    {
     "name": "stderr",
     "output_type": "stream",
     "text": [
      "HTTP Request: POST https://api.openai.com/v1/chat/completions \"HTTP/1.1 200 OK\"\n"
     ]
    },
    {
     "name": "stdout",
     "output_type": "stream",
     "text": [
      "Debug - Carb Content: 76.0\n",
      "Debug - Original Quantity: 2 tbsp\n",
      "Debug - Converted Quantity (g): 30.0\n",
      "Debug - Actual Carbs (g): 22.8\n",
      "Debug - Ingredient Load: 4.104\n",
      "\n",
      "Debug - Ingredient: beef broth\n",
      "Debug - GI Value: 18.0\n"
     ]
    },
    {
     "name": "stderr",
     "output_type": "stream",
     "text": [
      "HTTP Request: POST https://api.openai.com/v1/chat/completions \"HTTP/1.1 200 OK\"\n"
     ]
    },
    {
     "name": "stdout",
     "output_type": "stream",
     "text": [
      "Debug - Carb Content: 0.0\n",
      "Debug - Original Quantity: 1 cup\n",
      "Debug - Converted Quantity (g): 240.0\n",
      "Debug - Actual Carbs (g): 0.0\n",
      "Debug - Ingredient Load: 0.0\n",
      "\n",
      "Debug - Total Glycemic Load: 4.2264\n"
     ]
    },
    {
     "name": "stderr",
     "output_type": "stream",
     "text": [
      "HTTP Request: POST https://api.anthropic.com/v1/messages \"HTTP/1.1 200 OK\"\n",
      "HTTP Request: POST https://api.anthropic.com/v1/messages \"HTTP/1.1 200 OK\"\n",
      "HTTP Request: POST https://api.openai.com/v1/chat/completions \"HTTP/1.1 200 OK\"\n"
     ]
    },
    {
     "name": "stdout",
     "output_type": "stream",
     "text": [
      "\n",
      "Debug - Ingredient: white bread\n",
      "Debug - GI Value: 18.0\n"
     ]
    },
    {
     "name": "stderr",
     "output_type": "stream",
     "text": [
      "HTTP Request: POST https://api.openai.com/v1/chat/completions \"HTTP/1.1 200 OK\"\n"
     ]
    },
    {
     "name": "stdout",
     "output_type": "stream",
     "text": [
      "Debug - Carb Content: 49.0\n",
      "Debug - Original Quantity: 4 slices\n",
      "Debug - Converted Quantity (g): 4.0\n",
      "Debug - Actual Carbs (g): 1.96\n",
      "Debug - Ingredient Load: 0.3528\n",
      "\n",
      "Debug - Ingredient: mayonnaise\n",
      "Debug - GI Value: 18.0\n"
     ]
    },
    {
     "name": "stderr",
     "output_type": "stream",
     "text": [
      "HTTP Request: POST https://api.openai.com/v1/chat/completions \"HTTP/1.1 200 OK\"\n"
     ]
    },
    {
     "name": "stdout",
     "output_type": "stream",
     "text": [
      "Debug - Carb Content: 1.0\n",
      "Debug - Original Quantity: 2 tbsp\n",
      "Debug - Converted Quantity (g): 30.0\n",
      "Debug - Actual Carbs (g): 0.3\n",
      "Debug - Ingredient Load: 0.05399999999999999\n",
      "\n",
      "Debug - Ingredient: processed cheese\n",
      "Debug - GI Value: 18.0\n"
     ]
    },
    {
     "name": "stderr",
     "output_type": "stream",
     "text": [
      "HTTP Request: POST https://api.openai.com/v1/chat/completions \"HTTP/1.1 200 OK\"\n"
     ]
    },
    {
     "name": "stdout",
     "output_type": "stream",
     "text": [
      "Debug - Carb Content: 1.0\n",
      "Debug - Original Quantity: 2 slices\n",
      "Debug - Converted Quantity (g): 2.0\n",
      "Debug - Actual Carbs (g): 0.02\n",
      "Debug - Ingredient Load: 0.0036\n",
      "\n",
      "Debug - Ingredient: deli meat\n",
      "Debug - GI Value: 18.0\n"
     ]
    },
    {
     "name": "stderr",
     "output_type": "stream",
     "text": [
      "HTTP Request: POST https://api.openai.com/v1/chat/completions \"HTTP/1.1 200 OK\"\n"
     ]
    },
    {
     "name": "stdout",
     "output_type": "stream",
     "text": [
      "Debug - Carb Content: 0.0\n",
      "Debug - Original Quantity: 2 slices\n",
      "Debug - Converted Quantity (g): 2.0\n",
      "Debug - Actual Carbs (g): 0.0\n",
      "Debug - Ingredient Load: 0.0\n",
      "\n",
      "Debug - Total Glycemic Load: 0.4104\n"
     ]
    },
    {
     "name": "stderr",
     "output_type": "stream",
     "text": [
      "HTTP Request: POST https://api.anthropic.com/v1/messages \"HTTP/1.1 200 OK\"\n",
      "HTTP Request: POST https://api.anthropic.com/v1/messages \"HTTP/1.1 200 OK\"\n",
      "HTTP Request: POST https://api.openai.com/v1/chat/completions \"HTTP/1.1 200 OK\"\n"
     ]
    },
    {
     "name": "stdout",
     "output_type": "stream",
     "text": [
      "\n",
      "Debug - Ingredient: corn flakes\n",
      "Debug - GI Value: 18.0\n"
     ]
    },
    {
     "name": "stderr",
     "output_type": "stream",
     "text": [
      "HTTP Request: POST https://api.openai.com/v1/chat/completions \"HTTP/1.1 200 OK\"\n"
     ]
    },
    {
     "name": "stdout",
     "output_type": "stream",
     "text": [
      "Debug - Carb Content: 84.0\n",
      "Debug - Original Quantity: 2 cups\n",
      "Debug - Converted Quantity (g): 480.0\n",
      "Debug - Actual Carbs (g): 403.2\n",
      "Debug - Ingredient Load: 72.576\n",
      "\n",
      "Debug - Ingredient: whole milk\n",
      "Debug - GI Value: 18.0\n"
     ]
    },
    {
     "name": "stderr",
     "output_type": "stream",
     "text": [
      "HTTP Request: POST https://api.openai.com/v1/chat/completions \"HTTP/1.1 200 OK\"\n"
     ]
    },
    {
     "name": "stdout",
     "output_type": "stream",
     "text": [
      "Debug - Carb Content: 5.0\n",
      "Debug - Original Quantity: 1 cup\n",
      "Debug - Converted Quantity (g): 240.0\n",
      "Debug - Actual Carbs (g): 12.0\n",
      "Debug - Ingredient Load: 2.16\n",
      "\n",
      "Debug - Ingredient: sugar\n",
      "Debug - GI Value: 18.0\n"
     ]
    },
    {
     "name": "stderr",
     "output_type": "stream",
     "text": [
      "HTTP Request: POST https://api.openai.com/v1/chat/completions \"HTTP/1.1 200 OK\"\n"
     ]
    },
    {
     "name": "stdout",
     "output_type": "stream",
     "text": [
      "Debug - Carb Content: 100.0\n",
      "Debug - Original Quantity: 2 tbsp\n",
      "Debug - Converted Quantity (g): 30.0\n",
      "Debug - Actual Carbs (g): 30.0\n",
      "Debug - Ingredient Load: 5.4\n",
      "\n",
      "Debug - Ingredient: banana\n",
      "Debug - GI Value: 18.0\n"
     ]
    },
    {
     "name": "stderr",
     "output_type": "stream",
     "text": [
      "HTTP Request: POST https://api.openai.com/v1/chat/completions \"HTTP/1.1 200 OK\"\n"
     ]
    },
    {
     "name": "stdout",
     "output_type": "stream",
     "text": [
      "Debug - Carb Content: 23.0\n",
      "Debug - Original Quantity: 1 \n",
      "Debug - Converted Quantity (g): 1.0\n",
      "Debug - Actual Carbs (g): 0.23\n",
      "Debug - Ingredient Load: 0.041400000000000006\n",
      "\n",
      "Debug - Total Glycemic Load: 80.17739999999999\n"
     ]
    },
    {
     "name": "stderr",
     "output_type": "stream",
     "text": [
      "HTTP Request: POST https://api.anthropic.com/v1/messages \"HTTP/1.1 200 OK\"\n",
      "HTTP Request: POST https://api.anthropic.com/v1/messages \"HTTP/1.1 200 OK\"\n",
      "HTTP Request: POST https://api.openai.com/v1/chat/completions \"HTTP/1.1 200 OK\"\n"
     ]
    },
    {
     "name": "stdout",
     "output_type": "stream",
     "text": [
      "\n",
      "Debug - Ingredient: mixed greens\n",
      "Debug - GI Value: 18.0\n"
     ]
    },
    {
     "name": "stderr",
     "output_type": "stream",
     "text": [
      "HTTP Request: POST https://api.openai.com/v1/chat/completions \"HTTP/1.1 200 OK\"\n"
     ]
    },
    {
     "name": "stdout",
     "output_type": "stream",
     "text": [
      "Debug - Carb Content: 3.6\n",
      "Debug - Original Quantity: 2 cups\n",
      "Debug - Converted Quantity (g): 480.0\n",
      "Debug - Actual Carbs (g): 17.28\n",
      "Debug - Ingredient Load: 3.1104000000000003\n",
      "\n",
      "Debug - Ingredient: cucumber\n",
      "Debug - GI Value: 18.0\n"
     ]
    },
    {
     "name": "stderr",
     "output_type": "stream",
     "text": [
      "HTTP Request: POST https://api.openai.com/v1/chat/completions \"HTTP/1.1 200 OK\"\n"
     ]
    },
    {
     "name": "stdout",
     "output_type": "stream",
     "text": [
      "Debug - Carb Content: 3.6\n",
      "Debug - Original Quantity: 1 \n",
      "Debug - Converted Quantity (g): 1.0\n",
      "Debug - Actual Carbs (g): 0.036000000000000004\n",
      "Debug - Ingredient Load: 0.006480000000000001\n",
      "\n",
      "Debug - Ingredient: tomatoes\n",
      "Debug - GI Value: 18.0\n"
     ]
    },
    {
     "name": "stderr",
     "output_type": "stream",
     "text": [
      "HTTP Request: POST https://api.openai.com/v1/chat/completions \"HTTP/1.1 200 OK\"\n"
     ]
    },
    {
     "name": "stdout",
     "output_type": "stream",
     "text": [
      "Debug - Carb Content: 3.9\n",
      "Debug - Original Quantity: 2 \n",
      "Debug - Converted Quantity (g): 2.0\n",
      "Debug - Actual Carbs (g): 0.078\n",
      "Debug - Ingredient Load: 0.014039999999999999\n",
      "\n",
      "Debug - Ingredient: olives\n",
      "Debug - GI Value: 14.0\n"
     ]
    },
    {
     "name": "stderr",
     "output_type": "stream",
     "text": [
      "HTTP Request: POST https://api.openai.com/v1/chat/completions \"HTTP/1.1 200 OK\"\n"
     ]
    },
    {
     "name": "stdout",
     "output_type": "stream",
     "text": [
      "Debug - Carb Content: 6.0\n",
      "Error calculating load for olives: could not convert string to float: '1/4'\n",
      "\n",
      "Debug - Ingredient: feta cheese\n",
      "Debug - GI Value: 18.0\n"
     ]
    },
    {
     "name": "stderr",
     "output_type": "stream",
     "text": [
      "HTTP Request: POST https://api.openai.com/v1/chat/completions \"HTTP/1.1 200 OK\"\n"
     ]
    },
    {
     "name": "stdout",
     "output_type": "stream",
     "text": [
      "Debug - Carb Content: 4.0\n",
      "Debug - Original Quantity: 100 g\n",
      "Debug - Converted Quantity (g): 100.0\n",
      "Debug - Actual Carbs (g): 4.0\n",
      "Debug - Ingredient Load: 0.72\n",
      "\n",
      "Debug - Ingredient: olive oil\n",
      "Debug - GI Value: 18.0\n"
     ]
    },
    {
     "name": "stderr",
     "output_type": "stream",
     "text": [
      "HTTP Request: POST https://api.openai.com/v1/chat/completions \"HTTP/1.1 200 OK\"\n"
     ]
    },
    {
     "name": "stdout",
     "output_type": "stream",
     "text": [
      "Debug - Carb Content: 0.0\n",
      "Debug - Original Quantity: 2 tbsp\n",
      "Debug - Converted Quantity (g): 30.0\n",
      "Debug - Actual Carbs (g): 0.0\n",
      "Debug - Ingredient Load: 0.0\n",
      "\n",
      "Debug - Ingredient: lemon\n",
      "Debug - GI Value: 18.0\n"
     ]
    },
    {
     "name": "stderr",
     "output_type": "stream",
     "text": [
      "HTTP Request: POST https://api.openai.com/v1/chat/completions \"HTTP/1.1 200 OK\"\n"
     ]
    },
    {
     "name": "stdout",
     "output_type": "stream",
     "text": [
      "Debug - Carb Content: 9.0\n",
      "Debug - Original Quantity: 1 \n",
      "Debug - Converted Quantity (g): 1.0\n",
      "Debug - Actual Carbs (g): 0.09\n",
      "Debug - Ingredient Load: 0.0162\n",
      "\n",
      "Debug - Total Glycemic Load: 3.8671200000000003\n"
     ]
    },
    {
     "name": "stderr",
     "output_type": "stream",
     "text": [
      "HTTP Request: POST https://api.anthropic.com/v1/messages \"HTTP/1.1 200 OK\"\n",
      "HTTP Request: POST https://api.anthropic.com/v1/messages \"HTTP/1.1 200 OK\"\n",
      "HTTP Request: POST https://api.openai.com/v1/chat/completions \"HTTP/1.1 200 OK\"\n"
     ]
    },
    {
     "name": "stdout",
     "output_type": "stream",
     "text": [
      "\n",
      "Debug - Ingredient: salmon fillet\n",
      "Debug - GI Value: 18.0\n"
     ]
    },
    {
     "name": "stderr",
     "output_type": "stream",
     "text": [
      "HTTP Request: POST https://api.openai.com/v1/chat/completions \"HTTP/1.1 200 OK\"\n"
     ]
    },
    {
     "name": "stdout",
     "output_type": "stream",
     "text": [
      "Debug - Carb Content: 0.0\n",
      "Debug - Original Quantity: 200 g\n",
      "Debug - Converted Quantity (g): 200.0\n",
      "Debug - Actual Carbs (g): 0.0\n",
      "Debug - Ingredient Load: 0.0\n",
      "\n",
      "Debug - Ingredient: mixed vegetables\n",
      "Debug - GI Value: 18.0\n"
     ]
    },
    {
     "name": "stderr",
     "output_type": "stream",
     "text": [
      "HTTP Request: POST https://api.openai.com/v1/chat/completions \"HTTP/1.1 200 OK\"\n"
     ]
    },
    {
     "name": "stdout",
     "output_type": "stream",
     "text": [
      "Debug - Carb Content: 5.0\n",
      "Debug - Original Quantity: 2 cups\n",
      "Debug - Converted Quantity (g): 480.0\n",
      "Debug - Actual Carbs (g): 24.0\n",
      "Debug - Ingredient Load: 4.32\n",
      "\n",
      "Debug - Ingredient: olive oil\n",
      "Debug - GI Value: 18.0\n"
     ]
    },
    {
     "name": "stderr",
     "output_type": "stream",
     "text": [
      "HTTP Request: POST https://api.openai.com/v1/chat/completions \"HTTP/1.1 200 OK\"\n"
     ]
    },
    {
     "name": "stdout",
     "output_type": "stream",
     "text": [
      "Debug - Carb Content: 0.0\n",
      "Debug - Original Quantity: 2 tbsp\n",
      "Debug - Converted Quantity (g): 30.0\n",
      "Debug - Actual Carbs (g): 0.0\n",
      "Debug - Ingredient Load: 0.0\n",
      "\n",
      "Debug - Ingredient: lemon\n",
      "Debug - GI Value: 18.0\n"
     ]
    },
    {
     "name": "stderr",
     "output_type": "stream",
     "text": [
      "HTTP Request: POST https://api.openai.com/v1/chat/completions \"HTTP/1.1 200 OK\"\n"
     ]
    },
    {
     "name": "stdout",
     "output_type": "stream",
     "text": [
      "Debug - Carb Content: 9.0\n",
      "Debug - Original Quantity: 1 \n",
      "Debug - Converted Quantity (g): 1.0\n",
      "Debug - Actual Carbs (g): 0.09\n",
      "Debug - Ingredient Load: 0.0162\n",
      "\n",
      "Debug - Ingredient: herbs\n",
      "Debug - GI Value: 18.0\n"
     ]
    },
    {
     "name": "stderr",
     "output_type": "stream",
     "text": [
      "HTTP Request: POST https://api.openai.com/v1/chat/completions \"HTTP/1.1 200 OK\"\n"
     ]
    },
    {
     "name": "stdout",
     "output_type": "stream",
     "text": [
      "Debug - Carb Content: 0.0\n",
      "Debug - Original Quantity: 1 tsp\n",
      "Debug - Converted Quantity (g): 5.0\n",
      "Debug - Actual Carbs (g): 0.0\n",
      "Debug - Ingredient Load: 0.0\n",
      "\n",
      "Debug - Total Glycemic Load: 4.336200000000001\n"
     ]
    },
    {
     "name": "stderr",
     "output_type": "stream",
     "text": [
      "HTTP Request: POST https://api.anthropic.com/v1/messages \"HTTP/1.1 200 OK\"\n",
      "HTTP Request: POST https://api.anthropic.com/v1/messages \"HTTP/1.1 200 OK\"\n",
      "HTTP Request: POST https://api.openai.com/v1/chat/completions \"HTTP/1.1 200 OK\"\n"
     ]
    },
    {
     "name": "stdout",
     "output_type": "stream",
     "text": [
      "\n",
      "Debug - Ingredient: chickpeas\n",
      "Debug - GI Value: 18.0\n"
     ]
    },
    {
     "name": "stderr",
     "output_type": "stream",
     "text": [
      "HTTP Request: POST https://api.openai.com/v1/chat/completions \"HTTP/1.1 200 OK\"\n"
     ]
    },
    {
     "name": "stdout",
     "output_type": "stream",
     "text": [
      "Debug - Carb Content: 27.0\n",
      "Debug - Original Quantity: 2 cups\n",
      "Debug - Converted Quantity (g): 480.0\n",
      "Debug - Actual Carbs (g): 129.6\n",
      "Debug - Ingredient Load: 23.327999999999996\n",
      "\n",
      "Debug - Ingredient: mixed vegetables\n",
      "Debug - GI Value: 18.0\n"
     ]
    },
    {
     "name": "stderr",
     "output_type": "stream",
     "text": [
      "HTTP Request: POST https://api.openai.com/v1/chat/completions \"HTTP/1.1 200 OK\"\n"
     ]
    },
    {
     "name": "stdout",
     "output_type": "stream",
     "text": [
      "Debug - Carb Content: 5.0\n",
      "Debug - Original Quantity: 2 cups\n",
      "Debug - Converted Quantity (g): 480.0\n",
      "Debug - Actual Carbs (g): 24.0\n",
      "Debug - Ingredient Load: 4.32\n",
      "\n",
      "Debug - Ingredient: onion\n",
      "Debug - GI Value: 18.0\n"
     ]
    },
    {
     "name": "stderr",
     "output_type": "stream",
     "text": [
      "HTTP Request: POST https://api.openai.com/v1/chat/completions \"HTTP/1.1 200 OK\"\n"
     ]
    },
    {
     "name": "stdout",
     "output_type": "stream",
     "text": [
      "Debug - Carb Content: 9.0\n",
      "Debug - Original Quantity: 1 \n",
      "Debug - Converted Quantity (g): 1.0\n",
      "Debug - Actual Carbs (g): 0.09\n",
      "Debug - Ingredient Load: 0.0162\n",
      "\n",
      "Debug - Ingredient: olive oil\n",
      "Debug - GI Value: 18.0\n"
     ]
    },
    {
     "name": "stderr",
     "output_type": "stream",
     "text": [
      "HTTP Request: POST https://api.openai.com/v1/chat/completions \"HTTP/1.1 200 OK\"\n"
     ]
    },
    {
     "name": "stdout",
     "output_type": "stream",
     "text": [
      "Debug - Carb Content: 0.0\n",
      "Debug - Original Quantity: 2 tbsp\n",
      "Debug - Converted Quantity (g): 30.0\n",
      "Debug - Actual Carbs (g): 0.0\n",
      "Debug - Ingredient Load: 0.0\n",
      "\n",
      "Debug - Ingredient: cumin\n",
      "Debug - GI Value: 18.0\n"
     ]
    },
    {
     "name": "stderr",
     "output_type": "stream",
     "text": [
      "HTTP Request: POST https://api.openai.com/v1/chat/completions \"HTTP/1.1 200 OK\"\n"
     ]
    },
    {
     "name": "stdout",
     "output_type": "stream",
     "text": [
      "Debug - Carb Content: 44.0\n",
      "Debug - Original Quantity: 1 tsp\n",
      "Debug - Converted Quantity (g): 5.0\n",
      "Debug - Actual Carbs (g): 2.2\n",
      "Debug - Ingredient Load: 0.396\n",
      "\n",
      "Debug - Ingredient: turmeric\n",
      "Debug - GI Value: 18.0\n"
     ]
    },
    {
     "name": "stderr",
     "output_type": "stream",
     "text": [
      "HTTP Request: POST https://api.openai.com/v1/chat/completions \"HTTP/1.1 200 OK\"\n"
     ]
    },
    {
     "name": "stdout",
     "output_type": "stream",
     "text": [
      "Error parsing carb content for turmeric, defaulting to 0\n",
      "Debug - Carb Content: 0.0\n",
      "Debug - Original Quantity: 1 tsp\n",
      "Debug - Converted Quantity (g): 5.0\n",
      "Debug - Actual Carbs (g): 0.0\n",
      "Debug - Ingredient Load: 0.0\n",
      "\n",
      "Debug - Total Glycemic Load: 28.0602\n"
     ]
    },
    {
     "name": "stderr",
     "output_type": "stream",
     "text": [
      "HTTP Request: POST https://api.anthropic.com/v1/messages \"HTTP/1.1 200 OK\"\n",
      "HTTP Request: POST https://api.anthropic.com/v1/messages \"HTTP/1.1 200 OK\"\n",
      "HTTP Request: POST https://api.openai.com/v1/chat/completions \"HTTP/1.1 200 OK\"\n"
     ]
    },
    {
     "name": "stdout",
     "output_type": "stream",
     "text": [
      "\n",
      "Debug - Ingredient: Greek yogurt\n",
      "Debug - GI Value: 18.0\n"
     ]
    },
    {
     "name": "stderr",
     "output_type": "stream",
     "text": [
      "HTTP Request: POST https://api.openai.com/v1/chat/completions \"HTTP/1.1 200 OK\"\n"
     ]
    },
    {
     "name": "stdout",
     "output_type": "stream",
     "text": [
      "Debug - Carb Content: 4.0\n",
      "Debug - Original Quantity: 2 cups\n",
      "Debug - Converted Quantity (g): 480.0\n",
      "Debug - Actual Carbs (g): 19.2\n",
      "Debug - Ingredient Load: 3.4559999999999995\n",
      "\n",
      "Debug - Ingredient: nuts\n",
      "Debug - GI Value: 18.0\n"
     ]
    },
    {
     "name": "stderr",
     "output_type": "stream",
     "text": [
      "HTTP Request: POST https://api.openai.com/v1/chat/completions \"HTTP/1.1 200 OK\"\n"
     ]
    },
    {
     "name": "stdout",
     "output_type": "stream",
     "text": [
      "Debug - Carb Content: 10.0\n",
      "Error calculating load for nuts: could not convert string to float: '1/4'\n",
      "\n",
      "Debug - Ingredient: berries\n",
      "Debug - GI Value: 18.0\n"
     ]
    },
    {
     "name": "stderr",
     "output_type": "stream",
     "text": [
      "HTTP Request: POST https://api.openai.com/v1/chat/completions \"HTTP/1.1 200 OK\"\n"
     ]
    },
    {
     "name": "stdout",
     "output_type": "stream",
     "text": [
      "Debug - Carb Content: 10.0\n",
      "Error calculating load for berries: could not convert string to float: '1/4'\n",
      "\n",
      "Debug - Ingredient: honey\n",
      "Debug - GI Value: 18.0\n"
     ]
    },
    {
     "name": "stderr",
     "output_type": "stream",
     "text": [
      "HTTP Request: POST https://api.openai.com/v1/chat/completions \"HTTP/1.1 200 OK\"\n"
     ]
    },
    {
     "name": "stdout",
     "output_type": "stream",
     "text": [
      "Debug - Carb Content: 82.0\n",
      "Debug - Original Quantity: 1 tbsp\n",
      "Debug - Converted Quantity (g): 15.0\n",
      "Debug - Actual Carbs (g): 12.3\n",
      "Debug - Ingredient Load: 2.214\n",
      "\n",
      "Debug - Total Glycemic Load: 5.67\n"
     ]
    },
    {
     "name": "stderr",
     "output_type": "stream",
     "text": [
      "HTTP Request: POST https://api.anthropic.com/v1/messages \"HTTP/1.1 200 OK\"\n",
      "HTTP Request: POST https://api.anthropic.com/v1/messages \"HTTP/1.1 200 OK\"\n",
      "HTTP Request: POST https://api.openai.com/v1/chat/completions \"HTTP/1.1 200 OK\"\n"
     ]
    },
    {
     "name": "stdout",
     "output_type": "stream",
     "text": [
      "\n",
      "Debug - Ingredient: whole grain bread\n",
      "Debug - GI Value: 18.0\n"
     ]
    },
    {
     "name": "stderr",
     "output_type": "stream",
     "text": [
      "HTTP Request: POST https://api.openai.com/v1/chat/completions \"HTTP/1.1 200 OK\"\n"
     ]
    },
    {
     "name": "stdout",
     "output_type": "stream",
     "text": [
      "Debug - Carb Content: 43.0\n",
      "Debug - Original Quantity: 2 slices\n",
      "Debug - Converted Quantity (g): 2.0\n",
      "Debug - Actual Carbs (g): 0.86\n",
      "Debug - Ingredient Load: 0.1548\n",
      "\n",
      "Debug - Ingredient: avocado\n",
      "Debug - GI Value: 18.0\n"
     ]
    },
    {
     "name": "stderr",
     "output_type": "stream",
     "text": [
      "HTTP Request: POST https://api.openai.com/v1/chat/completions \"HTTP/1.1 200 OK\"\n"
     ]
    },
    {
     "name": "stdout",
     "output_type": "stream",
     "text": [
      "Debug - Carb Content: 9.0\n",
      "Debug - Original Quantity: 1 \n",
      "Debug - Converted Quantity (g): 1.0\n",
      "Debug - Actual Carbs (g): 0.09\n",
      "Debug - Ingredient Load: 0.0162\n",
      "\n",
      "Debug - Ingredient: eggs\n",
      "Debug - GI Value: 18.0\n"
     ]
    },
    {
     "name": "stderr",
     "output_type": "stream",
     "text": [
      "HTTP Request: POST https://api.openai.com/v1/chat/completions \"HTTP/1.1 200 OK\"\n"
     ]
    },
    {
     "name": "stdout",
     "output_type": "stream",
     "text": [
      "Debug - Carb Content: 0.0\n",
      "Debug - Original Quantity: 2 \n",
      "Debug - Converted Quantity (g): 2.0\n",
      "Debug - Actual Carbs (g): 0.0\n",
      "Debug - Ingredient Load: 0.0\n",
      "\n",
      "Debug - Ingredient: olive oil\n",
      "Debug - GI Value: 18.0\n"
     ]
    },
    {
     "name": "stderr",
     "output_type": "stream",
     "text": [
      "HTTP Request: POST https://api.openai.com/v1/chat/completions \"HTTP/1.1 200 OK\"\n"
     ]
    },
    {
     "name": "stdout",
     "output_type": "stream",
     "text": [
      "Debug - Carb Content: 0.0\n",
      "Debug - Original Quantity: 1 tbsp\n",
      "Debug - Converted Quantity (g): 15.0\n",
      "Debug - Actual Carbs (g): 0.0\n",
      "Debug - Ingredient Load: 0.0\n",
      "\n",
      "Debug - Ingredient: herbs\n",
      "Debug - GI Value: 18.0\n"
     ]
    },
    {
     "name": "stderr",
     "output_type": "stream",
     "text": [
      "HTTP Request: POST https://api.openai.com/v1/chat/completions \"HTTP/1.1 200 OK\"\n"
     ]
    },
    {
     "name": "stdout",
     "output_type": "stream",
     "text": [
      "Debug - Carb Content: 0.0\n",
      "Debug - Original Quantity: 1 tsp\n",
      "Debug - Converted Quantity (g): 5.0\n",
      "Debug - Actual Carbs (g): 0.0\n",
      "Debug - Ingredient Load: 0.0\n",
      "\n",
      "Debug - Total Glycemic Load: 0.17099999999999999\n"
     ]
    },
    {
     "name": "stderr",
     "output_type": "stream",
     "text": [
      "HTTP Request: POST https://api.anthropic.com/v1/messages \"HTTP/1.1 200 OK\"\n",
      "HTTP Request: POST https://api.anthropic.com/v1/messages \"HTTP/1.1 200 OK\"\n"
     ]
    },
    {
     "data": {
      "text/html": [
       "<div>\n",
       "<style scoped>\n",
       "    .dataframe tbody tr th:only-of-type {\n",
       "        vertical-align: middle;\n",
       "    }\n",
       "\n",
       "    .dataframe tbody tr th {\n",
       "        vertical-align: top;\n",
       "    }\n",
       "\n",
       "    .dataframe thead th {\n",
       "        text-align: right;\n",
       "    }\n",
       "</style>\n",
       "<table border=\"1\" class=\"dataframe\">\n",
       "  <thead>\n",
       "    <tr style=\"text-align: right;\">\n",
       "      <th></th>\n",
       "      <th>recipe</th>\n",
       "      <th>category</th>\n",
       "      <th>our_prediction</th>\n",
       "      <th>expert_assessment</th>\n",
       "      <th>prediction_difference</th>\n",
       "      <th>rmse</th>\n",
       "    </tr>\n",
       "  </thead>\n",
       "  <tbody>\n",
       "    <tr>\n",
       "      <th>0</th>\n",
       "      <td>Basic Brown Rice Bowl</td>\n",
       "      <td>Simple</td>\n",
       "      <td>35.03430</td>\n",
       "      <td>50.00</td>\n",
       "      <td>14.96570</td>\n",
       "      <td>223.972176</td>\n",
       "    </tr>\n",
       "    <tr>\n",
       "      <th>1</th>\n",
       "      <td>Simple Lentil Soup</td>\n",
       "      <td>Simple</td>\n",
       "      <td>28.09260</td>\n",
       "      <td>29.00</td>\n",
       "      <td>0.90740</td>\n",
       "      <td>0.823375</td>\n",
       "    </tr>\n",
       "    <tr>\n",
       "      <th>2</th>\n",
       "      <td>Basic Quinoa Salad</td>\n",
       "      <td>Simple</td>\n",
       "      <td>9.10872</td>\n",
       "      <td>46.50</td>\n",
       "      <td>37.39128</td>\n",
       "      <td>1398.107820</td>\n",
       "    </tr>\n",
       "    <tr>\n",
       "      <th>3</th>\n",
       "      <td>Simple Tofu Stir Fry</td>\n",
       "      <td>Simple</td>\n",
       "      <td>38.48400</td>\n",
       "      <td>44.25</td>\n",
       "      <td>5.76600</td>\n",
       "      <td>33.246756</td>\n",
       "    </tr>\n",
       "    <tr>\n",
       "      <th>4</th>\n",
       "      <td>Basic Bean Bowl</td>\n",
       "      <td>Simple</td>\n",
       "      <td>45.26820</td>\n",
       "      <td>43.75</td>\n",
       "      <td>1.51820</td>\n",
       "      <td>2.304931</td>\n",
       "    </tr>\n",
       "    <tr>\n",
       "      <th>0</th>\n",
       "      <td>White Rice and Sweet Potato Bowl</td>\n",
       "      <td>High GI</td>\n",
       "      <td>73.58418</td>\n",
       "      <td>64.00</td>\n",
       "      <td>9.58418</td>\n",
       "      <td>91.856506</td>\n",
       "    </tr>\n",
       "    <tr>\n",
       "      <th>1</th>\n",
       "      <td>Pasta with White Sauce</td>\n",
       "      <td>High GI</td>\n",
       "      <td>64.15200</td>\n",
       "      <td>65.00</td>\n",
       "      <td>0.84800</td>\n",
       "      <td>0.719104</td>\n",
       "    </tr>\n",
       "    <tr>\n",
       "      <th>2</th>\n",
       "      <td>Mashed Potatoes with Gravy</td>\n",
       "      <td>High GI</td>\n",
       "      <td>4.22640</td>\n",
       "      <td>66.50</td>\n",
       "      <td>62.27360</td>\n",
       "      <td>3878.001257</td>\n",
       "    </tr>\n",
       "    <tr>\n",
       "      <th>3</th>\n",
       "      <td>White Bread Sandwich</td>\n",
       "      <td>High GI</td>\n",
       "      <td>0.41040</td>\n",
       "      <td>73.75</td>\n",
       "      <td>73.33960</td>\n",
       "      <td>5378.696928</td>\n",
       "    </tr>\n",
       "    <tr>\n",
       "      <th>4</th>\n",
       "      <td>Breakfast Cereal Bowl</td>\n",
       "      <td>High GI</td>\n",
       "      <td>80.17740</td>\n",
       "      <td>68.00</td>\n",
       "      <td>12.17740</td>\n",
       "      <td>148.289071</td>\n",
       "    </tr>\n",
       "    <tr>\n",
       "      <th>0</th>\n",
       "      <td>Mediterranean Salad</td>\n",
       "      <td>Low GI</td>\n",
       "      <td>3.86712</td>\n",
       "      <td>15.00</td>\n",
       "      <td>11.13288</td>\n",
       "      <td>123.941017</td>\n",
       "    </tr>\n",
       "    <tr>\n",
       "      <th>1</th>\n",
       "      <td>Grilled Salmon with Vegetables</td>\n",
       "      <td>Low GI</td>\n",
       "      <td>4.33620</td>\n",
       "      <td>5.00</td>\n",
       "      <td>0.66380</td>\n",
       "      <td>0.440630</td>\n",
       "    </tr>\n",
       "    <tr>\n",
       "      <th>2</th>\n",
       "      <td>Chickpea and Vegetable Stew</td>\n",
       "      <td>Low GI</td>\n",
       "      <td>28.06020</td>\n",
       "      <td>31.00</td>\n",
       "      <td>2.93980</td>\n",
       "      <td>8.642424</td>\n",
       "    </tr>\n",
       "    <tr>\n",
       "      <th>3</th>\n",
       "      <td>Greek Yogurt Parfait</td>\n",
       "      <td>Low GI</td>\n",
       "      <td>5.67000</td>\n",
       "      <td>17.50</td>\n",
       "      <td>11.83000</td>\n",
       "      <td>139.948900</td>\n",
       "    </tr>\n",
       "    <tr>\n",
       "      <th>4</th>\n",
       "      <td>Avocado and Egg Toast</td>\n",
       "      <td>Low GI</td>\n",
       "      <td>0.17100</td>\n",
       "      <td>40.00</td>\n",
       "      <td>39.82900</td>\n",
       "      <td>1586.349241</td>\n",
       "    </tr>\n",
       "  </tbody>\n",
       "</table>\n",
       "</div>"
      ],
      "text/plain": [
       "                             recipe category  our_prediction  \\\n",
       "0             Basic Brown Rice Bowl   Simple        35.03430   \n",
       "1                Simple Lentil Soup   Simple        28.09260   \n",
       "2                Basic Quinoa Salad   Simple         9.10872   \n",
       "3              Simple Tofu Stir Fry   Simple        38.48400   \n",
       "4                   Basic Bean Bowl   Simple        45.26820   \n",
       "0  White Rice and Sweet Potato Bowl  High GI        73.58418   \n",
       "1            Pasta with White Sauce  High GI        64.15200   \n",
       "2        Mashed Potatoes with Gravy  High GI         4.22640   \n",
       "3              White Bread Sandwich  High GI         0.41040   \n",
       "4             Breakfast Cereal Bowl  High GI        80.17740   \n",
       "0               Mediterranean Salad   Low GI         3.86712   \n",
       "1    Grilled Salmon with Vegetables   Low GI         4.33620   \n",
       "2       Chickpea and Vegetable Stew   Low GI        28.06020   \n",
       "3              Greek Yogurt Parfait   Low GI         5.67000   \n",
       "4             Avocado and Egg Toast   Low GI         0.17100   \n",
       "\n",
       "   expert_assessment  prediction_difference         rmse  \n",
       "0              50.00               14.96570   223.972176  \n",
       "1              29.00                0.90740     0.823375  \n",
       "2              46.50               37.39128  1398.107820  \n",
       "3              44.25                5.76600    33.246756  \n",
       "4              43.75                1.51820     2.304931  \n",
       "0              64.00                9.58418    91.856506  \n",
       "1              65.00                0.84800     0.719104  \n",
       "2              66.50               62.27360  3878.001257  \n",
       "3              73.75               73.33960  5378.696928  \n",
       "4              68.00               12.17740   148.289071  \n",
       "0              15.00               11.13288   123.941017  \n",
       "1               5.00                0.66380     0.440630  \n",
       "2              31.00                2.93980     8.642424  \n",
       "3              17.50               11.83000   139.948900  \n",
       "4              40.00               39.82900  1586.349241  "
      ]
     },
     "execution_count": 15,
     "metadata": {},
     "output_type": "execute_result"
    }
   ],
   "source": [
    "# Test each category\n",
    "simple_results = test_category(SIMPLE_RECIPES, \"Simple\")\n",
    "high_gi_results = test_category(HIGH_GI_RECIPES, \"High GI\")\n",
    "low_gi_results = test_category(LOW_GI_RECIPES, \"Low GI\")\n",
    "\n",
    "# Combine results\n",
    "all_results = pd.concat([simple_results, high_gi_results, low_gi_results])\n",
    "\n",
    "# Calculate RMSE for each recipe\n",
    "all_results['rmse'] = all_results['prediction_difference'] ** 2\n",
    "\n",
    "# Display results\n",
    "all_results"
   ]
  },
  {
   "cell_type": "markdown",
   "metadata": {},
   "source": [
    "## Visualize Results"
   ]
  },
  {
   "cell_type": "code",
   "execution_count": 16,
   "metadata": {},
   "outputs": [
    {
     "data": {
      "image/png": "[encoded data removed]",
      "text/plain": [
       "<Figure size 800x600 with 1 Axes>"
      ]
     },
     "metadata": {},
     "output_type": "display_data"
    },
    {
     "data": {
      "image/png": "[encoded data removed]",
      "text/plain": [
       "<Figure size 800x600 with 1 Axes>"
      ]
     },
     "metadata": {},
     "output_type": "display_data"
    },
    {
     "data": {
      "image/png": "[encoded data removed]",
      "text/plain": [
       "<Figure size 800x600 with 1 Axes>"
      ]
     },
     "metadata": {},
     "output_type": "display_data"
    }
   ],
   "source": [
    "# --- Plot 1: Box plot of prediction differences by category ---\n",
    "plt.figure(figsize=(8, 6))\n",
    "sns.boxplot(x='category', y='prediction_difference', data=all_results)\n",
    "plt.title('Prediction Differences by Category')\n",
    "plt.xticks(rotation=45)\n",
    "plt.ylabel('Absolute Difference')\n",
    "plt.tight_layout()\n",
    "plt.savefig(f'{plots_dir}/box_plot_prediction_difference.png')\n",
    "plt.show()\n",
    "\n",
    "# --- Plot 2: Scatter plot of predictions vs expert assessments ---\n",
    "plt.figure(figsize=(8, 6))\n",
    "sns.scatterplot(data=all_results, x='our_prediction', y='expert_assessment', hue='category')\n",
    "max_val = max(all_results['our_prediction'].max(), all_results['expert_assessment'].max())\n",
    "plt.plot([0, max_val], [0, max_val], 'k--', alpha=0.3)  # Diagonal line\n",
    "plt.title('Our Predictions vs Expert Assessments')\n",
    "plt.xlabel('Our Prediction')\n",
    "plt.ylabel('Expert Assessment')\n",
    "plt.tight_layout()\n",
    "plt.savefig(f'{plots_dir}/scatter_plot_predictions_vs_experts.png')\n",
    "plt.show()\n",
    "\n",
    "# --- Plot 3: Box plot of RMSE by category ---\n",
    "plt.figure(figsize=(8, 6))\n",
    "sns.boxplot(x='category', y='rmse', data=all_results)\n",
    "plt.title('RMSE by Category')\n",
    "plt.xticks(rotation=45)\n",
    "plt.ylabel('RMSE')\n",
    "plt.tight_layout()\n",
    "plt.savefig(f'{plots_dir}/box_plot_rmse.png')\n",
    "plt.show()"
   ]
  },
  {
   "cell_type": "markdown",
   "metadata": {},
   "source": [
    "## Analysis"
   ]
  },
  {
   "cell_type": "code",
   "execution_count": 17,
   "metadata": {},
   "outputs": [
    {
     "name": "stdout",
     "output_type": "stream",
     "text": [
      "\n",
      "Overall Statistics:\n",
      "=================\n",
      "Total recipes tested: 15\n",
      "Mean prediction difference: 19.01\n",
      "Root Mean Square Error (RMSE): 29.46\n",
      "Standard deviation: 23.29\n",
      "Max difference: 73.34\n",
      "Min difference: 0.66\n",
      "\n",
      "Category-wise Statistics:\n",
      "======================\n",
      "\n",
      "Simple:\n",
      "Number of recipes: 5\n",
      "Mean difference: 12.11\n",
      "RMSE: 18.21\n",
      "Standard deviation: 15.21\n",
      "\n",
      "High GI:\n",
      "Number of recipes: 5\n",
      "Mean difference: 31.64\n",
      "RMSE: 43.58\n",
      "Standard deviation: 33.51\n",
      "\n",
      "Low GI:\n",
      "Number of recipes: 5\n",
      "Mean difference: 13.28\n",
      "RMSE: 19.28\n",
      "Standard deviation: 15.63\n"
     ]
    }
   ],
   "source": [
    "print(\"\\nOverall Statistics:\")\n",
    "print(\"=================\")\n",
    "print(f\"Total recipes tested: {len(all_results)}\")\n",
    "print(f\"Mean prediction difference: {all_results['prediction_difference'].mean():.2f}\")\n",
    "print(f\"Root Mean Square Error (RMSE): {np.sqrt(all_results['rmse'].mean()):.2f}\")\n",
    "print(f\"Standard deviation: {all_results['prediction_difference'].std():.2f}\")\n",
    "print(f\"Max difference: {all_results['prediction_difference'].max():.2f}\")\n",
    "print(f\"Min difference: {all_results['prediction_difference'].min():.2f}\")\n",
    "\n",
    "print(\"\\nCategory-wise Statistics:\")\n",
    "print(\"======================\")\n",
    "for category in ['Simple', 'High GI', 'Low GI']:\n",
    "    cat_results = all_results[all_results['category'] == category]\n",
    "    print(f\"\\n{category}:\")\n",
    "    print(f\"Number of recipes: {len(cat_results)}\")\n",
    "    print(f\"Mean difference: {cat_results['prediction_difference'].mean():.2f}\")\n",
    "    print(f\"RMSE: {np.sqrt(cat_results['rmse'].mean()):.2f}\")\n",
    "    print(f\"Standard deviation: {cat_results['prediction_difference'].std():.2f}\")"
   ]
  },
  {
   "cell_type": "markdown",
   "metadata": {},
   "source": [
    "## Export Results"
   ]
  },
  {
   "cell_type": "code",
   "execution_count": 18,
   "metadata": {},
   "outputs": [
    {
     "name": "stdout",
     "output_type": "stream",
     "text": [
      "\n",
      "Results have been saved to test_results/finetuned/20250601_080735\n"
     ]
    }
   ],
   "source": [
    "# Save detailed results to CSV\n",
    "all_results.to_csv(f'{data_dir}/finetuned_model_results.csv', index=False)\n",
    "\n",
    "# Save summary statistics\n",
    "summary_stats = {\n",
    "    'overall': {\n",
    "        'total_recipes': len(all_results),\n",
    "        'mean_difference': all_results['prediction_difference'].mean(),\n",
    "        'rmse': np.sqrt(all_results['rmse'].mean()),\n",
    "        'std_difference': all_results['prediction_difference'].std(),\n",
    "        'max_difference': all_results['prediction_difference'].max(),\n",
    "        'min_difference': all_results['prediction_difference'].min()\n",
    "    },\n",
    "    'by_category': {\n",
    "        category: {\n",
    "            'count': len(all_results[all_results['category'] == category]),\n",
    "            'mean_difference': all_results[all_results['category'] == category]['prediction_difference'].mean(),\n",
    "            'rmse': np.sqrt(all_results[all_results['category'] == category]['rmse'].mean()),\n",
    "            'std_difference': all_results[all_results['category'] == category]['prediction_difference'].std()\n",
    "        }\n",
    "        for category in ['Simple', 'High GI', 'Low GI']\n",
    "    }\n",
    "}\n",
    "\n",
    "with open(f'{data_dir}/summary_stats.json', 'w') as f:\n",
    "    json.dump(summary_stats, f, indent=4)\n",
    "\n",
    "print(f\"\\nResults have been saved to {results_dir}\")"
   ]
  },
  {
   "cell_type": "code",
   "execution_count": null,
   "metadata": {},
   "outputs": [],
   "source": []
  },
  {
   "cell_type": "code",
   "execution_count": null,
   "metadata": {},
   "outputs": [],
   "source": []
  }
 ],
 "metadata": {
  "kernelspec": {
   "display_name": "llms",
   "language": "python",
   "name": "python3"
  },
  "language_info": {
   "codemirror_mode": {
    "name": "ipython",
    "version": 3
   },
   "file_extension": ".py",
   "mimetype": "text/x-python",
   "name": "python",
   "nbconvert_exporter": "python",
   "pygments_lexer": "ipython3",
   "version": "3.11.12"
  }
 },
 "nbformat": 4,
 "nbformat_minor": 4
}
