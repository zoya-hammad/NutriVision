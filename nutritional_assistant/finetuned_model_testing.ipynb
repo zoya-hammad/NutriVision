{
 "cells": [
  {
   "cell_type": "markdown",
   "metadata": {},
   "source": [
    "# Finetuned Model Testing\n",
    "\n",
    "This notebook tests our finetuned model from Hugging Face across different recipe categories:\n",
    "1. Simple recipes\n",
    "2. High GI recipes\n",
    "3. Low GI recipes"
   ]
  },
  {
   "cell_type": "code",
   "execution_count": 1,
   "metadata": {},
   "outputs": [],
   "source": [
    "import pandas as pd\n",
    "import numpy as np\n",
    "import matplotlib.pyplot as plt\n",
    "import seaborn as sns\n",
    "from agents.gi_agent_roberta_finetuned import GIAnalysisAgentRoBERTaFinetuned\n",
    "from agents.gi_agent_roberta_finetuned_2 import GIAnalysisAgentRoBERTaFinetuned2\n",
    "from agents.gi_grader_agent import GIGraderAgent\n",
    "from test_data.simple.simple_recipes import SIMPLE_RECIPES\n",
    "from test_data.high_gi.high_gi_recipes import HIGH_GI_RECIPES\n",
    "from test_data.low_gi.low_gi_recipes import LOW_GI_RECIPES\n",
    "import json\n",
    "from typing import List, Dict, Any\n",
    "from datetime import datetime\n",
    "import os"
   ]
  },
  {
   "cell_type": "markdown",
   "metadata": {},
   "source": [
    "## Setup Results Directory"
   ]
  },
  {
   "cell_type": "code",
   "execution_count": 2,
   "metadata": {},
   "outputs": [
    {
     "name": "stdout",
     "output_type": "stream",
     "text": [
      "Results will be saved in: test_results/finetuned/20250601_104949\n"
     ]
    }
   ],
   "source": [
    "# Create timestamp for this test run\n",
    "timestamp = datetime.now().strftime('%Y%m%d_%H%M%S')\n",
    "results_dir = f'test_results/finetuned/{timestamp}'\n",
    "plots_dir = f'{results_dir}/plots'\n",
    "data_dir = f'{results_dir}/data'\n",
    "\n",
    "# Create directories if they don't exist\n",
    "os.makedirs(plots_dir, exist_ok=True)\n",
    "os.makedirs(data_dir, exist_ok=True)\n",
    "\n",
    "print(f\"Results will be saved in: {results_dir}\")"
   ]
  },
  {
   "cell_type": "markdown",
   "metadata": {},
   "source": [
    "## Initialize Agents"
   ]
  },
  {
   "cell_type": "code",
   "execution_count": 3,
   "metadata": {},
   "outputs": [
    {
     "name": "stdout",
     "output_type": "stream",
     "text": [
      "Successfully loaded food data with 5000 entries\n"
     ]
    },
    {
     "name": "stderr",
     "output_type": "stream",
     "text": [
      "Note: Environment variable`HF_TOKEN` is set and is the current active token independently from the token you've just configured.\n",
      "Note: Environment variable`HF_TOKEN` is set and is the current active token independently from the token you've just configured.\n"
     ]
    }
   ],
   "source": [
    "# Initialize agents\n",
    "gi_agent = GIAnalysisAgentRoBERTaFinetuned2()\n",
    "grader_agent = GIGraderAgent()"
   ]
  },
  {
   "cell_type": "markdown",
   "metadata": {},
   "source": [
    "## Test Function"
   ]
  },
  {
   "cell_type": "code",
   "execution_count": 4,
   "metadata": {},
   "outputs": [],
   "source": [
    "def test_category(recipes: List[Dict[str, Any]], category_name: str) -> pd.DataFrame:\n",
    "    \"\"\"Test a category of recipes and return results\"\"\"\n",
    "    results = []\n",
    "    \n",
    "    for recipe in recipes:\n",
    "        # Get our prediction\n",
    "        our_result = gi_agent.process([recipe])\n",
    "        if 'error' in our_result:\n",
    "            print(f\"Error processing {recipe['title']}: {our_result['error']}\")\n",
    "            continue\n",
    "            \n",
    "        our_prediction = our_result['glycemic_load']\n",
    "        \n",
    "        # Get expert grading\n",
    "        grade_result = grader_agent.grade_prediction(recipe, our_prediction)\n",
    "        \n",
    "        # Store results\n",
    "        results.append({\n",
    "            'recipe': recipe['title'],\n",
    "            'category': category_name,\n",
    "            'our_prediction': our_prediction,\n",
    "            'expert_assessment': grade_result['assessed_gi'],\n",
    "            'prediction_difference': grade_result['prediction_difference']\n",
    "        })\n",
    "    \n",
    "    return pd.DataFrame(results)"
   ]
  },
  {
   "cell_type": "markdown",
   "metadata": {},
   "source": [
    "## Run Tests and Calculate Metrics"
   ]
  },
  {
   "cell_type": "code",
   "execution_count": 5,
   "metadata": {},
   "outputs": [
    {
     "name": "stderr",
     "output_type": "stream",
     "text": [
      "HTTP Request: POST https://api.openai.com/v1/chat/completions \"HTTP/1.1 200 OK\"\n"
     ]
    },
    {
     "name": "stdout",
     "output_type": "stream",
     "text": [
      "\n",
      "Debug - Ingredient: brown rice\n",
      "Debug - GI Value: 18.0\n"
     ]
    },
    {
     "name": "stderr",
     "output_type": "stream",
     "text": [
      "HTTP Request: POST https://api.openai.com/v1/chat/completions \"HTTP/1.1 200 OK\"\n"
     ]
    },
    {
     "name": "stdout",
     "output_type": "stream",
     "text": [
      "Debug - Carb Content: 77.0\n",
      "Debug - Original Quantity: 1 cup\n",
      "Debug - Converted Quantity (g): 240.0\n",
      "Debug - Actual Carbs (g): 184.8\n",
      "Debug - Ingredient Load: 33.264\n",
      "\n",
      "Debug - Ingredient: steamed vegetables\n",
      "Debug - GI Value: 18.0\n"
     ]
    },
    {
     "name": "stderr",
     "output_type": "stream",
     "text": [
      "HTTP Request: POST https://api.openai.com/v1/chat/completions \"HTTP/1.1 200 OK\"\n"
     ]
    },
    {
     "name": "stdout",
     "output_type": "stream",
     "text": [
      "Debug - Carb Content: 5.0\n",
      "Debug - Original Quantity: 1 cup\n",
      "Debug - Converted Quantity (g): 240.0\n",
      "Debug - Actual Carbs (g): 12.0\n",
      "Debug - Ingredient Load: 2.16\n",
      "\n",
      "Debug - Ingredient: olive oil\n",
      "Debug - GI Value: 18.0\n"
     ]
    },
    {
     "name": "stderr",
     "output_type": "stream",
     "text": [
      "HTTP Request: POST https://api.openai.com/v1/chat/completions \"HTTP/1.1 200 OK\"\n"
     ]
    },
    {
     "name": "stdout",
     "output_type": "stream",
     "text": [
      "Debug - Carb Content: 0.0\n",
      "Debug - Original Quantity: 1 tbsp\n",
      "Debug - Converted Quantity (g): 15.0\n",
      "Debug - Actual Carbs (g): 0.0\n",
      "Debug - Ingredient Load: 0.0\n",
      "\n",
      "Debug - Ingredient: soy sauce\n",
      "Debug - GI Value: 18.0\n"
     ]
    },
    {
     "name": "stderr",
     "output_type": "stream",
     "text": [
      "HTTP Request: POST https://api.openai.com/v1/chat/completions \"HTTP/1.1 200 OK\"\n"
     ]
    },
    {
     "name": "stdout",
     "output_type": "stream",
     "text": [
      "Debug - Carb Content: 5.0\n",
      "Debug - Original Quantity: 1 tsp\n",
      "Debug - Converted Quantity (g): 5.0\n",
      "Debug - Actual Carbs (g): 0.25\n",
      "Debug - Ingredient Load: 0.045\n",
      "\n",
      "Debug - Total Glycemic Load: 35.46900000000001\n",
      "\n",
      "Initial glycemic load for Basic Brown Rice Bowl: 35.46900000000001\n",
      "Added 20 for high GI ingredients in: Basic Brown Rice Bowl\n",
      "Glycemic load after high GI adjustment: 55.46900000000001\n",
      "Final glycemic load after all adjustments: 55.46900000000001\n"
     ]
    },
    {
     "name": "stderr",
     "output_type": "stream",
     "text": [
      "HTTP Request: POST https://api.anthropic.com/v1/messages \"HTTP/1.1 200 OK\"\n",
      "HTTP Request: POST https://api.anthropic.com/v1/messages \"HTTP/1.1 200 OK\"\n"
     ]
    },
    {
     "data": {
      "text/html": [
       "<div>\n",
       "<style scoped>\n",
       "    .dataframe tbody tr th:only-of-type {\n",
       "        vertical-align: middle;\n",
       "    }\n",
       "\n",
       "    .dataframe tbody tr th {\n",
       "        vertical-align: top;\n",
       "    }\n",
       "\n",
       "    .dataframe thead th {\n",
       "        text-align: right;\n",
       "    }\n",
       "</style>\n",
       "<table border=\"1\" class=\"dataframe\">\n",
       "  <thead>\n",
       "    <tr style=\"text-align: right;\">\n",
       "      <th></th>\n",
       "      <th>recipe</th>\n",
       "      <th>category</th>\n",
       "      <th>our_prediction</th>\n",
       "      <th>expert_assessment</th>\n",
       "      <th>prediction_difference</th>\n",
       "    </tr>\n",
       "  </thead>\n",
       "  <tbody>\n",
       "    <tr>\n",
       "      <th>0</th>\n",
       "      <td>Basic Brown Rice Bowl</td>\n",
       "      <td>Simple</td>\n",
       "      <td>55.469</td>\n",
       "      <td>50.0</td>\n",
       "      <td>5.469</td>\n",
       "    </tr>\n",
       "  </tbody>\n",
       "</table>\n",
       "</div>"
      ],
      "text/plain": [
       "                  recipe category  our_prediction  expert_assessment  \\\n",
       "0  Basic Brown Rice Bowl   Simple          55.469               50.0   \n",
       "\n",
       "   prediction_difference  \n",
       "0                  5.469  "
      ]
     },
     "execution_count": 5,
     "metadata": {},
     "output_type": "execute_result"
    }
   ],
   "source": [
    "simple_results = test_category(SIMPLE_RECIPES[:1], \"Simple\")\n",
    "simple_results"
   ]
  },
  {
   "cell_type": "code",
   "execution_count": 6,
   "metadata": {},
   "outputs": [
    {
     "name": "stderr",
     "output_type": "stream",
     "text": [
      "HTTP Request: POST https://api.openai.com/v1/chat/completions \"HTTP/1.1 200 OK\"\n"
     ]
    },
    {
     "name": "stdout",
     "output_type": "stream",
     "text": [
      "\n",
      "Debug - Ingredient: brown rice\n",
      "Debug - GI Value: 18.0\n"
     ]
    },
    {
     "name": "stderr",
     "output_type": "stream",
     "text": [
      "HTTP Request: POST https://api.openai.com/v1/chat/completions \"HTTP/1.1 200 OK\"\n"
     ]
    },
    {
     "name": "stdout",
     "output_type": "stream",
     "text": [
      "Debug - Carb Content: 77.0\n",
      "Debug - Original Quantity: 1 cup\n",
      "Debug - Converted Quantity (g): 240.0\n",
      "Debug - Actual Carbs (g): 184.8\n",
      "Debug - Ingredient Load: 33.264\n",
      "\n",
      "Debug - Ingredient: steamed vegetables\n",
      "Debug - GI Value: 18.0\n"
     ]
    },
    {
     "name": "stderr",
     "output_type": "stream",
     "text": [
      "HTTP Request: POST https://api.openai.com/v1/chat/completions \"HTTP/1.1 200 OK\"\n"
     ]
    },
    {
     "name": "stdout",
     "output_type": "stream",
     "text": [
      "Debug - Carb Content: 5.0\n",
      "Debug - Original Quantity: 1 cup\n",
      "Debug - Converted Quantity (g): 240.0\n",
      "Debug - Actual Carbs (g): 12.0\n",
      "Debug - Ingredient Load: 2.16\n",
      "\n",
      "Debug - Ingredient: olive oil\n",
      "Debug - GI Value: 18.0\n"
     ]
    },
    {
     "name": "stderr",
     "output_type": "stream",
     "text": [
      "HTTP Request: POST https://api.openai.com/v1/chat/completions \"HTTP/1.1 200 OK\"\n"
     ]
    },
    {
     "name": "stdout",
     "output_type": "stream",
     "text": [
      "Debug - Carb Content: 0.0\n",
      "Debug - Original Quantity: 1 tbsp\n",
      "Debug - Converted Quantity (g): 15.0\n",
      "Debug - Actual Carbs (g): 0.0\n",
      "Debug - Ingredient Load: 0.0\n",
      "\n",
      "Debug - Ingredient: soy sauce\n",
      "Debug - GI Value: 18.0\n"
     ]
    },
    {
     "name": "stderr",
     "output_type": "stream",
     "text": [
      "HTTP Request: POST https://api.openai.com/v1/chat/completions \"HTTP/1.1 200 OK\"\n"
     ]
    },
    {
     "name": "stdout",
     "output_type": "stream",
     "text": [
      "Debug - Carb Content: 5.7\n",
      "Debug - Original Quantity: 1 tsp\n",
      "Debug - Converted Quantity (g): 5.0\n",
      "Debug - Actual Carbs (g): 0.285\n",
      "Debug - Ingredient Load: 0.0513\n",
      "\n",
      "Debug - Total Glycemic Load: 35.475300000000004\n",
      "\n",
      "Initial glycemic load for Basic Brown Rice Bowl: 35.475300000000004\n",
      "Added 20 for high GI ingredients in: Basic Brown Rice Bowl\n",
      "Glycemic load after high GI adjustment: 55.475300000000004\n",
      "Final glycemic load after all adjustments: 55.475300000000004\n"
     ]
    },
    {
     "name": "stderr",
     "output_type": "stream",
     "text": [
      "HTTP Request: POST https://api.anthropic.com/v1/messages \"HTTP/1.1 200 OK\"\n",
      "HTTP Request: POST https://api.anthropic.com/v1/messages \"HTTP/1.1 200 OK\"\n",
      "HTTP Request: POST https://api.openai.com/v1/chat/completions \"HTTP/1.1 200 OK\"\n"
     ]
    },
    {
     "name": "stdout",
     "output_type": "stream",
     "text": [
      "\n",
      "Debug - Ingredient: red lentils\n",
      "Debug - GI Value: 18.0\n"
     ]
    },
    {
     "name": "stderr",
     "output_type": "stream",
     "text": [
      "HTTP Request: POST https://api.openai.com/v1/chat/completions \"HTTP/1.1 200 OK\"\n"
     ]
    },
    {
     "name": "stdout",
     "output_type": "stream",
     "text": [
      "Debug - Carb Content: 60.0\n",
      "Debug - Original Quantity: 1 cup\n",
      "Debug - Converted Quantity (g): 240.0\n",
      "Debug - Actual Carbs (g): 144.0\n",
      "Debug - Ingredient Load: 25.92\n",
      "\n",
      "Debug - Ingredient: onion\n",
      "Debug - GI Value: 18.0\n"
     ]
    },
    {
     "name": "stderr",
     "output_type": "stream",
     "text": [
      "HTTP Request: POST https://api.openai.com/v1/chat/completions \"HTTP/1.1 200 OK\"\n"
     ]
    },
    {
     "name": "stdout",
     "output_type": "stream",
     "text": [
      "Debug - Carb Content: 9.0\n",
      "Debug - Original Quantity: 1 \n",
      "Debug - Converted Quantity (g): 1.0\n",
      "Debug - Actual Carbs (g): 0.09\n",
      "Debug - Ingredient Load: 0.0162\n",
      "\n",
      "Debug - Ingredient: carrots\n",
      "Debug - GI Value: 18.0\n"
     ]
    },
    {
     "name": "stderr",
     "output_type": "stream",
     "text": [
      "HTTP Request: POST https://api.openai.com/v1/chat/completions \"HTTP/1.1 200 OK\"\n"
     ]
    },
    {
     "name": "stdout",
     "output_type": "stream",
     "text": [
      "Debug - Carb Content: 9.0\n",
      "Debug - Original Quantity: 2 \n",
      "Debug - Converted Quantity (g): 2.0\n",
      "Debug - Actual Carbs (g): 0.18\n",
      "Debug - Ingredient Load: 0.0324\n",
      "\n",
      "Debug - Ingredient: vegetable broth\n",
      "Debug - GI Value: 18.0\n"
     ]
    },
    {
     "name": "stderr",
     "output_type": "stream",
     "text": [
      "HTTP Request: POST https://api.openai.com/v1/chat/completions \"HTTP/1.1 200 OK\"\n"
     ]
    },
    {
     "name": "stdout",
     "output_type": "stream",
     "text": [
      "Debug - Carb Content: 1.0\n",
      "Debug - Original Quantity: 4 cups\n",
      "Debug - Converted Quantity (g): 960.0\n",
      "Debug - Actual Carbs (g): 9.6\n",
      "Debug - Ingredient Load: 1.7279999999999998\n",
      "\n",
      "Debug - Ingredient: cumin\n",
      "Debug - GI Value: 18.0\n"
     ]
    },
    {
     "name": "stderr",
     "output_type": "stream",
     "text": [
      "HTTP Request: POST https://api.openai.com/v1/chat/completions \"HTTP/1.1 200 OK\"\n"
     ]
    },
    {
     "name": "stdout",
     "output_type": "stream",
     "text": [
      "Debug - Carb Content: 44.0\n",
      "Debug - Original Quantity: 1 tsp\n",
      "Debug - Converted Quantity (g): 5.0\n",
      "Debug - Actual Carbs (g): 2.2\n",
      "Debug - Ingredient Load: 0.396\n",
      "\n",
      "Debug - Total Glycemic Load: 28.092600000000004\n",
      "\n",
      "Initial glycemic load for Simple Lentil Soup: 28.092600000000004\n",
      "Final glycemic load after all adjustments: 28.092600000000004\n"
     ]
    },
    {
     "name": "stderr",
     "output_type": "stream",
     "text": [
      "HTTP Request: POST https://api.anthropic.com/v1/messages \"HTTP/1.1 200 OK\"\n",
      "HTTP Request: POST https://api.anthropic.com/v1/messages \"HTTP/1.1 200 OK\"\n",
      "HTTP Request: POST https://api.openai.com/v1/chat/completions \"HTTP/1.1 200 OK\"\n"
     ]
    },
    {
     "name": "stdout",
     "output_type": "stream",
     "text": [
      "\n",
      "Debug - Ingredient: quinoa\n",
      "Debug - GI Value: 18.0\n"
     ]
    },
    {
     "name": "stderr",
     "output_type": "stream",
     "text": [
      "HTTP Request: POST https://api.openai.com/v1/chat/completions \"HTTP/1.1 200 OK\"\n"
     ]
    },
    {
     "name": "stdout",
     "output_type": "stream",
     "text": [
      "Debug - Carb Content: 21.3\n",
      "Debug - Original Quantity: 1 cup\n",
      "Debug - Converted Quantity (g): 240.0\n",
      "Debug - Actual Carbs (g): 51.12\n",
      "Debug - Ingredient Load: 9.2016\n",
      "\n",
      "Debug - Ingredient: cucumber\n",
      "Debug - GI Value: 18.0\n"
     ]
    },
    {
     "name": "stderr",
     "output_type": "stream",
     "text": [
      "HTTP Request: POST https://api.openai.com/v1/chat/completions \"HTTP/1.1 200 OK\"\n"
     ]
    },
    {
     "name": "stdout",
     "output_type": "stream",
     "text": [
      "Debug - Carb Content: 4.0\n",
      "Debug - Original Quantity: 1 \n",
      "Debug - Converted Quantity (g): 1.0\n",
      "Debug - Actual Carbs (g): 0.04\n",
      "Debug - Ingredient Load: 0.0072\n",
      "\n",
      "Debug - Ingredient: tomatoes\n",
      "Debug - GI Value: 18.0\n"
     ]
    },
    {
     "name": "stderr",
     "output_type": "stream",
     "text": [
      "HTTP Request: POST https://api.openai.com/v1/chat/completions \"HTTP/1.1 200 OK\"\n"
     ]
    },
    {
     "name": "stdout",
     "output_type": "stream",
     "text": [
      "Debug - Carb Content: 3.9\n",
      "Debug - Original Quantity: 2 \n",
      "Debug - Converted Quantity (g): 2.0\n",
      "Debug - Actual Carbs (g): 0.078\n",
      "Debug - Ingredient Load: 0.014039999999999999\n",
      "\n",
      "Debug - Ingredient: olive oil\n",
      "Debug - GI Value: 18.0\n"
     ]
    },
    {
     "name": "stderr",
     "output_type": "stream",
     "text": [
      "HTTP Request: POST https://api.openai.com/v1/chat/completions \"HTTP/1.1 200 OK\"\n"
     ]
    },
    {
     "name": "stdout",
     "output_type": "stream",
     "text": [
      "Debug - Carb Content: 0.0\n",
      "Debug - Original Quantity: 2 tbsp\n",
      "Debug - Converted Quantity (g): 30.0\n",
      "Debug - Actual Carbs (g): 0.0\n",
      "Debug - Ingredient Load: 0.0\n",
      "\n",
      "Debug - Ingredient: lemon\n",
      "Debug - GI Value: 18.0\n"
     ]
    },
    {
     "name": "stderr",
     "output_type": "stream",
     "text": [
      "HTTP Request: POST https://api.openai.com/v1/chat/completions \"HTTP/1.1 200 OK\"\n"
     ]
    },
    {
     "name": "stdout",
     "output_type": "stream",
     "text": [
      "Debug - Carb Content: 6.1\n",
      "Debug - Original Quantity: 1 \n",
      "Debug - Converted Quantity (g): 1.0\n",
      "Debug - Actual Carbs (g): 0.061\n",
      "Debug - Ingredient Load: 0.010979999999999998\n",
      "\n",
      "Debug - Total Glycemic Load: 9.233819999999998\n",
      "\n",
      "Initial glycemic load for Basic Quinoa Salad: 9.233819999999998\n",
      "Added 20 for high GI ingredients in: Basic Quinoa Salad\n",
      "Glycemic load after high GI adjustment: 29.233819999999998\n",
      "Final glycemic load after all adjustments: 29.233819999999998\n"
     ]
    },
    {
     "name": "stderr",
     "output_type": "stream",
     "text": [
      "HTTP Request: POST https://api.anthropic.com/v1/messages \"HTTP/1.1 200 OK\"\n",
      "HTTP Request: POST https://api.anthropic.com/v1/messages \"HTTP/1.1 200 OK\"\n",
      "HTTP Request: POST https://api.openai.com/v1/chat/completions \"HTTP/1.1 200 OK\"\n"
     ]
    },
    {
     "name": "stdout",
     "output_type": "stream",
     "text": [
      "\n",
      "Debug - Ingredient: firm tofu\n",
      "Debug - GI Value: 18.0\n"
     ]
    },
    {
     "name": "stderr",
     "output_type": "stream",
     "text": [
      "HTTP Request: POST https://api.openai.com/v1/chat/completions \"HTTP/1.1 200 OK\"\n"
     ]
    },
    {
     "name": "stdout",
     "output_type": "stream",
     "text": [
      "Debug - Carb Content: 1.9\n",
      "Debug - Original Quantity: 200 g\n",
      "Debug - Converted Quantity (g): 200.0\n",
      "Debug - Actual Carbs (g): 3.8\n",
      "Debug - Ingredient Load: 0.6839999999999999\n",
      "\n",
      "Debug - Ingredient: mixed vegetables\n",
      "Debug - GI Value: 18.0\n"
     ]
    },
    {
     "name": "stderr",
     "output_type": "stream",
     "text": [
      "HTTP Request: POST https://api.openai.com/v1/chat/completions \"HTTP/1.1 200 OK\"\n"
     ]
    },
    {
     "name": "stdout",
     "output_type": "stream",
     "text": [
      "Debug - Carb Content: 7.0\n",
      "Debug - Original Quantity: 2 cups\n",
      "Debug - Converted Quantity (g): 480.0\n",
      "Debug - Actual Carbs (g): 33.6\n",
      "Debug - Ingredient Load: 6.048000000000001\n",
      "\n",
      "Debug - Ingredient: soy sauce\n",
      "Debug - GI Value: 18.0\n"
     ]
    },
    {
     "name": "stderr",
     "output_type": "stream",
     "text": [
      "HTTP Request: POST https://api.openai.com/v1/chat/completions \"HTTP/1.1 200 OK\"\n"
     ]
    },
    {
     "name": "stdout",
     "output_type": "stream",
     "text": [
      "Debug - Carb Content: 5.0\n",
      "Debug - Original Quantity: 2 tbsp\n",
      "Debug - Converted Quantity (g): 30.0\n",
      "Debug - Actual Carbs (g): 1.5\n",
      "Debug - Ingredient Load: 0.27\n",
      "\n",
      "Debug - Ingredient: brown rice\n",
      "Debug - GI Value: 18.0\n"
     ]
    },
    {
     "name": "stderr",
     "output_type": "stream",
     "text": [
      "HTTP Request: POST https://api.openai.com/v1/chat/completions \"HTTP/1.1 200 OK\"\n"
     ]
    },
    {
     "name": "stdout",
     "output_type": "stream",
     "text": [
      "Debug - Carb Content: 77.0\n",
      "Debug - Original Quantity: 1 cup\n",
      "Debug - Converted Quantity (g): 240.0\n",
      "Debug - Actual Carbs (g): 184.8\n",
      "Debug - Ingredient Load: 33.264\n",
      "\n",
      "Debug - Total Glycemic Load: 40.266000000000005\n",
      "\n",
      "Initial glycemic load for Simple Tofu Stir Fry: 40.266000000000005\n",
      "Final glycemic load after all adjustments: 40.266000000000005\n"
     ]
    },
    {
     "name": "stderr",
     "output_type": "stream",
     "text": [
      "HTTP Request: POST https://api.anthropic.com/v1/messages \"HTTP/1.1 200 OK\"\n",
      "HTTP Request: POST https://api.anthropic.com/v1/messages \"HTTP/1.1 200 OK\"\n",
      "HTTP Request: POST https://api.openai.com/v1/chat/completions \"HTTP/1.1 200 OK\"\n"
     ]
    },
    {
     "name": "stdout",
     "output_type": "stream",
     "text": [
      "\n",
      "Debug - Ingredient: black beans\n",
      "Debug - GI Value: 18.0\n"
     ]
    },
    {
     "name": "stderr",
     "output_type": "stream",
     "text": [
      "HTTP Request: POST https://api.openai.com/v1/chat/completions \"HTTP/1.1 200 OK\"\n"
     ]
    },
    {
     "name": "stdout",
     "output_type": "stream",
     "text": [
      "Debug - Carb Content: 27.0\n",
      "Debug - Original Quantity: 1 cup\n",
      "Debug - Converted Quantity (g): 240.0\n",
      "Debug - Actual Carbs (g): 64.8\n",
      "Debug - Ingredient Load: 11.663999999999998\n",
      "\n",
      "Debug - Ingredient: brown rice\n",
      "Debug - GI Value: 18.0\n"
     ]
    },
    {
     "name": "stderr",
     "output_type": "stream",
     "text": [
      "HTTP Request: POST https://api.openai.com/v1/chat/completions \"HTTP/1.1 200 OK\"\n"
     ]
    },
    {
     "name": "stdout",
     "output_type": "stream",
     "text": [
      "Debug - Carb Content: 77.0\n",
      "Debug - Original Quantity: 1 cup\n",
      "Debug - Converted Quantity (g): 240.0\n",
      "Debug - Actual Carbs (g): 184.8\n",
      "Debug - Ingredient Load: 33.264\n",
      "\n",
      "Debug - Ingredient: avocado\n",
      "Debug - GI Value: 18.0\n"
     ]
    },
    {
     "name": "stderr",
     "output_type": "stream",
     "text": [
      "HTTP Request: POST https://api.openai.com/v1/chat/completions \"HTTP/1.1 200 OK\"\n"
     ]
    },
    {
     "name": "stdout",
     "output_type": "stream",
     "text": [
      "Debug - Carb Content: 8.5\n",
      "Debug - Original Quantity: 1 \n",
      "Debug - Converted Quantity (g): 1.0\n",
      "Debug - Actual Carbs (g): 0.085\n",
      "Debug - Ingredient Load: 0.015300000000000001\n",
      "\n",
      "Debug - Ingredient: lime juice\n",
      "Debug - GI Value: 18.0\n"
     ]
    },
    {
     "name": "stderr",
     "output_type": "stream",
     "text": [
      "HTTP Request: POST https://api.openai.com/v1/chat/completions \"HTTP/1.1 200 OK\"\n"
     ]
    },
    {
     "name": "stdout",
     "output_type": "stream",
     "text": [
      "Debug - Carb Content: 6.0\n",
      "Debug - Original Quantity: 2 tbsp\n",
      "Debug - Converted Quantity (g): 30.0\n",
      "Debug - Actual Carbs (g): 1.8\n",
      "Debug - Ingredient Load: 0.324\n",
      "\n",
      "Debug - Total Glycemic Load: 45.2673\n",
      "\n",
      "Initial glycemic load for Basic Bean Bowl: 45.2673\n",
      "Final glycemic load after all adjustments: 45.2673\n"
     ]
    },
    {
     "name": "stderr",
     "output_type": "stream",
     "text": [
      "HTTP Request: POST https://api.anthropic.com/v1/messages \"HTTP/1.1 200 OK\"\n",
      "HTTP Request: POST https://api.anthropic.com/v1/messages \"HTTP/1.1 200 OK\"\n",
      "HTTP Request: POST https://api.openai.com/v1/chat/completions \"HTTP/1.1 200 OK\"\n"
     ]
    },
    {
     "name": "stdout",
     "output_type": "stream",
     "text": [
      "\n",
      "Debug - Ingredient: mixed greens\n",
      "Debug - GI Value: 18.0\n"
     ]
    },
    {
     "name": "stderr",
     "output_type": "stream",
     "text": [
      "HTTP Request: POST https://api.openai.com/v1/chat/completions \"HTTP/1.1 200 OK\"\n"
     ]
    },
    {
     "name": "stdout",
     "output_type": "stream",
     "text": [
      "Debug - Carb Content: 3.0\n",
      "Debug - Original Quantity: 2 cups\n",
      "Debug - Converted Quantity (g): 480.0\n",
      "Debug - Actual Carbs (g): 14.4\n",
      "Debug - Ingredient Load: 2.592\n",
      "\n",
      "Debug - Ingredient: cucumber\n",
      "Debug - GI Value: 18.0\n"
     ]
    },
    {
     "name": "stderr",
     "output_type": "stream",
     "text": [
      "HTTP Request: POST https://api.openai.com/v1/chat/completions \"HTTP/1.1 200 OK\"\n"
     ]
    },
    {
     "name": "stdout",
     "output_type": "stream",
     "text": [
      "Debug - Carb Content: 4.0\n",
      "Debug - Original Quantity: 1 \n",
      "Debug - Converted Quantity (g): 1.0\n",
      "Debug - Actual Carbs (g): 0.04\n",
      "Debug - Ingredient Load: 0.0072\n",
      "\n",
      "Debug - Ingredient: tomatoes\n",
      "Debug - GI Value: 18.0\n"
     ]
    },
    {
     "name": "stderr",
     "output_type": "stream",
     "text": [
      "HTTP Request: POST https://api.openai.com/v1/chat/completions \"HTTP/1.1 200 OK\"\n"
     ]
    },
    {
     "name": "stdout",
     "output_type": "stream",
     "text": [
      "Debug - Carb Content: 3.9\n",
      "Debug - Original Quantity: 2 \n",
      "Debug - Converted Quantity (g): 2.0\n",
      "Debug - Actual Carbs (g): 0.078\n",
      "Debug - Ingredient Load: 0.014039999999999999\n",
      "\n",
      "Debug - Ingredient: olives\n",
      "Debug - GI Value: 14.0\n"
     ]
    },
    {
     "name": "stderr",
     "output_type": "stream",
     "text": [
      "HTTP Request: POST https://api.openai.com/v1/chat/completions \"HTTP/1.1 200 OK\"\n"
     ]
    },
    {
     "name": "stdout",
     "output_type": "stream",
     "text": [
      "Debug - Carb Content: 6.0\n",
      "Debug - Original Quantity: 1/4 cup\n",
      "Debug - Converted Quantity (g): 60.0\n",
      "Debug - Actual Carbs (g): 3.6\n",
      "Debug - Ingredient Load: 0.504\n",
      "\n",
      "Debug - Ingredient: feta cheese\n",
      "Debug - GI Value: 18.0\n"
     ]
    },
    {
     "name": "stderr",
     "output_type": "stream",
     "text": [
      "HTTP Request: POST https://api.openai.com/v1/chat/completions \"HTTP/1.1 200 OK\"\n"
     ]
    },
    {
     "name": "stdout",
     "output_type": "stream",
     "text": [
      "Debug - Carb Content: 4.0\n",
      "Debug - Original Quantity: 100 g\n",
      "Debug - Converted Quantity (g): 100.0\n",
      "Debug - Actual Carbs (g): 4.0\n",
      "Debug - Ingredient Load: 0.72\n",
      "\n",
      "Debug - Ingredient: olive oil\n",
      "Debug - GI Value: 18.0\n"
     ]
    },
    {
     "name": "stderr",
     "output_type": "stream",
     "text": [
      "HTTP Request: POST https://api.openai.com/v1/chat/completions \"HTTP/1.1 200 OK\"\n"
     ]
    },
    {
     "name": "stdout",
     "output_type": "stream",
     "text": [
      "Debug - Carb Content: 0.0\n",
      "Debug - Original Quantity: 2 tbsp\n",
      "Debug - Converted Quantity (g): 30.0\n",
      "Debug - Actual Carbs (g): 0.0\n",
      "Debug - Ingredient Load: 0.0\n",
      "\n",
      "Debug - Ingredient: lemon\n",
      "Debug - GI Value: 18.0\n"
     ]
    },
    {
     "name": "stderr",
     "output_type": "stream",
     "text": [
      "HTTP Request: POST https://api.openai.com/v1/chat/completions \"HTTP/1.1 200 OK\"\n"
     ]
    },
    {
     "name": "stdout",
     "output_type": "stream",
     "text": [
      "Debug - Carb Content: 6.1\n",
      "Debug - Original Quantity: 1 \n",
      "Debug - Converted Quantity (g): 1.0\n",
      "Debug - Actual Carbs (g): 0.061\n",
      "Debug - Ingredient Load: 0.010979999999999998\n",
      "\n",
      "Debug - Total Glycemic Load: 3.8482200000000004\n",
      "\n",
      "Initial glycemic load for Mediterranean Salad: 3.8482200000000004\n",
      "Final glycemic load after all adjustments: 3.8482200000000004\n"
     ]
    },
    {
     "name": "stderr",
     "output_type": "stream",
     "text": [
      "HTTP Request: POST https://api.anthropic.com/v1/messages \"HTTP/1.1 200 OK\"\n",
      "HTTP Request: POST https://api.anthropic.com/v1/messages \"HTTP/1.1 200 OK\"\n",
      "HTTP Request: POST https://api.openai.com/v1/chat/completions \"HTTP/1.1 200 OK\"\n"
     ]
    },
    {
     "name": "stdout",
     "output_type": "stream",
     "text": [
      "\n",
      "Debug - Ingredient: salmon fillet\n",
      "Debug - GI Value: 18.0\n"
     ]
    },
    {
     "name": "stderr",
     "output_type": "stream",
     "text": [
      "HTTP Request: POST https://api.openai.com/v1/chat/completions \"HTTP/1.1 200 OK\"\n"
     ]
    },
    {
     "name": "stdout",
     "output_type": "stream",
     "text": [
      "Debug - Carb Content: 0.0\n",
      "Debug - Original Quantity: 200 g\n",
      "Debug - Converted Quantity (g): 200.0\n",
      "Debug - Actual Carbs (g): 0.0\n",
      "Debug - Ingredient Load: 0.0\n",
      "\n",
      "Debug - Ingredient: mixed vegetables\n",
      "Debug - GI Value: 18.0\n"
     ]
    },
    {
     "name": "stderr",
     "output_type": "stream",
     "text": [
      "HTTP Request: POST https://api.openai.com/v1/chat/completions \"HTTP/1.1 200 OK\"\n"
     ]
    },
    {
     "name": "stdout",
     "output_type": "stream",
     "text": [
      "Debug - Carb Content: 7.0\n",
      "Debug - Original Quantity: 2 cups\n",
      "Debug - Converted Quantity (g): 480.0\n",
      "Debug - Actual Carbs (g): 33.6\n",
      "Debug - Ingredient Load: 6.048000000000001\n",
      "\n",
      "Debug - Ingredient: olive oil\n",
      "Debug - GI Value: 18.0\n"
     ]
    },
    {
     "name": "stderr",
     "output_type": "stream",
     "text": [
      "HTTP Request: POST https://api.openai.com/v1/chat/completions \"HTTP/1.1 200 OK\"\n"
     ]
    },
    {
     "name": "stdout",
     "output_type": "stream",
     "text": [
      "Debug - Carb Content: 0.0\n",
      "Debug - Original Quantity: 2 tbsp\n",
      "Debug - Converted Quantity (g): 30.0\n",
      "Debug - Actual Carbs (g): 0.0\n",
      "Debug - Ingredient Load: 0.0\n",
      "\n",
      "Debug - Ingredient: lemon\n",
      "Debug - GI Value: 18.0\n"
     ]
    },
    {
     "name": "stderr",
     "output_type": "stream",
     "text": [
      "HTTP Request: POST https://api.openai.com/v1/chat/completions \"HTTP/1.1 200 OK\"\n"
     ]
    },
    {
     "name": "stdout",
     "output_type": "stream",
     "text": [
      "Debug - Carb Content: 6.1\n",
      "Debug - Original Quantity: 1 \n",
      "Debug - Converted Quantity (g): 1.0\n",
      "Debug - Actual Carbs (g): 0.061\n",
      "Debug - Ingredient Load: 0.010979999999999998\n",
      "\n",
      "Debug - Ingredient: herbs\n",
      "Debug - GI Value: 18.0\n"
     ]
    },
    {
     "name": "stderr",
     "output_type": "stream",
     "text": [
      "HTTP Request: POST https://api.openai.com/v1/chat/completions \"HTTP/1.1 200 OK\"\n"
     ]
    },
    {
     "name": "stdout",
     "output_type": "stream",
     "text": [
      "Debug - Carb Content: 5.0\n",
      "Debug - Original Quantity: 1 tsp\n",
      "Debug - Converted Quantity (g): 5.0\n",
      "Debug - Actual Carbs (g): 0.25\n",
      "Debug - Ingredient Load: 0.045\n",
      "\n",
      "Debug - Total Glycemic Load: 6.103980000000001\n",
      "\n",
      "Initial glycemic load for Grilled Salmon with Vegetables: 6.103980000000001\n",
      "Final glycemic load after all adjustments: 6.103980000000001\n"
     ]
    },
    {
     "name": "stderr",
     "output_type": "stream",
     "text": [
      "HTTP Request: POST https://api.anthropic.com/v1/messages \"HTTP/1.1 200 OK\"\n",
      "HTTP Request: POST https://api.anthropic.com/v1/messages \"HTTP/1.1 200 OK\"\n",
      "HTTP Request: POST https://api.openai.com/v1/chat/completions \"HTTP/1.1 200 OK\"\n"
     ]
    },
    {
     "name": "stdout",
     "output_type": "stream",
     "text": [
      "\n",
      "Debug - Ingredient: green lentils\n",
      "Debug - GI Value: 18.0\n"
     ]
    },
    {
     "name": "stderr",
     "output_type": "stream",
     "text": [
      "HTTP Request: POST https://api.openai.com/v1/chat/completions \"HTTP/1.1 200 OK\"\n"
     ]
    },
    {
     "name": "stdout",
     "output_type": "stream",
     "text": [
      "Debug - Carb Content: 20.0\n",
      "Debug - Original Quantity: 1 cup\n",
      "Debug - Converted Quantity (g): 240.0\n",
      "Debug - Actual Carbs (g): 48.0\n",
      "Debug - Ingredient Load: 8.64\n",
      "\n",
      "Debug - Ingredient: fresh spinach\n",
      "Debug - GI Value: 18.0\n"
     ]
    },
    {
     "name": "stderr",
     "output_type": "stream",
     "text": [
      "HTTP Request: POST https://api.openai.com/v1/chat/completions \"HTTP/1.1 200 OK\"\n"
     ]
    },
    {
     "name": "stdout",
     "output_type": "stream",
     "text": [
      "Debug - Carb Content: 1.1\n",
      "Debug - Original Quantity: 2 cups\n",
      "Debug - Converted Quantity (g): 480.0\n",
      "Debug - Actual Carbs (g): 5.28\n",
      "Debug - Ingredient Load: 0.9504\n",
      "\n",
      "Debug - Ingredient: tomato\n",
      "Debug - GI Value: 18.0\n"
     ]
    },
    {
     "name": "stderr",
     "output_type": "stream",
     "text": [
      "HTTP Request: POST https://api.openai.com/v1/chat/completions \"HTTP/1.1 200 OK\"\n"
     ]
    },
    {
     "name": "stdout",
     "output_type": "stream",
     "text": [
      "Debug - Carb Content: 3.9\n",
      "Debug - Original Quantity: 1 \n",
      "Debug - Converted Quantity (g): 1.0\n",
      "Debug - Actual Carbs (g): 0.039\n",
      "Debug - Ingredient Load: 0.007019999999999999\n",
      "\n",
      "Debug - Ingredient: onion\n",
      "Debug - GI Value: 18.0\n"
     ]
    },
    {
     "name": "stderr",
     "output_type": "stream",
     "text": [
      "HTTP Request: POST https://api.openai.com/v1/chat/completions \"HTTP/1.1 200 OK\"\n"
     ]
    },
    {
     "name": "stdout",
     "output_type": "stream",
     "text": [
      "Debug - Carb Content: 9.0\n",
      "Debug - Original Quantity: 1 \n",
      "Debug - Converted Quantity (g): 1.0\n",
      "Debug - Actual Carbs (g): 0.09\n",
      "Debug - Ingredient Load: 0.0162\n",
      "\n",
      "Debug - Ingredient: garlic\n",
      "Debug - GI Value: 18.0\n"
     ]
    },
    {
     "name": "stderr",
     "output_type": "stream",
     "text": [
      "HTTP Request: POST https://api.openai.com/v1/chat/completions \"HTTP/1.1 200 OK\"\n"
     ]
    },
    {
     "name": "stdout",
     "output_type": "stream",
     "text": [
      "Debug - Carb Content: 33.0\n",
      "Debug - Original Quantity: 2 cloves\n",
      "Debug - Converted Quantity (g): 2.0\n",
      "Debug - Actual Carbs (g): 0.66\n",
      "Debug - Ingredient Load: 0.1188\n",
      "\n",
      "Debug - Ingredient: olive oil\n",
      "Debug - GI Value: 18.0\n"
     ]
    },
    {
     "name": "stderr",
     "output_type": "stream",
     "text": [
      "HTTP Request: POST https://api.openai.com/v1/chat/completions \"HTTP/1.1 200 OK\"\n"
     ]
    },
    {
     "name": "stdout",
     "output_type": "stream",
     "text": [
      "Debug - Carb Content: 0.0\n",
      "Debug - Original Quantity: 1 tbsp\n",
      "Debug - Converted Quantity (g): 15.0\n",
      "Debug - Actual Carbs (g): 0.0\n",
      "Debug - Ingredient Load: 0.0\n",
      "\n",
      "Debug - Ingredient: cumin seeds\n",
      "Debug - GI Value: 18.0\n"
     ]
    },
    {
     "name": "stderr",
     "output_type": "stream",
     "text": [
      "HTTP Request: POST https://api.openai.com/v1/chat/completions \"HTTP/1.1 200 OK\"\n"
     ]
    },
    {
     "name": "stdout",
     "output_type": "stream",
     "text": [
      "Debug - Carb Content: 44.0\n",
      "Debug - Original Quantity: 1 tsp\n",
      "Debug - Converted Quantity (g): 5.0\n",
      "Debug - Actual Carbs (g): 2.2\n",
      "Debug - Ingredient Load: 0.396\n",
      "\n",
      "Debug - Ingredient: ground turmeric\n",
      "Debug - GI Value: 18.0\n"
     ]
    },
    {
     "name": "stderr",
     "output_type": "stream",
     "text": [
      "HTTP Request: POST https://api.openai.com/v1/chat/completions \"HTTP/1.1 200 OK\"\n"
     ]
    },
    {
     "name": "stdout",
     "output_type": "stream",
     "text": [
      "Debug - Carb Content: 65.0\n",
      "Debug - Original Quantity: 1/2 tsp\n",
      "Debug - Converted Quantity (g): 2.5\n",
      "Debug - Actual Carbs (g): 1.625\n",
      "Debug - Ingredient Load: 0.2925\n",
      "\n",
      "Debug - Ingredient: ground coriander\n",
      "Debug - GI Value: 18.0\n"
     ]
    },
    {
     "name": "stderr",
     "output_type": "stream",
     "text": [
      "HTTP Request: POST https://api.openai.com/v1/chat/completions \"HTTP/1.1 200 OK\"\n"
     ]
    },
    {
     "name": "stdout",
     "output_type": "stream",
     "text": [
      "Debug - Carb Content: 55.0\n",
      "Debug - Original Quantity: 1/2 tsp\n",
      "Debug - Converted Quantity (g): 2.5\n",
      "Debug - Actual Carbs (g): 1.375\n",
      "Debug - Ingredient Load: 0.2475\n",
      "\n",
      "Debug - Total Glycemic Load: 10.668420000000003\n",
      "\n",
      "Initial glycemic load for Lentil and Spinach Curry: 10.668420000000003\n",
      "Final glycemic load after all adjustments: 10.668420000000003\n"
     ]
    },
    {
     "name": "stderr",
     "output_type": "stream",
     "text": [
      "HTTP Request: POST https://api.anthropic.com/v1/messages \"HTTP/1.1 200 OK\"\n",
      "HTTP Request: POST https://api.anthropic.com/v1/messages \"HTTP/1.1 200 OK\"\n",
      "HTTP Request: POST https://api.openai.com/v1/chat/completions \"HTTP/1.1 200 OK\"\n"
     ]
    },
    {
     "name": "stdout",
     "output_type": "stream",
     "text": [
      "\n",
      "Debug - Ingredient: Greek yogurt\n",
      "Debug - GI Value: 18.0\n"
     ]
    },
    {
     "name": "stderr",
     "output_type": "stream",
     "text": [
      "HTTP Request: POST https://api.openai.com/v1/chat/completions \"HTTP/1.1 200 OK\"\n"
     ]
    },
    {
     "name": "stdout",
     "output_type": "stream",
     "text": [
      "Debug - Carb Content: 4.0\n",
      "Debug - Original Quantity: 2 cups\n",
      "Debug - Converted Quantity (g): 480.0\n",
      "Debug - Actual Carbs (g): 19.2\n",
      "Debug - Ingredient Load: 3.4559999999999995\n",
      "\n",
      "Debug - Ingredient: nuts\n",
      "Debug - GI Value: 18.0\n"
     ]
    },
    {
     "name": "stderr",
     "output_type": "stream",
     "text": [
      "HTTP Request: POST https://api.openai.com/v1/chat/completions \"HTTP/1.1 200 OK\"\n"
     ]
    },
    {
     "name": "stdout",
     "output_type": "stream",
     "text": [
      "Debug - Carb Content: 30.0\n",
      "Debug - Original Quantity: 1/4 cup\n",
      "Debug - Converted Quantity (g): 60.0\n",
      "Debug - Actual Carbs (g): 18.0\n",
      "Debug - Ingredient Load: 3.24\n",
      "\n",
      "Debug - Ingredient: berries\n",
      "Debug - GI Value: 18.0\n"
     ]
    },
    {
     "name": "stderr",
     "output_type": "stream",
     "text": [
      "HTTP Request: POST https://api.openai.com/v1/chat/completions \"HTTP/1.1 200 OK\"\n"
     ]
    },
    {
     "name": "stdout",
     "output_type": "stream",
     "text": [
      "Debug - Carb Content: 10.0\n",
      "Debug - Original Quantity: 1/4 cup\n",
      "Debug - Converted Quantity (g): 60.0\n",
      "Debug - Actual Carbs (g): 6.0\n",
      "Debug - Ingredient Load: 1.08\n",
      "\n",
      "Debug - Ingredient: honey\n",
      "Debug - GI Value: 18.0\n"
     ]
    },
    {
     "name": "stderr",
     "output_type": "stream",
     "text": [
      "HTTP Request: POST https://api.openai.com/v1/chat/completions \"HTTP/1.1 200 OK\"\n"
     ]
    },
    {
     "name": "stdout",
     "output_type": "stream",
     "text": [
      "Debug - Carb Content: 82.0\n",
      "Debug - Original Quantity: 1 tbsp\n",
      "Debug - Converted Quantity (g): 15.0\n",
      "Debug - Actual Carbs (g): 12.3\n",
      "Debug - Ingredient Load: 2.214\n",
      "\n",
      "Debug - Total Glycemic Load: 9.99\n",
      "\n",
      "Initial glycemic load for Greek Yogurt Parfait: 9.99\n",
      "Final glycemic load after all adjustments: 9.99\n"
     ]
    },
    {
     "name": "stderr",
     "output_type": "stream",
     "text": [
      "HTTP Request: POST https://api.anthropic.com/v1/messages \"HTTP/1.1 200 OK\"\n",
      "HTTP Request: POST https://api.anthropic.com/v1/messages \"HTTP/1.1 200 OK\"\n",
      "HTTP Request: POST https://api.openai.com/v1/chat/completions \"HTTP/1.1 200 OK\"\n"
     ]
    },
    {
     "name": "stdout",
     "output_type": "stream",
     "text": [
      "\n",
      "Debug - Ingredient: whole grain bread\n",
      "Debug - GI Value: 18.0\n"
     ]
    },
    {
     "name": "stderr",
     "output_type": "stream",
     "text": [
      "HTTP Request: POST https://api.openai.com/v1/chat/completions \"HTTP/1.1 200 OK\"\n"
     ]
    },
    {
     "name": "stdout",
     "output_type": "stream",
     "text": [
      "Debug - Carb Content: 40.0\n",
      "Debug - Original Quantity: 2 slices\n",
      "Debug - Converted Quantity (g): 2.0\n",
      "Debug - Actual Carbs (g): 0.8\n",
      "Debug - Ingredient Load: 0.14400000000000002\n",
      "\n",
      "Debug - Ingredient: avocado\n",
      "Debug - GI Value: 18.0\n"
     ]
    },
    {
     "name": "stderr",
     "output_type": "stream",
     "text": [
      "HTTP Request: POST https://api.openai.com/v1/chat/completions \"HTTP/1.1 200 OK\"\n"
     ]
    },
    {
     "name": "stdout",
     "output_type": "stream",
     "text": [
      "Debug - Carb Content: 8.5\n",
      "Debug - Original Quantity: 1 \n",
      "Debug - Converted Quantity (g): 1.0\n",
      "Debug - Actual Carbs (g): 0.085\n",
      "Debug - Ingredient Load: 0.015300000000000001\n",
      "\n",
      "Debug - Ingredient: eggs\n",
      "Debug - GI Value: 18.0\n"
     ]
    },
    {
     "name": "stderr",
     "output_type": "stream",
     "text": [
      "HTTP Request: POST https://api.openai.com/v1/chat/completions \"HTTP/1.1 200 OK\"\n"
     ]
    },
    {
     "name": "stdout",
     "output_type": "stream",
     "text": [
      "Debug - Carb Content: 0.0\n",
      "Debug - Original Quantity: 2 \n",
      "Debug - Converted Quantity (g): 2.0\n",
      "Debug - Actual Carbs (g): 0.0\n",
      "Debug - Ingredient Load: 0.0\n",
      "\n",
      "Debug - Ingredient: olive oil\n",
      "Debug - GI Value: 18.0\n"
     ]
    },
    {
     "name": "stderr",
     "output_type": "stream",
     "text": [
      "HTTP Request: POST https://api.openai.com/v1/chat/completions \"HTTP/1.1 200 OK\"\n"
     ]
    },
    {
     "name": "stdout",
     "output_type": "stream",
     "text": [
      "Debug - Carb Content: 0.0\n",
      "Debug - Original Quantity: 1 tbsp\n",
      "Debug - Converted Quantity (g): 15.0\n",
      "Debug - Actual Carbs (g): 0.0\n",
      "Debug - Ingredient Load: 0.0\n",
      "\n",
      "Debug - Ingredient: herbs\n",
      "Debug - GI Value: 18.0\n"
     ]
    },
    {
     "name": "stderr",
     "output_type": "stream",
     "text": [
      "HTTP Request: POST https://api.openai.com/v1/chat/completions \"HTTP/1.1 200 OK\"\n"
     ]
    },
    {
     "name": "stdout",
     "output_type": "stream",
     "text": [
      "Debug - Carb Content: 0.0\n",
      "Debug - Original Quantity: 1 tsp\n",
      "Debug - Converted Quantity (g): 5.0\n",
      "Debug - Actual Carbs (g): 0.0\n",
      "Debug - Ingredient Load: 0.0\n",
      "\n",
      "Debug - Total Glycemic Load: 0.15930000000000002\n",
      "\n",
      "Initial glycemic load for Avocado and Egg Toast: 0.15930000000000002\n",
      "Added 40 for high GI ingredients with low initial load in: Avocado and Egg Toast\n",
      "Glycemic load after high GI adjustment: 40.1593\n",
      "Final glycemic load after all adjustments: 40.1593\n"
     ]
    },
    {
     "name": "stderr",
     "output_type": "stream",
     "text": [
      "HTTP Request: POST https://api.anthropic.com/v1/messages \"HTTP/1.1 200 OK\"\n",
      "HTTP Request: POST https://api.anthropic.com/v1/messages \"HTTP/1.1 200 OK\"\n",
      "HTTP Request: POST https://api.openai.com/v1/chat/completions \"HTTP/1.1 200 OK\"\n"
     ]
    },
    {
     "name": "stdout",
     "output_type": "stream",
     "text": [
      "\n",
      "Debug - Ingredient: white rice\n",
      "Debug - GI Value: 18.0\n"
     ]
    },
    {
     "name": "stderr",
     "output_type": "stream",
     "text": [
      "HTTP Request: POST https://api.openai.com/v1/chat/completions \"HTTP/1.1 200 OK\"\n"
     ]
    },
    {
     "name": "stdout",
     "output_type": "stream",
     "text": [
      "Debug - Carb Content: 80.0\n",
      "Debug - Original Quantity: 2 cups\n",
      "Debug - Converted Quantity (g): 480.0\n",
      "Debug - Actual Carbs (g): 384.0\n",
      "Debug - Ingredient Load: 69.12\n",
      "\n",
      "Debug - Ingredient: sweet potato\n",
      "Debug - GI Value: 18.0\n"
     ]
    },
    {
     "name": "stderr",
     "output_type": "stream",
     "text": [
      "HTTP Request: POST https://api.openai.com/v1/chat/completions \"HTTP/1.1 200 OK\"\n"
     ]
    },
    {
     "name": "stdout",
     "output_type": "stream",
     "text": [
      "Debug - Carb Content: 20.0\n",
      "Debug - Original Quantity: 1 large\n",
      "Debug - Converted Quantity (g): 1.0\n",
      "Debug - Actual Carbs (g): 0.2\n",
      "Debug - Ingredient Load: 0.036000000000000004\n",
      "\n",
      "Debug - Ingredient: honey\n",
      "Debug - GI Value: 18.0\n"
     ]
    },
    {
     "name": "stderr",
     "output_type": "stream",
     "text": [
      "HTTP Request: POST https://api.openai.com/v1/chat/completions \"HTTP/1.1 200 OK\"\n"
     ]
    },
    {
     "name": "stdout",
     "output_type": "stream",
     "text": [
      "Debug - Carb Content: 82.0\n",
      "Debug - Original Quantity: 2 tbsp\n",
      "Debug - Converted Quantity (g): 30.0\n",
      "Debug - Actual Carbs (g): 24.6\n",
      "Debug - Ingredient Load: 4.428\n",
      "\n",
      "Debug - Ingredient: butter\n",
      "Debug - GI Value: 18.0\n"
     ]
    },
    {
     "name": "stderr",
     "output_type": "stream",
     "text": [
      "HTTP Request: POST https://api.openai.com/v1/chat/completions \"HTTP/1.1 200 OK\"\n"
     ]
    },
    {
     "name": "stdout",
     "output_type": "stream",
     "text": [
      "Debug - Carb Content: 0.0\n",
      "Debug - Original Quantity: 1 tbsp\n",
      "Debug - Converted Quantity (g): 15.0\n",
      "Debug - Actual Carbs (g): 0.0\n",
      "Debug - Ingredient Load: 0.0\n",
      "\n",
      "Debug - Total Glycemic Load: 73.584\n",
      "\n",
      "Initial glycemic load for White Rice and Sweet Potato Bowl: 73.584\n",
      "Glycemic load after high GI adjustment: 73.584\n",
      "Final glycemic load after all adjustments: 73.584\n"
     ]
    },
    {
     "name": "stderr",
     "output_type": "stream",
     "text": [
      "HTTP Request: POST https://api.anthropic.com/v1/messages \"HTTP/1.1 200 OK\"\n",
      "HTTP Request: POST https://api.anthropic.com/v1/messages \"HTTP/1.1 200 OK\"\n",
      "HTTP Request: POST https://api.openai.com/v1/chat/completions \"HTTP/1.1 200 OK\"\n"
     ]
    },
    {
     "name": "stdout",
     "output_type": "stream",
     "text": [
      "\n",
      "Debug - Ingredient: white pasta\n",
      "Debug - GI Value: 18.0\n"
     ]
    },
    {
     "name": "stderr",
     "output_type": "stream",
     "text": [
      "HTTP Request: POST https://api.openai.com/v1/chat/completions \"HTTP/1.1 200 OK\"\n"
     ]
    },
    {
     "name": "stdout",
     "output_type": "stream",
     "text": [
      "Debug - Carb Content: 75.0\n",
      "Debug - Original Quantity: 200 g\n",
      "Debug - Converted Quantity (g): 200.0\n",
      "Debug - Actual Carbs (g): 150.0\n",
      "Debug - Ingredient Load: 27.0\n",
      "\n",
      "Debug - Ingredient: white flour\n",
      "Debug - GI Value: 18.0\n"
     ]
    },
    {
     "name": "stderr",
     "output_type": "stream",
     "text": [
      "HTTP Request: POST https://api.openai.com/v1/chat/completions \"HTTP/1.1 200 OK\"\n"
     ]
    },
    {
     "name": "stdout",
     "output_type": "stream",
     "text": [
      "Debug - Carb Content: 76.0\n",
      "Debug - Original Quantity: 1 cup\n",
      "Debug - Converted Quantity (g): 240.0\n",
      "Debug - Actual Carbs (g): 182.4\n",
      "Debug - Ingredient Load: 32.832\n",
      "\n",
      "Debug - Ingredient: milk\n",
      "Debug - GI Value: 18.0\n"
     ]
    },
    {
     "name": "stderr",
     "output_type": "stream",
     "text": [
      "HTTP Request: POST https://api.openai.com/v1/chat/completions \"HTTP/1.1 200 OK\"\n"
     ]
    },
    {
     "name": "stdout",
     "output_type": "stream",
     "text": [
      "Debug - Carb Content: 5.0\n",
      "Debug - Original Quantity: 2 cups\n",
      "Debug - Converted Quantity (g): 480.0\n",
      "Debug - Actual Carbs (g): 24.0\n",
      "Debug - Ingredient Load: 4.32\n",
      "\n",
      "Debug - Ingredient: butter\n",
      "Debug - GI Value: 18.0\n"
     ]
    },
    {
     "name": "stderr",
     "output_type": "stream",
     "text": [
      "HTTP Request: POST https://api.openai.com/v1/chat/completions \"HTTP/1.1 200 OK\"\n"
     ]
    },
    {
     "name": "stdout",
     "output_type": "stream",
     "text": [
      "Debug - Carb Content: 0.0\n",
      "Debug - Original Quantity: 2 tbsp\n",
      "Debug - Converted Quantity (g): 30.0\n",
      "Debug - Actual Carbs (g): 0.0\n",
      "Debug - Ingredient Load: 0.0\n",
      "\n",
      "Debug - Ingredient: parmesan cheese\n",
      "Debug - GI Value: 18.0\n"
     ]
    },
    {
     "name": "stderr",
     "output_type": "stream",
     "text": [
      "HTTP Request: POST https://api.openai.com/v1/chat/completions \"HTTP/1.1 200 OK\"\n"
     ]
    },
    {
     "name": "stdout",
     "output_type": "stream",
     "text": [
      "Debug - Carb Content: 0.0\n",
      "Debug - Original Quantity: 1/4 cup\n",
      "Debug - Converted Quantity (g): 60.0\n",
      "Debug - Actual Carbs (g): 0.0\n",
      "Debug - Ingredient Load: 0.0\n",
      "\n",
      "Debug - Total Glycemic Load: 64.152\n",
      "\n",
      "Initial glycemic load for Pasta with White Sauce: 64.152\n",
      "Glycemic load after high GI adjustment: 64.152\n",
      "Final glycemic load after all adjustments: 64.152\n"
     ]
    },
    {
     "name": "stderr",
     "output_type": "stream",
     "text": [
      "HTTP Request: POST https://api.anthropic.com/v1/messages \"HTTP/1.1 200 OK\"\n",
      "HTTP Request: POST https://api.anthropic.com/v1/messages \"HTTP/1.1 200 OK\"\n",
      "HTTP Request: POST https://api.openai.com/v1/chat/completions \"HTTP/1.1 200 OK\"\n"
     ]
    },
    {
     "name": "stdout",
     "output_type": "stream",
     "text": [
      "\n",
      "Debug - Ingredient: potatoes\n",
      "Debug - GI Value: 18.0\n"
     ]
    },
    {
     "name": "stderr",
     "output_type": "stream",
     "text": [
      "HTTP Request: POST https://api.openai.com/v1/chat/completions \"HTTP/1.1 200 OK\"\n"
     ]
    },
    {
     "name": "stdout",
     "output_type": "stream",
     "text": [
      "Debug - Carb Content: 17.0\n",
      "Debug - Original Quantity: 4 large\n",
      "Debug - Converted Quantity (g): 4.0\n",
      "Debug - Actual Carbs (g): 0.68\n",
      "Debug - Ingredient Load: 0.12240000000000001\n",
      "\n",
      "Debug - Ingredient: butter\n",
      "Debug - GI Value: 18.0\n"
     ]
    },
    {
     "name": "stderr",
     "output_type": "stream",
     "text": [
      "HTTP Request: POST https://api.openai.com/v1/chat/completions \"HTTP/1.1 200 OK\"\n"
     ]
    },
    {
     "name": "stdout",
     "output_type": "stream",
     "text": [
      "Debug - Carb Content: 0.0\n",
      "Debug - Original Quantity: 1/4 cup\n",
      "Debug - Converted Quantity (g): 60.0\n",
      "Debug - Actual Carbs (g): 0.0\n",
      "Debug - Ingredient Load: 0.0\n",
      "\n",
      "Debug - Ingredient: milk\n",
      "Debug - GI Value: 18.0\n"
     ]
    },
    {
     "name": "stderr",
     "output_type": "stream",
     "text": [
      "HTTP Request: POST https://api.openai.com/v1/chat/completions \"HTTP/1.1 200 OK\"\n"
     ]
    },
    {
     "name": "stdout",
     "output_type": "stream",
     "text": [
      "Debug - Carb Content: 5.0\n",
      "Debug - Original Quantity: 1/2 cup\n",
      "Debug - Converted Quantity (g): 120.0\n",
      "Debug - Actual Carbs (g): 6.0\n",
      "Debug - Ingredient Load: 1.08\n",
      "\n",
      "Debug - Ingredient: white flour\n",
      "Debug - GI Value: 18.0\n"
     ]
    },
    {
     "name": "stderr",
     "output_type": "stream",
     "text": [
      "HTTP Request: POST https://api.openai.com/v1/chat/completions \"HTTP/1.1 200 OK\"\n"
     ]
    },
    {
     "name": "stdout",
     "output_type": "stream",
     "text": [
      "Debug - Carb Content: 76.0\n",
      "Debug - Original Quantity: 2 tbsp\n",
      "Debug - Converted Quantity (g): 30.0\n",
      "Debug - Actual Carbs (g): 22.8\n",
      "Debug - Ingredient Load: 4.104\n",
      "\n",
      "Debug - Ingredient: beef broth\n",
      "Debug - GI Value: 18.0\n"
     ]
    },
    {
     "name": "stderr",
     "output_type": "stream",
     "text": [
      "HTTP Request: POST https://api.openai.com/v1/chat/completions \"HTTP/1.1 200 OK\"\n"
     ]
    },
    {
     "name": "stdout",
     "output_type": "stream",
     "text": [
      "Debug - Carb Content: 0.0\n",
      "Debug - Original Quantity: 1 cup\n",
      "Debug - Converted Quantity (g): 240.0\n",
      "Debug - Actual Carbs (g): 0.0\n",
      "Debug - Ingredient Load: 0.0\n",
      "\n",
      "Debug - Total Glycemic Load: 5.3064\n",
      "\n",
      "Initial glycemic load for Mashed Potatoes with Gravy: 5.3064\n",
      "Added 40 for high GI ingredients with low initial load in: Mashed Potatoes with Gravy\n",
      "Glycemic load after high GI adjustment: 45.3064\n",
      "Final glycemic load after all adjustments: 45.3064\n"
     ]
    },
    {
     "name": "stderr",
     "output_type": "stream",
     "text": [
      "HTTP Request: POST https://api.anthropic.com/v1/messages \"HTTP/1.1 200 OK\"\n",
      "HTTP Request: POST https://api.anthropic.com/v1/messages \"HTTP/1.1 200 OK\"\n",
      "HTTP Request: POST https://api.openai.com/v1/chat/completions \"HTTP/1.1 200 OK\"\n"
     ]
    },
    {
     "name": "stdout",
     "output_type": "stream",
     "text": [
      "\n",
      "Debug - Ingredient: white bread\n",
      "Debug - GI Value: 18.0\n"
     ]
    },
    {
     "name": "stderr",
     "output_type": "stream",
     "text": [
      "HTTP Request: POST https://api.openai.com/v1/chat/completions \"HTTP/1.1 200 OK\"\n"
     ]
    },
    {
     "name": "stdout",
     "output_type": "stream",
     "text": [
      "Debug - Carb Content: 49.0\n",
      "Debug - Original Quantity: 4 slices\n",
      "Debug - Converted Quantity (g): 4.0\n",
      "Debug - Actual Carbs (g): 1.96\n",
      "Debug - Ingredient Load: 0.3528\n",
      "\n",
      "Debug - Ingredient: mayonnaise\n",
      "Debug - GI Value: 18.0\n"
     ]
    },
    {
     "name": "stderr",
     "output_type": "stream",
     "text": [
      "HTTP Request: POST https://api.openai.com/v1/chat/completions \"HTTP/1.1 200 OK\"\n"
     ]
    },
    {
     "name": "stdout",
     "output_type": "stream",
     "text": [
      "Debug - Carb Content: 0.0\n",
      "Debug - Original Quantity: 2 tbsp\n",
      "Debug - Converted Quantity (g): 30.0\n",
      "Debug - Actual Carbs (g): 0.0\n",
      "Debug - Ingredient Load: 0.0\n",
      "\n",
      "Debug - Ingredient: processed cheese\n",
      "Debug - GI Value: 18.0\n"
     ]
    },
    {
     "name": "stderr",
     "output_type": "stream",
     "text": [
      "HTTP Request: POST https://api.openai.com/v1/chat/completions \"HTTP/1.1 200 OK\"\n"
     ]
    },
    {
     "name": "stdout",
     "output_type": "stream",
     "text": [
      "Debug - Carb Content: 1.0\n",
      "Debug - Original Quantity: 2 slices\n",
      "Debug - Converted Quantity (g): 2.0\n",
      "Debug - Actual Carbs (g): 0.02\n",
      "Debug - Ingredient Load: 0.0036\n",
      "\n",
      "Debug - Ingredient: deli meat\n",
      "Debug - GI Value: 18.0\n"
     ]
    },
    {
     "name": "stderr",
     "output_type": "stream",
     "text": [
      "HTTP Request: POST https://api.openai.com/v1/chat/completions \"HTTP/1.1 200 OK\"\n"
     ]
    },
    {
     "name": "stdout",
     "output_type": "stream",
     "text": [
      "Debug - Carb Content: 0.0\n",
      "Debug - Original Quantity: 2 slices\n",
      "Debug - Converted Quantity (g): 2.0\n",
      "Debug - Actual Carbs (g): 0.0\n",
      "Debug - Ingredient Load: 0.0\n",
      "\n",
      "Debug - Total Glycemic Load: 0.3564\n",
      "\n",
      "Initial glycemic load for White Bread Sandwich: 0.3564\n",
      "Added 40 for high GI ingredients with low initial load in: White Bread Sandwich\n",
      "Glycemic load after high GI adjustment: 40.3564\n",
      "Final glycemic load after all adjustments: 40.3564\n"
     ]
    },
    {
     "name": "stderr",
     "output_type": "stream",
     "text": [
      "HTTP Request: POST https://api.anthropic.com/v1/messages \"HTTP/1.1 200 OK\"\n",
      "HTTP Request: POST https://api.anthropic.com/v1/messages \"HTTP/1.1 200 OK\"\n",
      "HTTP Request: POST https://api.openai.com/v1/chat/completions \"HTTP/1.1 200 OK\"\n"
     ]
    },
    {
     "name": "stdout",
     "output_type": "stream",
     "text": [
      "\n",
      "Debug - Ingredient: corn flakes\n",
      "Debug - GI Value: 18.0\n"
     ]
    },
    {
     "name": "stderr",
     "output_type": "stream",
     "text": [
      "HTTP Request: POST https://api.openai.com/v1/chat/completions \"HTTP/1.1 200 OK\"\n"
     ]
    },
    {
     "name": "stdout",
     "output_type": "stream",
     "text": [
      "Debug - Carb Content: 84.0\n",
      "Debug - Original Quantity: 2 cups\n",
      "Debug - Converted Quantity (g): 480.0\n",
      "Debug - Actual Carbs (g): 403.2\n",
      "Debug - Ingredient Load: 72.576\n",
      "\n",
      "Debug - Ingredient: whole milk\n",
      "Debug - GI Value: 18.0\n"
     ]
    },
    {
     "name": "stderr",
     "output_type": "stream",
     "text": [
      "HTTP Request: POST https://api.openai.com/v1/chat/completions \"HTTP/1.1 200 OK\"\n"
     ]
    },
    {
     "name": "stdout",
     "output_type": "stream",
     "text": [
      "Debug - Carb Content: 5.0\n",
      "Debug - Original Quantity: 1 cup\n",
      "Debug - Converted Quantity (g): 240.0\n",
      "Debug - Actual Carbs (g): 12.0\n",
      "Debug - Ingredient Load: 2.16\n",
      "\n",
      "Debug - Ingredient: sugar\n",
      "Debug - GI Value: 18.0\n"
     ]
    },
    {
     "name": "stderr",
     "output_type": "stream",
     "text": [
      "HTTP Request: POST https://api.openai.com/v1/chat/completions \"HTTP/1.1 200 OK\"\n"
     ]
    },
    {
     "name": "stdout",
     "output_type": "stream",
     "text": [
      "Debug - Carb Content: 100.0\n",
      "Debug - Original Quantity: 2 tbsp\n",
      "Debug - Converted Quantity (g): 30.0\n",
      "Debug - Actual Carbs (g): 30.0\n",
      "Debug - Ingredient Load: 5.4\n",
      "\n",
      "Debug - Ingredient: banana\n",
      "Debug - GI Value: 18.0\n"
     ]
    },
    {
     "name": "stderr",
     "output_type": "stream",
     "text": [
      "HTTP Request: POST https://api.openai.com/v1/chat/completions \"HTTP/1.1 200 OK\"\n"
     ]
    },
    {
     "name": "stdout",
     "output_type": "stream",
     "text": [
      "Debug - Carb Content: 23.0\n",
      "Debug - Original Quantity: 1 \n",
      "Debug - Converted Quantity (g): 1.0\n",
      "Debug - Actual Carbs (g): 0.23\n",
      "Debug - Ingredient Load: 0.041400000000000006\n",
      "\n",
      "Debug - Total Glycemic Load: 80.17739999999999\n",
      "\n",
      "Initial glycemic load for Breakfast Cereal Bowl: 80.17739999999999\n",
      "Applied 10% reduction for load > 80: 80.17739999999999 -> 72.15965999999999\n",
      "Final glycemic load after all adjustments: 72.15965999999999\n"
     ]
    },
    {
     "name": "stderr",
     "output_type": "stream",
     "text": [
      "HTTP Request: POST https://api.anthropic.com/v1/messages \"HTTP/1.1 200 OK\"\n",
      "HTTP Request: POST https://api.anthropic.com/v1/messages \"HTTP/1.1 200 OK\"\n"
     ]
    },
    {
     "data": {
      "text/html": [
       "<div>\n",
       "<style scoped>\n",
       "    .dataframe tbody tr th:only-of-type {\n",
       "        vertical-align: middle;\n",
       "    }\n",
       "\n",
       "    .dataframe tbody tr th {\n",
       "        vertical-align: top;\n",
       "    }\n",
       "\n",
       "    .dataframe thead th {\n",
       "        text-align: right;\n",
       "    }\n",
       "</style>\n",
       "<table border=\"1\" class=\"dataframe\">\n",
       "  <thead>\n",
       "    <tr style=\"text-align: right;\">\n",
       "      <th></th>\n",
       "      <th>recipe</th>\n",
       "      <th>category</th>\n",
       "      <th>our_prediction</th>\n",
       "      <th>expert_assessment</th>\n",
       "      <th>prediction_difference</th>\n",
       "      <th>rmse</th>\n",
       "    </tr>\n",
       "  </thead>\n",
       "  <tbody>\n",
       "    <tr>\n",
       "      <th>0</th>\n",
       "      <td>Basic Brown Rice Bowl</td>\n",
       "      <td>Simple</td>\n",
       "      <td>55.47530</td>\n",
       "      <td>52.50</td>\n",
       "      <td>2.97530</td>\n",
       "      <td>8.852410</td>\n",
       "    </tr>\n",
       "    <tr>\n",
       "      <th>1</th>\n",
       "      <td>Simple Lentil Soup</td>\n",
       "      <td>Simple</td>\n",
       "      <td>28.09260</td>\n",
       "      <td>29.00</td>\n",
       "      <td>0.90740</td>\n",
       "      <td>0.823375</td>\n",
       "    </tr>\n",
       "    <tr>\n",
       "      <th>2</th>\n",
       "      <td>Basic Quinoa Salad</td>\n",
       "      <td>Simple</td>\n",
       "      <td>29.23382</td>\n",
       "      <td>44.00</td>\n",
       "      <td>14.76618</td>\n",
       "      <td>218.040072</td>\n",
       "    </tr>\n",
       "    <tr>\n",
       "      <th>3</th>\n",
       "      <td>Simple Tofu Stir Fry</td>\n",
       "      <td>Simple</td>\n",
       "      <td>40.26600</td>\n",
       "      <td>45.00</td>\n",
       "      <td>4.73400</td>\n",
       "      <td>22.410756</td>\n",
       "    </tr>\n",
       "    <tr>\n",
       "      <th>4</th>\n",
       "      <td>Basic Bean Bowl</td>\n",
       "      <td>Simple</td>\n",
       "      <td>45.26730</td>\n",
       "      <td>45.00</td>\n",
       "      <td>0.26730</td>\n",
       "      <td>0.071449</td>\n",
       "    </tr>\n",
       "    <tr>\n",
       "      <th>0</th>\n",
       "      <td>White Rice and Sweet Potato Bowl</td>\n",
       "      <td>High GI</td>\n",
       "      <td>73.58400</td>\n",
       "      <td>64.00</td>\n",
       "      <td>9.58400</td>\n",
       "      <td>91.853056</td>\n",
       "    </tr>\n",
       "    <tr>\n",
       "      <th>1</th>\n",
       "      <td>Pasta with White Sauce</td>\n",
       "      <td>High GI</td>\n",
       "      <td>64.15200</td>\n",
       "      <td>65.00</td>\n",
       "      <td>0.84800</td>\n",
       "      <td>0.719104</td>\n",
       "    </tr>\n",
       "    <tr>\n",
       "      <th>2</th>\n",
       "      <td>Mashed Potatoes with Gravy</td>\n",
       "      <td>High GI</td>\n",
       "      <td>45.30640</td>\n",
       "      <td>66.50</td>\n",
       "      <td>21.19360</td>\n",
       "      <td>449.168681</td>\n",
       "    </tr>\n",
       "    <tr>\n",
       "      <th>3</th>\n",
       "      <td>White Bread Sandwich</td>\n",
       "      <td>High GI</td>\n",
       "      <td>40.35640</td>\n",
       "      <td>72.50</td>\n",
       "      <td>32.14360</td>\n",
       "      <td>1033.211021</td>\n",
       "    </tr>\n",
       "    <tr>\n",
       "      <th>4</th>\n",
       "      <td>Breakfast Cereal Bowl</td>\n",
       "      <td>High GI</td>\n",
       "      <td>72.15966</td>\n",
       "      <td>68.00</td>\n",
       "      <td>4.15966</td>\n",
       "      <td>17.302771</td>\n",
       "    </tr>\n",
       "    <tr>\n",
       "      <th>0</th>\n",
       "      <td>Mediterranean Salad</td>\n",
       "      <td>Low GI</td>\n",
       "      <td>3.84822</td>\n",
       "      <td>15.00</td>\n",
       "      <td>11.15178</td>\n",
       "      <td>124.362197</td>\n",
       "    </tr>\n",
       "    <tr>\n",
       "      <th>1</th>\n",
       "      <td>Grilled Salmon with Vegetables</td>\n",
       "      <td>Low GI</td>\n",
       "      <td>6.10398</td>\n",
       "      <td>10.00</td>\n",
       "      <td>3.89602</td>\n",
       "      <td>15.178972</td>\n",
       "    </tr>\n",
       "    <tr>\n",
       "      <th>2</th>\n",
       "      <td>Lentil and Spinach Curry</td>\n",
       "      <td>Low GI</td>\n",
       "      <td>10.66842</td>\n",
       "      <td>30.50</td>\n",
       "      <td>19.83158</td>\n",
       "      <td>393.291565</td>\n",
       "    </tr>\n",
       "    <tr>\n",
       "      <th>3</th>\n",
       "      <td>Greek Yogurt Parfait</td>\n",
       "      <td>Low GI</td>\n",
       "      <td>9.99000</td>\n",
       "      <td>22.50</td>\n",
       "      <td>12.51000</td>\n",
       "      <td>156.500100</td>\n",
       "    </tr>\n",
       "    <tr>\n",
       "      <th>4</th>\n",
       "      <td>Avocado and Egg Toast</td>\n",
       "      <td>Low GI</td>\n",
       "      <td>40.15930</td>\n",
       "      <td>43.75</td>\n",
       "      <td>3.59070</td>\n",
       "      <td>12.893126</td>\n",
       "    </tr>\n",
       "  </tbody>\n",
       "</table>\n",
       "</div>"
      ],
      "text/plain": [
       "                             recipe category  our_prediction  \\\n",
       "0             Basic Brown Rice Bowl   Simple        55.47530   \n",
       "1                Simple Lentil Soup   Simple        28.09260   \n",
       "2                Basic Quinoa Salad   Simple        29.23382   \n",
       "3              Simple Tofu Stir Fry   Simple        40.26600   \n",
       "4                   Basic Bean Bowl   Simple        45.26730   \n",
       "0  White Rice and Sweet Potato Bowl  High GI        73.58400   \n",
       "1            Pasta with White Sauce  High GI        64.15200   \n",
       "2        Mashed Potatoes with Gravy  High GI        45.30640   \n",
       "3              White Bread Sandwich  High GI        40.35640   \n",
       "4             Breakfast Cereal Bowl  High GI        72.15966   \n",
       "0               Mediterranean Salad   Low GI         3.84822   \n",
       "1    Grilled Salmon with Vegetables   Low GI         6.10398   \n",
       "2          Lentil and Spinach Curry   Low GI        10.66842   \n",
       "3              Greek Yogurt Parfait   Low GI         9.99000   \n",
       "4             Avocado and Egg Toast   Low GI        40.15930   \n",
       "\n",
       "   expert_assessment  prediction_difference         rmse  \n",
       "0              52.50                2.97530     8.852410  \n",
       "1              29.00                0.90740     0.823375  \n",
       "2              44.00               14.76618   218.040072  \n",
       "3              45.00                4.73400    22.410756  \n",
       "4              45.00                0.26730     0.071449  \n",
       "0              64.00                9.58400    91.853056  \n",
       "1              65.00                0.84800     0.719104  \n",
       "2              66.50               21.19360   449.168681  \n",
       "3              72.50               32.14360  1033.211021  \n",
       "4              68.00                4.15966    17.302771  \n",
       "0              15.00               11.15178   124.362197  \n",
       "1              10.00                3.89602    15.178972  \n",
       "2              30.50               19.83158   393.291565  \n",
       "3              22.50               12.51000   156.500100  \n",
       "4              43.75                3.59070    12.893126  "
      ]
     },
     "execution_count": 6,
     "metadata": {},
     "output_type": "execute_result"
    }
   ],
   "source": [
    "# Test each category\n",
    "simple_results = test_category(SIMPLE_RECIPES, \"Simple\")\n",
    "low_gi_results = test_category(LOW_GI_RECIPES, \"Low GI\")\n",
    "high_gi_results = test_category(HIGH_GI_RECIPES, \"High GI\")\n",
    "\n",
    "# Combine results\n",
    "all_results = pd.concat([simple_results, high_gi_results, low_gi_results])\n",
    "\n",
    "# Calculate RMSE for each recipe\n",
    "all_results['rmse'] = all_results['prediction_difference'] ** 2\n",
    "\n",
    "# Display results\n",
    "all_results"
   ]
  },
  {
   "cell_type": "markdown",
   "metadata": {},
   "source": [
    "## Visualize Results"
   ]
  },
  {
   "cell_type": "code",
   "execution_count": 7,
   "metadata": {},
   "outputs": [
    {
     "data": {
      "image/png": "[encoded data removed]",
      "text/plain": [
       "<Figure size 800x600 with 1 Axes>"
      ]
     },
     "metadata": {},
     "output_type": "display_data"
    },
    {
     "data": {
      "image/png": "[encoded data removed]",
      "text/plain": [
       "<Figure size 800x600 with 1 Axes>"
      ]
     },
     "metadata": {},
     "output_type": "display_data"
    },
    {
     "data": {
      "image/png": "[encoded data removed]",
      "text/plain": [
       "<Figure size 800x600 with 1 Axes>"
      ]
     },
     "metadata": {},
     "output_type": "display_data"
    }
   ],
   "source": [
    "# --- Plot 1: Box plot of prediction differences by category ---\n",
    "plt.figure(figsize=(8, 6))\n",
    "sns.boxplot(x='category', y='prediction_difference', data=all_results)\n",
    "plt.title('Prediction Differences by Category')\n",
    "plt.xticks(rotation=45)\n",
    "plt.ylabel('Absolute Difference')\n",
    "plt.tight_layout()\n",
    "plt.savefig(f'{plots_dir}/box_plot_prediction_difference.png')\n",
    "plt.show()\n",
    "\n",
    "# --- Plot 2: Scatter plot of predictions vs expert assessments ---\n",
    "plt.figure(figsize=(8, 6))\n",
    "sns.scatterplot(data=all_results, x='our_prediction', y='expert_assessment', hue='category')\n",
    "max_val = max(all_results['our_prediction'].max(), all_results['expert_assessment'].max())\n",
    "plt.plot([0, max_val], [0, max_val], 'k--', alpha=0.3)  # Diagonal line\n",
    "plt.title('Our Predictions vs Expert Assessments')\n",
    "plt.xlabel('Our Prediction')\n",
    "plt.ylabel('Expert Assessment')\n",
    "plt.tight_layout()\n",
    "plt.savefig(f'{plots_dir}/scatter_plot_predictions_vs_experts.png')\n",
    "plt.show()\n",
    "\n",
    "# --- Plot 3: Box plot of RMSE by category ---\n",
    "plt.figure(figsize=(8, 6))\n",
    "sns.boxplot(x='category', y='rmse', data=all_results)\n",
    "plt.title('RMSE by Category')\n",
    "plt.xticks(rotation=45)\n",
    "plt.ylabel('RMSE')\n",
    "plt.tight_layout()\n",
    "plt.savefig(f'{plots_dir}/box_plot_rmse.png')\n",
    "plt.show()"
   ]
  },
  {
   "cell_type": "markdown",
   "metadata": {},
   "source": [
    "## Analysis"
   ]
  },
  {
   "cell_type": "code",
   "execution_count": 8,
   "metadata": {},
   "outputs": [
    {
     "name": "stdout",
     "output_type": "stream",
     "text": [
      "\n",
      "Overall Statistics:\n",
      "=================\n",
      "Total recipes tested: 15\n",
      "Mean prediction difference: 9.50\n",
      "Root Mean Square Error (RMSE): 13.02\n",
      "Standard deviation: 9.22\n",
      "Max difference: 32.14\n",
      "Min difference: 0.27\n",
      "\n",
      "Category-wise Statistics:\n",
      "======================\n",
      "\n",
      "Simple:\n",
      "Number of recipes: 5\n",
      "Mean difference: 4.73\n",
      "RMSE: 7.07\n",
      "Standard deviation: 5.88\n",
      "\n",
      "High GI:\n",
      "Number of recipes: 5\n",
      "Mean difference: 13.59\n",
      "RMSE: 17.85\n",
      "Standard deviation: 12.94\n",
      "\n",
      "Low GI:\n",
      "Number of recipes: 5\n",
      "Mean difference: 10.20\n",
      "RMSE: 11.85\n",
      "Standard deviation: 6.75\n"
     ]
    }
   ],
   "source": [
    "print(\"\\nOverall Statistics:\")\n",
    "print(\"=================\")\n",
    "print(f\"Total recipes tested: {len(all_results)}\")\n",
    "print(f\"Mean prediction difference: {all_results['prediction_difference'].mean():.2f}\")\n",
    "print(f\"Root Mean Square Error (RMSE): {np.sqrt(all_results['rmse'].mean()):.2f}\")\n",
    "print(f\"Standard deviation: {all_results['prediction_difference'].std():.2f}\")\n",
    "print(f\"Max difference: {all_results['prediction_difference'].max():.2f}\")\n",
    "print(f\"Min difference: {all_results['prediction_difference'].min():.2f}\")\n",
    "\n",
    "print(\"\\nCategory-wise Statistics:\")\n",
    "print(\"======================\")\n",
    "for category in ['Simple', 'High GI', 'Low GI']:\n",
    "    cat_results = all_results[all_results['category'] == category]\n",
    "    print(f\"\\n{category}:\")\n",
    "    print(f\"Number of recipes: {len(cat_results)}\")\n",
    "    print(f\"Mean difference: {cat_results['prediction_difference'].mean():.2f}\")\n",
    "    print(f\"RMSE: {np.sqrt(cat_results['rmse'].mean()):.2f}\")\n",
    "    print(f\"Standard deviation: {cat_results['prediction_difference'].std():.2f}\")"
   ]
  },
  {
   "cell_type": "markdown",
   "metadata": {},
   "source": [
    "## Export Results"
   ]
  },
  {
   "cell_type": "code",
   "execution_count": 9,
   "metadata": {},
   "outputs": [
    {
     "name": "stdout",
     "output_type": "stream",
     "text": [
      "\n",
      "Results have been saved to test_results/finetuned/20250601_104949\n"
     ]
    }
   ],
   "source": [
    "# Save detailed results to CSV\n",
    "all_results.to_csv(f'{data_dir}/finetuned_model_results.csv', index=False)\n",
    "\n",
    "# Save summary statistics\n",
    "summary_stats = {\n",
    "    'overall': {\n",
    "        'total_recipes': len(all_results),\n",
    "        'mean_difference': all_results['prediction_difference'].mean(),\n",
    "        'rmse': np.sqrt(all_results['rmse'].mean()),\n",
    "        'std_difference': all_results['prediction_difference'].std(),\n",
    "        'max_difference': all_results['prediction_difference'].max(),\n",
    "        'min_difference': all_results['prediction_difference'].min()\n",
    "    },\n",
    "    'by_category': {\n",
    "        category: {\n",
    "            'count': len(all_results[all_results['category'] == category]),\n",
    "            'mean_difference': all_results[all_results['category'] == category]['prediction_difference'].mean(),\n",
    "            'rmse': np.sqrt(all_results[all_results['category'] == category]['rmse'].mean()),\n",
    "            'std_difference': all_results[all_results['category'] == category]['prediction_difference'].std()\n",
    "        }\n",
    "        for category in ['Simple', 'High GI', 'Low GI']\n",
    "    }\n",
    "}\n",
    "\n",
    "with open(f'{data_dir}/summary_stats.json', 'w') as f:\n",
    "    json.dump(summary_stats, f, indent=4)\n",
    "\n",
    "print(f\"\\nResults have been saved to {results_dir}\")"
   ]
  },
  {
   "cell_type": "code",
   "execution_count": null,
   "metadata": {},
   "outputs": [],
   "source": []
  },
  {
   "cell_type": "code",
   "execution_count": null,
   "metadata": {},
   "outputs": [],
   "source": []
  }
 ],
 "metadata": {
  "kernelspec": {
   "display_name": "llms",
   "language": "python",
   "name": "python3"
  },
  "language_info": {
   "codemirror_mode": {
    "name": "ipython",
    "version": 3
   },
   "file_extension": ".py",
   "mimetype": "text/x-python",
   "name": "python",
   "nbconvert_exporter": "python",
   "pygments_lexer": "ipython3",
   "version": "3.11.12"
  }
 },
 "nbformat": 4,
 "nbformat_minor": 4
}
