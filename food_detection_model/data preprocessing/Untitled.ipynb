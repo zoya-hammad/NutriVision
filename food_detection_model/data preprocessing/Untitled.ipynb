{
 "cells": [
  {
   "cell_type": "code",
   "execution_count": 1,
   "id": "625ab729-b3dc-410a-bd9d-d88be684ef9e",
   "metadata": {},
   "outputs": [],
   "source": [
    "# init "
   ]
  },
  {
   "cell_type": "code",
   "execution_count": null,
   "id": "93083347-4a80-4ab2-a4af-c6b992085459",
   "metadata": {},
   "outputs": [],
   "source": []
  }
 ],
 "metadata": {
  "kernelspec": {
   "display_name": "Python 3 (ipykernel)",
   "language": "python",
   "name": "python3"
  },
  "language_info": {
   "codemirror_mode": {
    "name": "ipython",
    "version": 3
   },
   "file_extension": ".py",
   "mimetype": "text/x-python",
   "name": "python",
   "nbconvert_exporter": "python",
   "pygments_lexer": "ipython3",
   "version": "3.12.2"
  }
 },
 "nbformat": 4,
 "nbformat_minor": 5
}
